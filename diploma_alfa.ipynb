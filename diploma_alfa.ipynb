{
  "cells": [
    {
      "cell_type": "code",
      "source": [
        "!pip install catboost\n",
        "!pip install deepchecks\n",
        "!pip install optuna"
      ],
      "metadata": {
        "colab": {
          "base_uri": "https://localhost:8080/",
          "height": 1000
        },
        "id": "59TSxNVggNjg",
        "outputId": "feeab52d-b277-4d31-fc87-5837465151fe"
      },
      "execution_count": null,
      "outputs": [
        {
          "output_type": "stream",
          "name": "stdout",
          "text": [
            "Collecting catboost\n",
            "  Downloading catboost-1.2.3-cp310-cp310-manylinux2014_x86_64.whl (98.5 MB)\n",
            "\u001b[2K     \u001b[90m━━━━━━━━━━━━━━━━━━━━━━━━━━━━━━━━━━━━━━━━\u001b[0m \u001b[32m98.5/98.5 MB\u001b[0m \u001b[31m6.1 MB/s\u001b[0m eta \u001b[36m0:00:00\u001b[0m\n",
            "\u001b[?25hRequirement already satisfied: graphviz in /usr/local/lib/python3.10/dist-packages (from catboost) (0.20.1)\n",
            "Requirement already satisfied: matplotlib in /usr/local/lib/python3.10/dist-packages (from catboost) (3.7.1)\n",
            "Requirement already satisfied: numpy>=1.16.0 in /usr/local/lib/python3.10/dist-packages (from catboost) (1.25.2)\n",
            "Requirement already satisfied: pandas>=0.24 in /usr/local/lib/python3.10/dist-packages (from catboost) (1.5.3)\n",
            "Requirement already satisfied: scipy in /usr/local/lib/python3.10/dist-packages (from catboost) (1.11.4)\n",
            "Requirement already satisfied: plotly in /usr/local/lib/python3.10/dist-packages (from catboost) (5.15.0)\n",
            "Requirement already satisfied: six in /usr/local/lib/python3.10/dist-packages (from catboost) (1.16.0)\n",
            "Requirement already satisfied: python-dateutil>=2.8.1 in /usr/local/lib/python3.10/dist-packages (from pandas>=0.24->catboost) (2.8.2)\n",
            "Requirement already satisfied: pytz>=2020.1 in /usr/local/lib/python3.10/dist-packages (from pandas>=0.24->catboost) (2023.4)\n",
            "Requirement already satisfied: contourpy>=1.0.1 in /usr/local/lib/python3.10/dist-packages (from matplotlib->catboost) (1.2.0)\n",
            "Requirement already satisfied: cycler>=0.10 in /usr/local/lib/python3.10/dist-packages (from matplotlib->catboost) (0.12.1)\n",
            "Requirement already satisfied: fonttools>=4.22.0 in /usr/local/lib/python3.10/dist-packages (from matplotlib->catboost) (4.49.0)\n",
            "Requirement already satisfied: kiwisolver>=1.0.1 in /usr/local/lib/python3.10/dist-packages (from matplotlib->catboost) (1.4.5)\n",
            "Requirement already satisfied: packaging>=20.0 in /usr/local/lib/python3.10/dist-packages (from matplotlib->catboost) (23.2)\n",
            "Requirement already satisfied: pillow>=6.2.0 in /usr/local/lib/python3.10/dist-packages (from matplotlib->catboost) (9.4.0)\n",
            "Requirement already satisfied: pyparsing>=2.3.1 in /usr/local/lib/python3.10/dist-packages (from matplotlib->catboost) (3.1.1)\n",
            "Requirement already satisfied: tenacity>=6.2.0 in /usr/local/lib/python3.10/dist-packages (from plotly->catboost) (8.2.3)\n",
            "Installing collected packages: catboost\n",
            "Successfully installed catboost-1.2.3\n",
            "Collecting deepchecks\n",
            "  Downloading deepchecks-0.18.1-py3-none-any.whl (7.8 MB)\n",
            "\u001b[2K     \u001b[90m━━━━━━━━━━━━━━━━━━━━━━━━━━━━━━━━━━━━━━━━\u001b[0m \u001b[32m7.8/7.8 MB\u001b[0m \u001b[31m23.8 MB/s\u001b[0m eta \u001b[36m0:00:00\u001b[0m\n",
            "\u001b[?25hRequirement already satisfied: pandas<2.2.0,>=1.1.5 in /usr/local/lib/python3.10/dist-packages (from deepchecks) (1.5.3)\n",
            "Requirement already satisfied: scikit-learn<1.4.0,>=0.23.2 in /usr/local/lib/python3.10/dist-packages (from deepchecks) (1.2.2)\n",
            "Requirement already satisfied: jsonpickle>=2 in /usr/local/lib/python3.10/dist-packages (from deepchecks) (3.0.2)\n",
            "Collecting PyNomaly>=0.3.3 (from deepchecks)\n",
            "  Downloading PyNomaly-0.3.3.tar.gz (8.3 kB)\n",
            "  Preparing metadata (setup.py) ... \u001b[?25l\u001b[?25hdone\n",
            "Requirement already satisfied: typing-extensions>=4.0.0 in /usr/local/lib/python3.10/dist-packages (from deepchecks) (4.9.0)\n",
            "Requirement already satisfied: tqdm>=4.62.3 in /usr/local/lib/python3.10/dist-packages (from deepchecks) (4.66.2)\n",
            "Collecting category-encoders>=2.3.0 (from deepchecks)\n",
            "  Downloading category_encoders-2.6.3-py2.py3-none-any.whl (81 kB)\n",
            "\u001b[2K     \u001b[90m━━━━━━━━━━━━━━━━━━━━━━━━━━━━━━━━━━━━━━━━\u001b[0m \u001b[32m81.9/81.9 kB\u001b[0m \u001b[31m12.6 MB/s\u001b[0m eta \u001b[36m0:00:00\u001b[0m\n",
            "\u001b[?25hCollecting scipy<=1.10.1,>=1.4.1 (from deepchecks)\n",
            "  Downloading scipy-1.10.1-cp310-cp310-manylinux_2_17_x86_64.manylinux2014_x86_64.whl (34.4 MB)\n",
            "\u001b[2K     \u001b[90m━━━━━━━━━━━━━━━━━━━━━━━━━━━━━━━━━━━━━━━━\u001b[0m \u001b[32m34.4/34.4 MB\u001b[0m \u001b[31m11.7 MB/s\u001b[0m eta \u001b[36m0:00:00\u001b[0m\n",
            "\u001b[?25hRequirement already satisfied: plotly>=5.13.1 in /usr/local/lib/python3.10/dist-packages (from deepchecks) (5.15.0)\n",
            "Requirement already satisfied: matplotlib>=3.3.4 in /usr/local/lib/python3.10/dist-packages (from deepchecks) (3.7.1)\n",
            "Requirement already satisfied: beautifulsoup4>=4.11.1 in /usr/local/lib/python3.10/dist-packages (from deepchecks) (4.12.3)\n",
            "Requirement already satisfied: requests>=2.22.0 in /usr/local/lib/python3.10/dist-packages (from deepchecks) (2.31.0)\n",
            "Requirement already satisfied: statsmodels>=0.13.5 in /usr/local/lib/python3.10/dist-packages (from deepchecks) (0.14.1)\n",
            "Requirement already satisfied: numpy>=1.22.2 in /usr/local/lib/python3.10/dist-packages (from deepchecks) (1.25.2)\n",
            "Requirement already satisfied: ipython>=7.15.0 in /usr/local/lib/python3.10/dist-packages (from deepchecks) (7.34.0)\n",
            "Requirement already satisfied: ipykernel>=5.3.0 in /usr/local/lib/python3.10/dist-packages (from deepchecks) (5.5.6)\n",
            "Requirement already satisfied: ipywidgets<8,>=7.6.5 in /usr/local/lib/python3.10/dist-packages (from deepchecks) (7.7.1)\n",
            "Collecting jupyter-server>=2.7.2 (from deepchecks)\n",
            "  Downloading jupyter_server-2.12.5-py3-none-any.whl (380 kB)\n",
            "\u001b[2K     \u001b[90m━━━━━━━━━━━━━━━━━━━━━━━━━━━━━━━━━━━━━━━━\u001b[0m \u001b[32m380.3/380.3 kB\u001b[0m \u001b[31m47.7 MB/s\u001b[0m eta \u001b[36m0:00:00\u001b[0m\n",
            "\u001b[?25hRequirement already satisfied: soupsieve>1.2 in /usr/local/lib/python3.10/dist-packages (from beautifulsoup4>=4.11.1->deepchecks) (2.5)\n",
            "Requirement already satisfied: patsy>=0.5.1 in /usr/local/lib/python3.10/dist-packages (from category-encoders>=2.3.0->deepchecks) (0.5.6)\n",
            "Requirement already satisfied: ipython-genutils in /usr/local/lib/python3.10/dist-packages (from ipykernel>=5.3.0->deepchecks) (0.2.0)\n",
            "Requirement already satisfied: traitlets>=4.1.0 in /usr/local/lib/python3.10/dist-packages (from ipykernel>=5.3.0->deepchecks) (5.7.1)\n",
            "Requirement already satisfied: jupyter-client in /usr/local/lib/python3.10/dist-packages (from ipykernel>=5.3.0->deepchecks) (6.1.12)\n",
            "Requirement already satisfied: tornado>=4.2 in /usr/local/lib/python3.10/dist-packages (from ipykernel>=5.3.0->deepchecks) (6.3.2)\n",
            "Requirement already satisfied: setuptools>=18.5 in /usr/local/lib/python3.10/dist-packages (from ipython>=7.15.0->deepchecks) (67.7.2)\n",
            "Collecting jedi>=0.16 (from ipython>=7.15.0->deepchecks)\n",
            "  Downloading jedi-0.19.1-py2.py3-none-any.whl (1.6 MB)\n",
            "\u001b[2K     \u001b[90m━━━━━━━━━━━━━━━━━━━━━━━━━━━━━━━━━━━━━━━━\u001b[0m \u001b[32m1.6/1.6 MB\u001b[0m \u001b[31m27.6 MB/s\u001b[0m eta \u001b[36m0:00:00\u001b[0m\n",
            "\u001b[?25hRequirement already satisfied: decorator in /usr/local/lib/python3.10/dist-packages (from ipython>=7.15.0->deepchecks) (4.4.2)\n",
            "Requirement already satisfied: pickleshare in /usr/local/lib/python3.10/dist-packages (from ipython>=7.15.0->deepchecks) (0.7.5)\n",
            "Requirement already satisfied: prompt-toolkit!=3.0.0,!=3.0.1,<3.1.0,>=2.0.0 in /usr/local/lib/python3.10/dist-packages (from ipython>=7.15.0->deepchecks) (3.0.43)\n",
            "Requirement already satisfied: pygments in /usr/local/lib/python3.10/dist-packages (from ipython>=7.15.0->deepchecks) (2.16.1)\n",
            "Requirement already satisfied: backcall in /usr/local/lib/python3.10/dist-packages (from ipython>=7.15.0->deepchecks) (0.2.0)\n",
            "Requirement already satisfied: matplotlib-inline in /usr/local/lib/python3.10/dist-packages (from ipython>=7.15.0->deepchecks) (0.1.6)\n",
            "Requirement already satisfied: pexpect>4.3 in /usr/local/lib/python3.10/dist-packages (from ipython>=7.15.0->deepchecks) (4.9.0)\n",
            "Requirement already satisfied: widgetsnbextension~=3.6.0 in /usr/local/lib/python3.10/dist-packages (from ipywidgets<8,>=7.6.5->deepchecks) (3.6.6)\n",
            "Requirement already satisfied: jupyterlab-widgets>=1.0.0 in /usr/local/lib/python3.10/dist-packages (from ipywidgets<8,>=7.6.5->deepchecks) (3.0.10)\n",
            "Requirement already satisfied: anyio>=3.1.0 in /usr/local/lib/python3.10/dist-packages (from jupyter-server>=2.7.2->deepchecks) (3.7.1)\n",
            "Requirement already satisfied: argon2-cffi in /usr/local/lib/python3.10/dist-packages (from jupyter-server>=2.7.2->deepchecks) (23.1.0)\n",
            "Requirement already satisfied: jinja2 in /usr/local/lib/python3.10/dist-packages (from jupyter-server>=2.7.2->deepchecks) (3.1.3)\n",
            "Collecting jupyter-client (from ipykernel>=5.3.0->deepchecks)\n",
            "  Downloading jupyter_client-8.6.0-py3-none-any.whl (105 kB)\n",
            "\u001b[2K     \u001b[90m━━━━━━━━━━━━━━━━━━━━━━━━━━━━━━━━━━━━━━━━\u001b[0m \u001b[32m105.9/105.9 kB\u001b[0m \u001b[31m15.1 MB/s\u001b[0m eta \u001b[36m0:00:00\u001b[0m\n",
            "\u001b[?25hRequirement already satisfied: jupyter-core!=5.0.*,>=4.12 in /usr/local/lib/python3.10/dist-packages (from jupyter-server>=2.7.2->deepchecks) (5.7.1)\n",
            "Collecting jupyter-events>=0.9.0 (from jupyter-server>=2.7.2->deepchecks)\n",
            "  Downloading jupyter_events-0.9.0-py3-none-any.whl (18 kB)\n",
            "Collecting jupyter-server-terminals (from jupyter-server>=2.7.2->deepchecks)\n",
            "  Downloading jupyter_server_terminals-0.5.2-py3-none-any.whl (13 kB)\n",
            "Requirement already satisfied: nbconvert>=6.4.4 in /usr/local/lib/python3.10/dist-packages (from jupyter-server>=2.7.2->deepchecks) (6.5.4)\n",
            "Requirement already satisfied: nbformat>=5.3.0 in /usr/local/lib/python3.10/dist-packages (from jupyter-server>=2.7.2->deepchecks) (5.9.2)\n",
            "Collecting overrides (from jupyter-server>=2.7.2->deepchecks)\n",
            "  Downloading overrides-7.7.0-py3-none-any.whl (17 kB)\n",
            "Requirement already satisfied: packaging in /usr/local/lib/python3.10/dist-packages (from jupyter-server>=2.7.2->deepchecks) (23.2)\n",
            "Requirement already satisfied: prometheus-client in /usr/local/lib/python3.10/dist-packages (from jupyter-server>=2.7.2->deepchecks) (0.20.0)\n",
            "Collecting pyzmq>=24 (from jupyter-server>=2.7.2->deepchecks)\n",
            "  Downloading pyzmq-25.1.2-cp310-cp310-manylinux_2_28_x86_64.whl (1.1 MB)\n",
            "\u001b[2K     \u001b[90m━━━━━━━━━━━━━━━━━━━━━━━━━━━━━━━━━━━━━━━━\u001b[0m \u001b[32m1.1/1.1 MB\u001b[0m \u001b[31m77.9 MB/s\u001b[0m eta \u001b[36m0:00:00\u001b[0m\n",
            "\u001b[?25hRequirement already satisfied: send2trash>=1.8.2 in /usr/local/lib/python3.10/dist-packages (from jupyter-server>=2.7.2->deepchecks) (1.8.2)\n",
            "Requirement already satisfied: terminado>=0.8.3 in /usr/local/lib/python3.10/dist-packages (from jupyter-server>=2.7.2->deepchecks) (0.18.0)\n",
            "Requirement already satisfied: websocket-client in /usr/local/lib/python3.10/dist-packages (from jupyter-server>=2.7.2->deepchecks) (1.7.0)\n",
            "Requirement already satisfied: contourpy>=1.0.1 in /usr/local/lib/python3.10/dist-packages (from matplotlib>=3.3.4->deepchecks) (1.2.0)\n",
            "Requirement already satisfied: cycler>=0.10 in /usr/local/lib/python3.10/dist-packages (from matplotlib>=3.3.4->deepchecks) (0.12.1)\n",
            "Requirement already satisfied: fonttools>=4.22.0 in /usr/local/lib/python3.10/dist-packages (from matplotlib>=3.3.4->deepchecks) (4.49.0)\n",
            "Requirement already satisfied: kiwisolver>=1.0.1 in /usr/local/lib/python3.10/dist-packages (from matplotlib>=3.3.4->deepchecks) (1.4.5)\n",
            "Requirement already satisfied: pillow>=6.2.0 in /usr/local/lib/python3.10/dist-packages (from matplotlib>=3.3.4->deepchecks) (9.4.0)\n",
            "Requirement already satisfied: pyparsing>=2.3.1 in /usr/local/lib/python3.10/dist-packages (from matplotlib>=3.3.4->deepchecks) (3.1.1)\n",
            "Requirement already satisfied: python-dateutil>=2.7 in /usr/local/lib/python3.10/dist-packages (from matplotlib>=3.3.4->deepchecks) (2.8.2)\n",
            "Requirement already satisfied: pytz>=2020.1 in /usr/local/lib/python3.10/dist-packages (from pandas<2.2.0,>=1.1.5->deepchecks) (2023.4)\n",
            "Requirement already satisfied: tenacity>=6.2.0 in /usr/local/lib/python3.10/dist-packages (from plotly>=5.13.1->deepchecks) (8.2.3)\n",
            "Requirement already satisfied: python-utils in /usr/local/lib/python3.10/dist-packages (from PyNomaly>=0.3.3->deepchecks) (3.8.2)\n",
            "Requirement already satisfied: charset-normalizer<4,>=2 in /usr/local/lib/python3.10/dist-packages (from requests>=2.22.0->deepchecks) (3.3.2)\n",
            "Requirement already satisfied: idna<4,>=2.5 in /usr/local/lib/python3.10/dist-packages (from requests>=2.22.0->deepchecks) (3.6)\n",
            "Requirement already satisfied: urllib3<3,>=1.21.1 in /usr/local/lib/python3.10/dist-packages (from requests>=2.22.0->deepchecks) (2.0.7)\n",
            "Requirement already satisfied: certifi>=2017.4.17 in /usr/local/lib/python3.10/dist-packages (from requests>=2.22.0->deepchecks) (2024.2.2)\n",
            "Requirement already satisfied: joblib>=1.1.1 in /usr/local/lib/python3.10/dist-packages (from scikit-learn<1.4.0,>=0.23.2->deepchecks) (1.3.2)\n",
            "Requirement already satisfied: threadpoolctl>=2.0.0 in /usr/local/lib/python3.10/dist-packages (from scikit-learn<1.4.0,>=0.23.2->deepchecks) (3.3.0)\n",
            "Requirement already satisfied: sniffio>=1.1 in /usr/local/lib/python3.10/dist-packages (from anyio>=3.1.0->jupyter-server>=2.7.2->deepchecks) (1.3.0)\n",
            "Requirement already satisfied: exceptiongroup in /usr/local/lib/python3.10/dist-packages (from anyio>=3.1.0->jupyter-server>=2.7.2->deepchecks) (1.2.0)\n",
            "Requirement already satisfied: parso<0.9.0,>=0.8.3 in /usr/local/lib/python3.10/dist-packages (from jedi>=0.16->ipython>=7.15.0->deepchecks) (0.8.3)\n",
            "Requirement already satisfied: platformdirs>=2.5 in /usr/local/lib/python3.10/dist-packages (from jupyter-core!=5.0.*,>=4.12->jupyter-server>=2.7.2->deepchecks) (4.2.0)\n",
            "Requirement already satisfied: jsonschema[format-nongpl]>=4.18.0 in /usr/local/lib/python3.10/dist-packages (from jupyter-events>=0.9.0->jupyter-server>=2.7.2->deepchecks) (4.19.2)\n",
            "Collecting python-json-logger>=2.0.4 (from jupyter-events>=0.9.0->jupyter-server>=2.7.2->deepchecks)\n",
            "  Downloading python_json_logger-2.0.7-py3-none-any.whl (8.1 kB)\n",
            "Requirement already satisfied: pyyaml>=5.3 in /usr/local/lib/python3.10/dist-packages (from jupyter-events>=0.9.0->jupyter-server>=2.7.2->deepchecks) (6.0.1)\n",
            "Requirement already satisfied: referencing in /usr/local/lib/python3.10/dist-packages (from jupyter-events>=0.9.0->jupyter-server>=2.7.2->deepchecks) (0.33.0)\n",
            "Collecting rfc3339-validator (from jupyter-events>=0.9.0->jupyter-server>=2.7.2->deepchecks)\n",
            "  Downloading rfc3339_validator-0.1.4-py2.py3-none-any.whl (3.5 kB)\n",
            "Collecting rfc3986-validator>=0.1.1 (from jupyter-events>=0.9.0->jupyter-server>=2.7.2->deepchecks)\n",
            "  Downloading rfc3986_validator-0.1.1-py2.py3-none-any.whl (4.2 kB)\n",
            "Requirement already satisfied: lxml in /usr/local/lib/python3.10/dist-packages (from nbconvert>=6.4.4->jupyter-server>=2.7.2->deepchecks) (4.9.4)\n",
            "Requirement already satisfied: bleach in /usr/local/lib/python3.10/dist-packages (from nbconvert>=6.4.4->jupyter-server>=2.7.2->deepchecks) (6.1.0)\n",
            "Requirement already satisfied: defusedxml in /usr/local/lib/python3.10/dist-packages (from nbconvert>=6.4.4->jupyter-server>=2.7.2->deepchecks) (0.7.1)\n",
            "Requirement already satisfied: entrypoints>=0.2.2 in /usr/local/lib/python3.10/dist-packages (from nbconvert>=6.4.4->jupyter-server>=2.7.2->deepchecks) (0.4)\n",
            "Requirement already satisfied: jupyterlab-pygments in /usr/local/lib/python3.10/dist-packages (from nbconvert>=6.4.4->jupyter-server>=2.7.2->deepchecks) (0.3.0)\n",
            "Requirement already satisfied: MarkupSafe>=2.0 in /usr/local/lib/python3.10/dist-packages (from nbconvert>=6.4.4->jupyter-server>=2.7.2->deepchecks) (2.1.5)\n",
            "Requirement already satisfied: mistune<2,>=0.8.1 in /usr/local/lib/python3.10/dist-packages (from nbconvert>=6.4.4->jupyter-server>=2.7.2->deepchecks) (0.8.4)\n",
            "Requirement already satisfied: nbclient>=0.5.0 in /usr/local/lib/python3.10/dist-packages (from nbconvert>=6.4.4->jupyter-server>=2.7.2->deepchecks) (0.9.0)\n",
            "Requirement already satisfied: pandocfilters>=1.4.1 in /usr/local/lib/python3.10/dist-packages (from nbconvert>=6.4.4->jupyter-server>=2.7.2->deepchecks) (1.5.1)\n",
            "Requirement already satisfied: tinycss2 in /usr/local/lib/python3.10/dist-packages (from nbconvert>=6.4.4->jupyter-server>=2.7.2->deepchecks) (1.2.1)\n",
            "Requirement already satisfied: fastjsonschema in /usr/local/lib/python3.10/dist-packages (from nbformat>=5.3.0->jupyter-server>=2.7.2->deepchecks) (2.19.1)\n",
            "Requirement already satisfied: six in /usr/local/lib/python3.10/dist-packages (from patsy>=0.5.1->category-encoders>=2.3.0->deepchecks) (1.16.0)\n",
            "Requirement already satisfied: ptyprocess>=0.5 in /usr/local/lib/python3.10/dist-packages (from pexpect>4.3->ipython>=7.15.0->deepchecks) (0.7.0)\n",
            "Requirement already satisfied: wcwidth in /usr/local/lib/python3.10/dist-packages (from prompt-toolkit!=3.0.0,!=3.0.1,<3.1.0,>=2.0.0->ipython>=7.15.0->deepchecks) (0.2.13)\n",
            "Requirement already satisfied: notebook>=4.4.1 in /usr/local/lib/python3.10/dist-packages (from widgetsnbextension~=3.6.0->ipywidgets<8,>=7.6.5->deepchecks) (6.5.5)\n",
            "Requirement already satisfied: argon2-cffi-bindings in /usr/local/lib/python3.10/dist-packages (from argon2-cffi->jupyter-server>=2.7.2->deepchecks) (21.2.0)\n",
            "Requirement already satisfied: attrs>=22.2.0 in /usr/local/lib/python3.10/dist-packages (from jsonschema[format-nongpl]>=4.18.0->jupyter-events>=0.9.0->jupyter-server>=2.7.2->deepchecks) (23.2.0)\n",
            "Requirement already satisfied: jsonschema-specifications>=2023.03.6 in /usr/local/lib/python3.10/dist-packages (from jsonschema[format-nongpl]>=4.18.0->jupyter-events>=0.9.0->jupyter-server>=2.7.2->deepchecks) (2023.12.1)\n",
            "Requirement already satisfied: rpds-py>=0.7.1 in /usr/local/lib/python3.10/dist-packages (from jsonschema[format-nongpl]>=4.18.0->jupyter-events>=0.9.0->jupyter-server>=2.7.2->deepchecks) (0.18.0)\n",
            "Collecting fqdn (from jsonschema[format-nongpl]>=4.18.0->jupyter-events>=0.9.0->jupyter-server>=2.7.2->deepchecks)\n",
            "  Downloading fqdn-1.5.1-py3-none-any.whl (9.1 kB)\n",
            "Collecting isoduration (from jsonschema[format-nongpl]>=4.18.0->jupyter-events>=0.9.0->jupyter-server>=2.7.2->deepchecks)\n",
            "  Downloading isoduration-20.11.0-py3-none-any.whl (11 kB)\n",
            "Collecting jsonpointer>1.13 (from jsonschema[format-nongpl]>=4.18.0->jupyter-events>=0.9.0->jupyter-server>=2.7.2->deepchecks)\n",
            "  Downloading jsonpointer-2.4-py2.py3-none-any.whl (7.8 kB)\n",
            "Collecting uri-template (from jsonschema[format-nongpl]>=4.18.0->jupyter-events>=0.9.0->jupyter-server>=2.7.2->deepchecks)\n",
            "  Downloading uri_template-1.3.0-py3-none-any.whl (11 kB)\n",
            "Requirement already satisfied: webcolors>=1.11 in /usr/local/lib/python3.10/dist-packages (from jsonschema[format-nongpl]>=4.18.0->jupyter-events>=0.9.0->jupyter-server>=2.7.2->deepchecks) (1.13)\n",
            "Collecting pyzmq>=24 (from jupyter-server>=2.7.2->deepchecks)\n",
            "  Downloading pyzmq-24.0.1-cp310-cp310-manylinux_2_17_x86_64.manylinux2014_x86_64.whl (1.1 MB)\n",
            "\u001b[2K     \u001b[90m━━━━━━━━━━━━━━━━━━━━━━━━━━━━━━━━━━━━━━━━\u001b[0m \u001b[32m1.1/1.1 MB\u001b[0m \u001b[31m61.9 MB/s\u001b[0m eta \u001b[36m0:00:00\u001b[0m\n",
            "\u001b[?25hCollecting jupyter-client (from ipykernel>=5.3.0->deepchecks)\n",
            "  Downloading jupyter_client-7.4.9-py3-none-any.whl (133 kB)\n",
            "\u001b[2K     \u001b[90m━━━━━━━━━━━━━━━━━━━━━━━━━━━━━━━━━━━━━━━━\u001b[0m \u001b[32m133.5/133.5 kB\u001b[0m \u001b[31m19.2 MB/s\u001b[0m eta \u001b[36m0:00:00\u001b[0m\n",
            "\u001b[?25hRequirement already satisfied: nest-asyncio>=1.5 in /usr/local/lib/python3.10/dist-packages (from notebook>=4.4.1->widgetsnbextension~=3.6.0->ipywidgets<8,>=7.6.5->deepchecks) (1.6.0)\n",
            "Requirement already satisfied: nbclassic>=0.4.7 in /usr/local/lib/python3.10/dist-packages (from notebook>=4.4.1->widgetsnbextension~=3.6.0->ipywidgets<8,>=7.6.5->deepchecks) (1.0.0)\n",
            "Requirement already satisfied: cffi>=1.0.1 in /usr/local/lib/python3.10/dist-packages (from argon2-cffi-bindings->argon2-cffi->jupyter-server>=2.7.2->deepchecks) (1.16.0)\n",
            "Requirement already satisfied: webencodings in /usr/local/lib/python3.10/dist-packages (from bleach->nbconvert>=6.4.4->jupyter-server>=2.7.2->deepchecks) (0.5.1)\n",
            "Requirement already satisfied: pycparser in /usr/local/lib/python3.10/dist-packages (from cffi>=1.0.1->argon2-cffi-bindings->argon2-cffi->jupyter-server>=2.7.2->deepchecks) (2.21)\n",
            "Requirement already satisfied: notebook-shim>=0.2.3 in /usr/local/lib/python3.10/dist-packages (from nbclassic>=0.4.7->notebook>=4.4.1->widgetsnbextension~=3.6.0->ipywidgets<8,>=7.6.5->deepchecks) (0.2.4)\n",
            "Collecting arrow>=0.15.0 (from isoduration->jsonschema[format-nongpl]>=4.18.0->jupyter-events>=0.9.0->jupyter-server>=2.7.2->deepchecks)\n",
            "  Downloading arrow-1.3.0-py3-none-any.whl (66 kB)\n",
            "\u001b[2K     \u001b[90m━━━━━━━━━━━━━━━━━━━━━━━━━━━━━━━━━━━━━━━━\u001b[0m \u001b[32m66.4/66.4 kB\u001b[0m \u001b[31m10.2 MB/s\u001b[0m eta \u001b[36m0:00:00\u001b[0m\n",
            "\u001b[?25hCollecting types-python-dateutil>=2.8.10 (from arrow>=0.15.0->isoduration->jsonschema[format-nongpl]>=4.18.0->jupyter-events>=0.9.0->jupyter-server>=2.7.2->deepchecks)\n",
            "  Downloading types_python_dateutil-2.8.19.20240106-py3-none-any.whl (9.7 kB)\n",
            "Building wheels for collected packages: PyNomaly\n",
            "  Building wheel for PyNomaly (setup.py) ... \u001b[?25l\u001b[?25hdone\n",
            "  Created wheel for PyNomaly: filename=PyNomaly-0.3.3-py3-none-any.whl size=8480 sha256=ce5cf606334e64adab98def2fc91fec83034a75e00d9bf54f3722ec42d4e3c12\n",
            "  Stored in directory: /root/.cache/pip/wheels/2b/49/68/62eb262833c0fd5403d3b258bd259b0f71516d2563a960303f\n",
            "Successfully built PyNomaly\n",
            "Installing collected packages: uri-template, types-python-dateutil, scipy, rfc3986-validator, rfc3339-validator, pyzmq, python-json-logger, overrides, jsonpointer, jedi, fqdn, PyNomaly, jupyter-server-terminals, jupyter-client, arrow, isoduration, category-encoders, jupyter-events, jupyter-server, deepchecks\n",
            "  Attempting uninstall: scipy\n",
            "    Found existing installation: scipy 1.11.4\n",
            "    Uninstalling scipy-1.11.4:\n",
            "      Successfully uninstalled scipy-1.11.4\n",
            "  Attempting uninstall: pyzmq\n",
            "    Found existing installation: pyzmq 23.2.1\n",
            "    Uninstalling pyzmq-23.2.1:\n",
            "      Successfully uninstalled pyzmq-23.2.1\n",
            "  Attempting uninstall: jupyter-client\n",
            "    Found existing installation: jupyter-client 6.1.12\n",
            "    Uninstalling jupyter-client-6.1.12:\n",
            "      Successfully uninstalled jupyter-client-6.1.12\n",
            "  Attempting uninstall: jupyter-server\n",
            "    Found existing installation: jupyter-server 1.24.0\n",
            "    Uninstalling jupyter-server-1.24.0:\n",
            "      Successfully uninstalled jupyter-server-1.24.0\n",
            "Successfully installed PyNomaly-0.3.3 arrow-1.3.0 category-encoders-2.6.3 deepchecks-0.18.1 fqdn-1.5.1 isoduration-20.11.0 jedi-0.19.1 jsonpointer-2.4 jupyter-client-7.4.9 jupyter-events-0.9.0 jupyter-server-2.12.5 jupyter-server-terminals-0.5.2 overrides-7.7.0 python-json-logger-2.0.7 pyzmq-24.0.1 rfc3339-validator-0.1.4 rfc3986-validator-0.1.1 scipy-1.10.1 types-python-dateutil-2.8.19.20240106 uri-template-1.3.0\n"
          ]
        },
        {
          "output_type": "display_data",
          "data": {
            "application/vnd.colab-display-data+json": {
              "pip_warning": {
                "packages": [
                  "zmq"
                ]
              }
            }
          },
          "metadata": {}
        },
        {
          "output_type": "stream",
          "name": "stdout",
          "text": [
            "Collecting optuna\n",
            "  Downloading optuna-3.5.0-py3-none-any.whl (413 kB)\n",
            "\u001b[2K     \u001b[90m━━━━━━━━━━━━━━━━━━━━━━━━━━━━━━━━━━━━━━━━\u001b[0m \u001b[32m413.4/413.4 kB\u001b[0m \u001b[31m3.0 MB/s\u001b[0m eta \u001b[36m0:00:00\u001b[0m\n",
            "\u001b[?25hCollecting alembic>=1.5.0 (from optuna)\n",
            "  Downloading alembic-1.13.1-py3-none-any.whl (233 kB)\n",
            "\u001b[2K     \u001b[90m━━━━━━━━━━━━━━━━━━━━━━━━━━━━━━━━━━━━━━━━\u001b[0m \u001b[32m233.4/233.4 kB\u001b[0m \u001b[31m20.8 MB/s\u001b[0m eta \u001b[36m0:00:00\u001b[0m\n",
            "\u001b[?25hCollecting colorlog (from optuna)\n",
            "  Downloading colorlog-6.8.2-py3-none-any.whl (11 kB)\n",
            "Requirement already satisfied: numpy in /usr/local/lib/python3.10/dist-packages (from optuna) (1.25.2)\n",
            "Requirement already satisfied: packaging>=20.0 in /usr/local/lib/python3.10/dist-packages (from optuna) (23.2)\n",
            "Requirement already satisfied: sqlalchemy>=1.3.0 in /usr/local/lib/python3.10/dist-packages (from optuna) (2.0.27)\n",
            "Requirement already satisfied: tqdm in /usr/local/lib/python3.10/dist-packages (from optuna) (4.66.2)\n",
            "Requirement already satisfied: PyYAML in /usr/local/lib/python3.10/dist-packages (from optuna) (6.0.1)\n",
            "Collecting Mako (from alembic>=1.5.0->optuna)\n",
            "  Downloading Mako-1.3.2-py3-none-any.whl (78 kB)\n",
            "\u001b[2K     \u001b[90m━━━━━━━━━━━━━━━━━━━━━━━━━━━━━━━━━━━━━━━━\u001b[0m \u001b[32m78.7/78.7 kB\u001b[0m \u001b[31m10.3 MB/s\u001b[0m eta \u001b[36m0:00:00\u001b[0m\n",
            "\u001b[?25hRequirement already satisfied: typing-extensions>=4 in /usr/local/lib/python3.10/dist-packages (from alembic>=1.5.0->optuna) (4.9.0)\n",
            "Requirement already satisfied: greenlet!=0.4.17 in /usr/local/lib/python3.10/dist-packages (from sqlalchemy>=1.3.0->optuna) (3.0.3)\n",
            "Requirement already satisfied: MarkupSafe>=0.9.2 in /usr/local/lib/python3.10/dist-packages (from Mako->alembic>=1.5.0->optuna) (2.1.5)\n",
            "Installing collected packages: Mako, colorlog, alembic, optuna\n",
            "Successfully installed Mako-1.3.2 alembic-1.13.1 colorlog-6.8.2 optuna-3.5.0\n"
          ]
        }
      ]
    },
    {
      "cell_type": "code",
      "execution_count": null,
      "metadata": {
        "id": "L0jdkACyUwdm"
      },
      "outputs": [],
      "source": [
        "import pandas as pd\n",
        "import numpy as np\n",
        "from copy import deepcopy\n",
        "\n",
        "from sklearn.model_selection import train_test_split\n",
        "\n",
        "from catboost import CatBoostRegressor, CatBoostClassifier, Pool\n",
        "from sklearn.model_selection import train_test_split\n",
        "import matplotlib.pyplot as plt\n",
        "from sklearn.metrics import precision_recall_curve, auc\n",
        "import warnings\n",
        "warnings.filterwarnings('ignore')\n",
        "import seaborn as sns\n",
        "plt.rcParams['font.size'] = 10\n",
        "from deepchecks.tabular import Dataset\n",
        "from deepchecks.tabular.checks import FeatureDrift\n",
        "import lightgbm as lgbm\n",
        "\n",
        "from tqdm.auto import tqdm\n",
        "\n",
        "from sklearn.metrics import classification_report, accuracy_score, confusion_matrix\n",
        "from sklearn.preprocessing import LabelEncoder\n",
        "from sklearn.utils.multiclass import unique_labels\n",
        "from xgboost import XGBClassifier"
      ]
    },
    {
      "cell_type": "code",
      "execution_count": null,
      "metadata": {
        "id": "k-azD_8MU8Pl"
      },
      "outputs": [],
      "source": [
        "def weighted_mean_absolute_error(y_true, y_pred, weights):\n",
        "\n",
        "    '''\n",
        "\n",
        "    Weighted mean absolute error.\n",
        "\n",
        "    Parameters\n",
        "    ----------\n",
        "    y_true: ndarray\n",
        "        Ground truth\n",
        "    y_pred: ndarray\n",
        "        Array of predictions\n",
        "\n",
        "    Returns\n",
        "    -------\n",
        "    rmsle: float\n",
        "        Weighted mean absolute error\n",
        "\n",
        "    References\n",
        "    ----------\n",
        "    .. [1] https://kaggle-metrics.readthedocs.io/en/latest/_modules/kaggle_metrics/regression.html\n",
        "\n",
        "    '''\n",
        "\n",
        "    return (weights * np.abs(y_true - y_pred)).mean()"
      ]
    },
    {
      "cell_type": "code",
      "execution_count": null,
      "metadata": {
        "id": "t12N67hUWvE_"
      },
      "outputs": [],
      "source": [
        "# def read_statistics_data():\n",
        "#     '''\n",
        "#     Чтение статистических данных:\n",
        "#     средняя зарплата по регионам/месяцам - https://gogov.ru/articles/average-salary\n",
        "#     величина прожиточного минимума - https://rosstat.gov.ru/vpm (Величина прожиточного минимума, установленная на 2024 год по субъектам Российской Федерации)\n",
        "#     '''\n",
        "\n",
        "#     salary_month_df = pd.read_csv('salary_month.csv', sep=\";\", decimal=\",\")\n",
        "#     salary_month_df = salary_month_df.set_index('Область')\n",
        "#     salary_month_df\n",
        "\n",
        "#     vpm_df = pd.read_csv('vpm_2024.csv', sep=\";\", decimal=\",\")\n",
        "#     vpm_df = vpm_df.set_index('Область')\n",
        "#     vpm_df = vpm_df.rename(columns={\"2024\": \"vpm_2024\"})\n",
        "\n",
        "#     return salary_month_df, vpm_df"
      ]
    },
    {
      "cell_type": "code",
      "execution_count": null,
      "metadata": {
        "id": "RWjeAgOnXF9W"
      },
      "outputs": [],
      "source": [
        "def add_statistics_data_to_df(df):\n",
        "    '''\n",
        "    Чтение статистических данных:\n",
        "    средняя зарплата по регионам/месяцам - https://gogov.ru/articles/average-salary\n",
        "    величина прожиточного минимума - https://rosstat.gov.ru/vpm (Величина прожиточного минимума, установленная на 2024 год по субъектам Российской Федерации)\n",
        "    рейтинг регионов по зарплатам - https://ria.ru/20231120/zarplata-1910154567.html\n",
        "    индекс стоимости жизни по регионам - https://rosstat.gov.ru/statistics/price\n",
        "    '''\n",
        "    salary_month_df = pd.read_csv('salary_month.csv', sep=\";\", decimal=\",\")\n",
        "    salary_month_df = salary_month_df.set_index('Область')\n",
        "    salary_month_df\n",
        "\n",
        "    vpm_df = pd.read_csv('vpm_2024.csv', sep=\";\", decimal=\",\")\n",
        "    vpm_df = vpm_df.set_index('Область')\n",
        "    vpm_df = vpm_df.rename(columns={\"2024\": \"vpm_2024\"})\n",
        "\n",
        "    salary_rating_df = pd.read_csv('salary_rating.csv', sep=\";\", decimal=\",\")\n",
        "    salary_rating_df = salary_rating_df.set_index('Область')\n",
        "\n",
        "    index_of_life_df = pd.read_excel('isg_2012-2023.xlsx', decimal='.', sheet_name=1)\n",
        "    rf_regions_df = pd.read_excel('RF_region.xlsx', decimal='.')\n",
        "    index_of_life_df = pd.merge(index_of_life_df, rf_regions_df, on=['Город'], how='left')\n",
        "    index_of_life_df = index_of_life_df.groupby(by=['Регион'], as_index=False).mean()[['Регион', 2022, 2023]]\n",
        "    index_of_life_df = index_of_life_df.rename(columns={'Регион': 'addrref', 2022: 'index_of_life_2022', 2023: 'index_of_life_2023'})\n",
        "    index_of_life_df.loc[ len(index_of_life_df.index )] = ['Россия', 1.0, 1.0]\n",
        "\n",
        "    df['addrref'] = df['addrref'].fillna('Россия')\n",
        "\n",
        "    client_salary_month_df = df.join(salary_month_df, on='addrref')\n",
        "    client_salary_month_df['feature_date'] = client_salary_month_df['feature_date'].astype('datetime64[ns]')\n",
        "    client_salary_month_df['feature_date_month_year'] = client_salary_month_df['feature_date'].apply(lambda time: str(time.month) + '.' + str(time.year))\n",
        "    client_salary_month_df['avg_salary_month'] = client_salary_month_df.apply(lambda x: x[x['feature_date_month_year']], axis=1)\n",
        "    client_salary_month_df = client_salary_month_df[['client_id', 'avg_salary_month']]\n",
        "    client_salary_month_df = client_salary_month_df.set_index('client_id')\n",
        "    df = df.join(client_salary_month_df, on='client_id')\n",
        "\n",
        "    df = df.join(vpm_df, on='addrref')\n",
        "\n",
        "    df = df.join(salary_rating_df, on='addrref')\n",
        "\n",
        "    df = pd.merge(df, index_of_life_df, on=['addrref'], how='left')\n",
        "    return df"
      ]
    },
    {
      "cell_type": "code",
      "execution_count": null,
      "metadata": {
        "id": "K4zpI1qN7dPV"
      },
      "outputs": [],
      "source": [
        "def fill_nan(df, num_feats, cat_feats):\n",
        "    for num_f in num_feats:\n",
        "        df[num_f] = df[num_f].fillna(0.0).astype(float)\n",
        "        df.loc[(df[num_f] == 'NaN') |\n",
        "                (df[num_f] == 'None') |\n",
        "                (df[num_f] == 'nan') |\n",
        "                (df[num_f] == ''), num_f] = 0.0\n",
        "    for cat_f in cat_feats:\n",
        "        df[cat_f] = df[cat_f].fillna('no_data').astype(str)\n",
        "        df.loc[(df[cat_f] == 'NaN') |\n",
        "                (df[cat_f] == 'None') |\n",
        "                (df[cat_f] == 'nan') |\n",
        "                (df[cat_f] == ''), cat_f] = 'no_data'\n",
        "    return df"
      ]
    },
    {
      "cell_type": "code",
      "execution_count": null,
      "metadata": {
        "id": "D4L8sRBAeZs8"
      },
      "outputs": [],
      "source": [
        "def fit_catboost_regressor(features_train, features_val, target_train, target_val, cat_features, params=None):\n",
        "    default_params = {'learning_rate': 0.05, 'iterations': 500}\n",
        "    if params is None:\n",
        "        params = default_params\n",
        "\n",
        "    pool_train = Pool(features_train, target_train, cat_features = cat_features)\n",
        "    pool_val = None\n",
        "    if features_val is not None:\n",
        "        pool_val = Pool(features_val, target_val, cat_features = cat_features)\n",
        "\n",
        "    model = CatBoostRegressor(**params, loss_function='RMSE', random_seed = 42, task_type=\"GPU\")\n",
        "    model.fit(pool_train, eval_set=pool_val, verbose=100, early_stopping_rounds=100)\n",
        "    return model"
      ]
    },
    {
      "cell_type": "code",
      "execution_count": null,
      "metadata": {
        "id": "NeKDXtR5eZs8"
      },
      "outputs": [],
      "source": [
        "def fit_catboost_classifier(features_train, features_val, target_train, target_val, cat_features, params=None):\n",
        "    default_params = {'learning_rate': 0.05, 'iterations': 500}\n",
        "    if params is None:\n",
        "        params = default_params\n",
        "\n",
        "    pool_train = Pool(features_train, target_train, cat_features = cat_features)\n",
        "    pool_val = None\n",
        "    if features_val is not None:\n",
        "        pool_val = Pool(features_val, target_val, cat_features = cat_features)\n",
        "\n",
        "    model = CatBoostClassifier(**params, loss_function='MultiClass', random_seed = 42, task_type=\"GPU\")\n",
        "    model.fit(pool_train, eval_set=pool_val, verbose=100, early_stopping_rounds=100)\n",
        "    return model"
      ]
    },
    {
      "cell_type": "code",
      "source": [
        "def fit_xgboost_classifier(features_train, features_val, target_train, target_val, cat_features, params=None):\n",
        "    default_params = {'learning_rate': 0.05, 'n_estimators': 100,\n",
        "                      'booster': 'gbtree',\n",
        "                      # 'tree_method':'gpu_hist',\n",
        "                      'random_state': 42}\n",
        "                      # \"device\": \"cuda\"}\n",
        "    le = LabelEncoder()\n",
        "    for feat in cat_features:\n",
        "      features_train[feat] = le.fit_transform(features_train[feat])\n",
        "    # features_train[cat_features] = features_train[cat_features].astype(\"category\")\n",
        "    if params is None:\n",
        "        params = default_params\n",
        "    eval_set = None\n",
        "    if features_val is not None:\n",
        "        # features_val[cat_features] = features_val[cat_features].astype(\"category\")\n",
        "        le = LabelEncoder()\n",
        "        for feat in cat_features:\n",
        "          features_val[feat] = le.fit_transform(features_val[feat])\n",
        "        eval_set = [(features_train, target_train),(features_val, target_val)]\n",
        "\n",
        "    model = XGBClassifier(**params, enable_categorical=True)\n",
        "    model.fit(features_train, target_train, eval_set=eval_set, verbose=100)\n",
        "    return model"
      ],
      "metadata": {
        "id": "aLnSdqci3ZT7"
      },
      "execution_count": null,
      "outputs": []
    },
    {
      "cell_type": "markdown",
      "metadata": {
        "id": "Wc_lZoDOeZs9"
      },
      "source": [
        "# Чтение данных"
      ]
    },
    {
      "cell_type": "code",
      "execution_count": null,
      "metadata": {
        "colab": {
          "base_uri": "https://localhost:8080/"
        },
        "id": "WoqlTy0XViE4",
        "outputId": "8ebb5183-2925-4326-a05b-1711dae42bde"
      },
      "outputs": [
        {
          "output_type": "execute_result",
          "data": {
            "text/plain": [
              "((205962, 235), (37183, 233))"
            ]
          },
          "metadata": {},
          "execution_count": 9
        }
      ],
      "source": [
        "train_df = pd.read_csv('train.csv', sep=\";\", decimal=\",\", encoding=\"windows-1251\")\n",
        "test_df = pd.read_csv('test.csv', sep=\";\", decimal=\",\", encoding=\"windows-1251\")\n",
        "train_df.shape, test_df.shape"
      ]
    },
    {
      "cell_type": "code",
      "execution_count": null,
      "metadata": {
        "id": "jCpwCdcOvyfw"
      },
      "outputs": [],
      "source": [
        "# salary_month_df, vpm_df = read_statistics_data()\n",
        "# train_df = add_statistics_data_to_df(train_df, salary_month_df, vpm_df)\n",
        "# test_df = add_statistics_data_to_df(test_df, salary_month_df, vpm_df)"
      ]
    },
    {
      "cell_type": "code",
      "source": [
        "train_df = add_statistics_data_to_df(train_df)\n",
        "test_df = add_statistics_data_to_df(test_df)"
      ],
      "metadata": {
        "id": "OJWrpCtCX7RK"
      },
      "execution_count": null,
      "outputs": []
    },
    {
      "cell_type": "markdown",
      "metadata": {
        "id": "RYdOw2TOZM5p"
      },
      "source": [
        "# Анализ данных. Отбор фичей"
      ]
    },
    {
      "cell_type": "markdown",
      "metadata": {
        "id": "eyYwBpr6v7dm"
      },
      "source": [
        "Разделяем на числовые и категориальные признаки"
      ]
    },
    {
      "cell_type": "code",
      "execution_count": null,
      "metadata": {
        "id": "XOVFXYgWtvJG"
      },
      "outputs": [],
      "source": [
        "# выбираем числовые признаки, которые ошибочны классифицировались категориальными\n",
        "newtype_feats = ['bki_total_ip_max_limit',\n",
        " 'hdb_bki_active_cc_cnt',\n",
        " 'hdb_bki_active_ip_max_outstand',\n",
        " 'hdb_bki_active_micro_max_outstand',\n",
        " 'hdb_bki_active_pil_max_overdue',\n",
        " 'hdb_bki_other_active_auto_month_payments_sum',\n",
        " 'hdb_bki_total_cc_max_limit',\n",
        " 'hdb_bki_total_ip_cnt',\n",
        " 'hdb_bki_total_max_limit',\n",
        " 'hdb_bki_total_max_overdue_sum',\n",
        " 'hdb_bki_total_pil_max_limit']"
      ]
    },
    {
      "cell_type": "code",
      "execution_count": null,
      "metadata": {
        "id": "5k_u9K72vBKo"
      },
      "outputs": [],
      "source": [
        "# изменяем тип данных у неправильно классифицированных признаков\n",
        "train_df[newtype_feats] = train_df[newtype_feats].astype('float64')\n",
        "train_df['feature_date'] = train_df['feature_date'].astype('datetime64[ns]')\n",
        "train_df['feature_date_year'] = train_df['feature_date'].apply(lambda time: time.year)\n",
        "train_df['feature_date_month'] = train_df['feature_date'].apply(lambda time: time.month)"
      ]
    },
    {
      "cell_type": "code",
      "execution_count": null,
      "metadata": {
        "id": "rH-ihm5BF5wc"
      },
      "outputs": [],
      "source": [
        "test_df[newtype_feats] = test_df[newtype_feats].astype('float64')\n",
        "test_df['feature_date'] = test_df['feature_date'].astype('datetime64[ns]')\n",
        "test_df['feature_date_year'] = test_df['feature_date'].apply(lambda time: time.year)\n",
        "test_df['feature_date_month'] = test_df['feature_date'].apply(lambda time: time.month)"
      ]
    },
    {
      "cell_type": "code",
      "execution_count": null,
      "metadata": {
        "colab": {
          "base_uri": "https://localhost:8080/"
        },
        "id": "pYh-XhHgy-VM",
        "outputId": "72e5ad67-15c1-49b7-f138-6510a55203ad"
      },
      "outputs": [
        {
          "output_type": "execute_result",
          "data": {
            "text/plain": [
              "241"
            ]
          },
          "metadata": {},
          "execution_count": 21
        }
      ],
      "source": [
        "all_feats = list(train_df.columns)\n",
        "all_feats.remove('client_id')\n",
        "all_feats.remove('target')\n",
        "all_feats.remove('w')\n",
        "all_feats.remove('feature_date')\n",
        "len(all_feats)"
      ]
    },
    {
      "cell_type": "code",
      "execution_count": null,
      "metadata": {
        "id": "-BV7uCKZvlUl",
        "colab": {
          "base_uri": "https://localhost:8080/"
        },
        "outputId": "ed03803e-0e31-49a9-9b95-7c0008d32d96"
      },
      "outputs": [
        {
          "output_type": "execute_result",
          "data": {
            "text/plain": [
              "(231, 10)"
            ]
          },
          "metadata": {},
          "execution_count": 22
        }
      ],
      "source": [
        "cat_feats = []\n",
        "num_feats = []\n",
        "for feat, type in zip(train_df[all_feats].dtypes.index, train_df[all_feats].dtypes):\n",
        "  if type == object:\n",
        "    cat_feats.append(feat)\n",
        "  else:\n",
        "    num_feats.append(feat)\n",
        "\n",
        "len(num_feats), len(cat_feats)"
      ]
    },
    {
      "cell_type": "code",
      "execution_count": null,
      "metadata": {
        "colab": {
          "base_uri": "https://localhost:8080/"
        },
        "id": "8yilllOvDxMx",
        "outputId": "d56800b2-d285-4026-a341-6e583dc1372d"
      },
      "outputs": [
        {
          "output_type": "execute_result",
          "data": {
            "text/plain": [
              "(4184, 245)"
            ]
          },
          "metadata": {},
          "execution_count": 23
        }
      ],
      "source": [
        "# сколько всего записей, где известна должность, но не известна зп?\n",
        "train_df.loc[\n",
        "    (train_df['worksalary_rur_amt'].isna())\n",
        "    & (~train_df['part_last_position_ccode'].isna())\n",
        "].shape"
      ]
    },
    {
      "cell_type": "code",
      "execution_count": null,
      "metadata": {
        "id": "btd_FghbD3ay",
        "colab": {
          "base_uri": "https://localhost:8080/",
          "height": 206
        },
        "outputId": "0f4a46e9-8a51-4747-86bb-bae33d1d4006"
      },
      "outputs": [
        {
          "output_type": "execute_result",
          "data": {
            "text/plain": [
              "  part_last_position_ccode  median_worksalary_rur_amt\n",
              "0              АВТОМЕХАНИК                   158892.5\n",
              "1            АДМИНИСТРАТОР                   180000.0\n",
              "2                 АНАЛИТИК                   100000.0\n",
              "3            Администратор                    60000.0\n",
              "4   Администратор магазина                    70000.0"
            ],
            "text/html": [
              "\n",
              "  <div id=\"df-3ac78017-c965-45da-8668-a604a64a6039\" class=\"colab-df-container\">\n",
              "    <div>\n",
              "<style scoped>\n",
              "    .dataframe tbody tr th:only-of-type {\n",
              "        vertical-align: middle;\n",
              "    }\n",
              "\n",
              "    .dataframe tbody tr th {\n",
              "        vertical-align: top;\n",
              "    }\n",
              "\n",
              "    .dataframe thead th {\n",
              "        text-align: right;\n",
              "    }\n",
              "</style>\n",
              "<table border=\"1\" class=\"dataframe\">\n",
              "  <thead>\n",
              "    <tr style=\"text-align: right;\">\n",
              "      <th></th>\n",
              "      <th>part_last_position_ccode</th>\n",
              "      <th>median_worksalary_rur_amt</th>\n",
              "    </tr>\n",
              "  </thead>\n",
              "  <tbody>\n",
              "    <tr>\n",
              "      <th>0</th>\n",
              "      <td>АВТОМЕХАНИК</td>\n",
              "      <td>158892.5</td>\n",
              "    </tr>\n",
              "    <tr>\n",
              "      <th>1</th>\n",
              "      <td>АДМИНИСТРАТОР</td>\n",
              "      <td>180000.0</td>\n",
              "    </tr>\n",
              "    <tr>\n",
              "      <th>2</th>\n",
              "      <td>АНАЛИТИК</td>\n",
              "      <td>100000.0</td>\n",
              "    </tr>\n",
              "    <tr>\n",
              "      <th>3</th>\n",
              "      <td>Администратор</td>\n",
              "      <td>60000.0</td>\n",
              "    </tr>\n",
              "    <tr>\n",
              "      <th>4</th>\n",
              "      <td>Администратор магазина</td>\n",
              "      <td>70000.0</td>\n",
              "    </tr>\n",
              "  </tbody>\n",
              "</table>\n",
              "</div>\n",
              "    <div class=\"colab-df-buttons\">\n",
              "\n",
              "  <div class=\"colab-df-container\">\n",
              "    <button class=\"colab-df-convert\" onclick=\"convertToInteractive('df-3ac78017-c965-45da-8668-a604a64a6039')\"\n",
              "            title=\"Convert this dataframe to an interactive table.\"\n",
              "            style=\"display:none;\">\n",
              "\n",
              "  <svg xmlns=\"http://www.w3.org/2000/svg\" height=\"24px\" viewBox=\"0 -960 960 960\">\n",
              "    <path d=\"M120-120v-720h720v720H120Zm60-500h600v-160H180v160Zm220 220h160v-160H400v160Zm0 220h160v-160H400v160ZM180-400h160v-160H180v160Zm440 0h160v-160H620v160ZM180-180h160v-160H180v160Zm440 0h160v-160H620v160Z\"/>\n",
              "  </svg>\n",
              "    </button>\n",
              "\n",
              "  <style>\n",
              "    .colab-df-container {\n",
              "      display:flex;\n",
              "      gap: 12px;\n",
              "    }\n",
              "\n",
              "    .colab-df-convert {\n",
              "      background-color: #E8F0FE;\n",
              "      border: none;\n",
              "      border-radius: 50%;\n",
              "      cursor: pointer;\n",
              "      display: none;\n",
              "      fill: #1967D2;\n",
              "      height: 32px;\n",
              "      padding: 0 0 0 0;\n",
              "      width: 32px;\n",
              "    }\n",
              "\n",
              "    .colab-df-convert:hover {\n",
              "      background-color: #E2EBFA;\n",
              "      box-shadow: 0px 1px 2px rgba(60, 64, 67, 0.3), 0px 1px 3px 1px rgba(60, 64, 67, 0.15);\n",
              "      fill: #174EA6;\n",
              "    }\n",
              "\n",
              "    .colab-df-buttons div {\n",
              "      margin-bottom: 4px;\n",
              "    }\n",
              "\n",
              "    [theme=dark] .colab-df-convert {\n",
              "      background-color: #3B4455;\n",
              "      fill: #D2E3FC;\n",
              "    }\n",
              "\n",
              "    [theme=dark] .colab-df-convert:hover {\n",
              "      background-color: #434B5C;\n",
              "      box-shadow: 0px 1px 3px 1px rgba(0, 0, 0, 0.15);\n",
              "      filter: drop-shadow(0px 1px 2px rgba(0, 0, 0, 0.3));\n",
              "      fill: #FFFFFF;\n",
              "    }\n",
              "  </style>\n",
              "\n",
              "    <script>\n",
              "      const buttonEl =\n",
              "        document.querySelector('#df-3ac78017-c965-45da-8668-a604a64a6039 button.colab-df-convert');\n",
              "      buttonEl.style.display =\n",
              "        google.colab.kernel.accessAllowed ? 'block' : 'none';\n",
              "\n",
              "      async function convertToInteractive(key) {\n",
              "        const element = document.querySelector('#df-3ac78017-c965-45da-8668-a604a64a6039');\n",
              "        const dataTable =\n",
              "          await google.colab.kernel.invokeFunction('convertToInteractive',\n",
              "                                                    [key], {});\n",
              "        if (!dataTable) return;\n",
              "\n",
              "        const docLinkHtml = 'Like what you see? Visit the ' +\n",
              "          '<a target=\"_blank\" href=https://colab.research.google.com/notebooks/data_table.ipynb>data table notebook</a>'\n",
              "          + ' to learn more about interactive tables.';\n",
              "        element.innerHTML = '';\n",
              "        dataTable['output_type'] = 'display_data';\n",
              "        await google.colab.output.renderOutput(dataTable, element);\n",
              "        const docLink = document.createElement('div');\n",
              "        docLink.innerHTML = docLinkHtml;\n",
              "        element.appendChild(docLink);\n",
              "      }\n",
              "    </script>\n",
              "  </div>\n",
              "\n",
              "\n",
              "<div id=\"df-025a0dd3-a82f-40ce-ab73-ec37fa981daf\">\n",
              "  <button class=\"colab-df-quickchart\" onclick=\"quickchart('df-025a0dd3-a82f-40ce-ab73-ec37fa981daf')\"\n",
              "            title=\"Suggest charts\"\n",
              "            style=\"display:none;\">\n",
              "\n",
              "<svg xmlns=\"http://www.w3.org/2000/svg\" height=\"24px\"viewBox=\"0 0 24 24\"\n",
              "     width=\"24px\">\n",
              "    <g>\n",
              "        <path d=\"M19 3H5c-1.1 0-2 .9-2 2v14c0 1.1.9 2 2 2h14c1.1 0 2-.9 2-2V5c0-1.1-.9-2-2-2zM9 17H7v-7h2v7zm4 0h-2V7h2v10zm4 0h-2v-4h2v4z\"/>\n",
              "    </g>\n",
              "</svg>\n",
              "  </button>\n",
              "\n",
              "<style>\n",
              "  .colab-df-quickchart {\n",
              "      --bg-color: #E8F0FE;\n",
              "      --fill-color: #1967D2;\n",
              "      --hover-bg-color: #E2EBFA;\n",
              "      --hover-fill-color: #174EA6;\n",
              "      --disabled-fill-color: #AAA;\n",
              "      --disabled-bg-color: #DDD;\n",
              "  }\n",
              "\n",
              "  [theme=dark] .colab-df-quickchart {\n",
              "      --bg-color: #3B4455;\n",
              "      --fill-color: #D2E3FC;\n",
              "      --hover-bg-color: #434B5C;\n",
              "      --hover-fill-color: #FFFFFF;\n",
              "      --disabled-bg-color: #3B4455;\n",
              "      --disabled-fill-color: #666;\n",
              "  }\n",
              "\n",
              "  .colab-df-quickchart {\n",
              "    background-color: var(--bg-color);\n",
              "    border: none;\n",
              "    border-radius: 50%;\n",
              "    cursor: pointer;\n",
              "    display: none;\n",
              "    fill: var(--fill-color);\n",
              "    height: 32px;\n",
              "    padding: 0;\n",
              "    width: 32px;\n",
              "  }\n",
              "\n",
              "  .colab-df-quickchart:hover {\n",
              "    background-color: var(--hover-bg-color);\n",
              "    box-shadow: 0 1px 2px rgba(60, 64, 67, 0.3), 0 1px 3px 1px rgba(60, 64, 67, 0.15);\n",
              "    fill: var(--button-hover-fill-color);\n",
              "  }\n",
              "\n",
              "  .colab-df-quickchart-complete:disabled,\n",
              "  .colab-df-quickchart-complete:disabled:hover {\n",
              "    background-color: var(--disabled-bg-color);\n",
              "    fill: var(--disabled-fill-color);\n",
              "    box-shadow: none;\n",
              "  }\n",
              "\n",
              "  .colab-df-spinner {\n",
              "    border: 2px solid var(--fill-color);\n",
              "    border-color: transparent;\n",
              "    border-bottom-color: var(--fill-color);\n",
              "    animation:\n",
              "      spin 1s steps(1) infinite;\n",
              "  }\n",
              "\n",
              "  @keyframes spin {\n",
              "    0% {\n",
              "      border-color: transparent;\n",
              "      border-bottom-color: var(--fill-color);\n",
              "      border-left-color: var(--fill-color);\n",
              "    }\n",
              "    20% {\n",
              "      border-color: transparent;\n",
              "      border-left-color: var(--fill-color);\n",
              "      border-top-color: var(--fill-color);\n",
              "    }\n",
              "    30% {\n",
              "      border-color: transparent;\n",
              "      border-left-color: var(--fill-color);\n",
              "      border-top-color: var(--fill-color);\n",
              "      border-right-color: var(--fill-color);\n",
              "    }\n",
              "    40% {\n",
              "      border-color: transparent;\n",
              "      border-right-color: var(--fill-color);\n",
              "      border-top-color: var(--fill-color);\n",
              "    }\n",
              "    60% {\n",
              "      border-color: transparent;\n",
              "      border-right-color: var(--fill-color);\n",
              "    }\n",
              "    80% {\n",
              "      border-color: transparent;\n",
              "      border-right-color: var(--fill-color);\n",
              "      border-bottom-color: var(--fill-color);\n",
              "    }\n",
              "    90% {\n",
              "      border-color: transparent;\n",
              "      border-bottom-color: var(--fill-color);\n",
              "    }\n",
              "  }\n",
              "</style>\n",
              "\n",
              "  <script>\n",
              "    async function quickchart(key) {\n",
              "      const quickchartButtonEl =\n",
              "        document.querySelector('#' + key + ' button');\n",
              "      quickchartButtonEl.disabled = true;  // To prevent multiple clicks.\n",
              "      quickchartButtonEl.classList.add('colab-df-spinner');\n",
              "      try {\n",
              "        const charts = await google.colab.kernel.invokeFunction(\n",
              "            'suggestCharts', [key], {});\n",
              "      } catch (error) {\n",
              "        console.error('Error during call to suggestCharts:', error);\n",
              "      }\n",
              "      quickchartButtonEl.classList.remove('colab-df-spinner');\n",
              "      quickchartButtonEl.classList.add('colab-df-quickchart-complete');\n",
              "    }\n",
              "    (() => {\n",
              "      let quickchartButtonEl =\n",
              "        document.querySelector('#df-025a0dd3-a82f-40ce-ab73-ec37fa981daf button');\n",
              "      quickchartButtonEl.style.display =\n",
              "        google.colab.kernel.accessAllowed ? 'block' : 'none';\n",
              "    })();\n",
              "  </script>\n",
              "</div>\n",
              "    </div>\n",
              "  </div>\n"
            ],
            "application/vnd.google.colaboratory.intrinsic+json": {
              "type": "dataframe",
              "variable_name": "median_worksalary",
              "summary": "{\n  \"name\": \"median_worksalary\",\n  \"rows\": 452,\n  \"fields\": [\n    {\n      \"column\": \"part_last_position_ccode\",\n      \"properties\": {\n        \"dtype\": \"string\",\n        \"num_unique_values\": 452,\n        \"samples\": [\n          \"\\u0421\\u043b\\u0435\\u0441\\u0430\\u0440\\u044c \\u043c\\u0435\\u0445\\u0430\\u043d\\u043e\\u0441\\u0431\\u043e\\u0440\\u043e\\u0447\\u043d\\u044b\\u0445 \\u0440\\u0430\\u0431\\u043e\\u0442\",\n          \"\\u0412\\u0440\\u0430\\u0447 - \\u043f\\u0435\\u0434\\u0438\\u0430\\u0442\\u0440\",\n          \"\\u0421\\u0442\\u0430\\u0440\\u0448\\u0438\\u0439 \\u0431\\u0443\\u0445\\u0433\\u0430\\u043b\\u0442\\u0435\\u0440 \\u0433\\u0440\\u0443\\u043f\\u043f\\u044b \\u043f\\u043e \\u0443\\u0447\\u0435\\u0442\\u0443 \\u0437\\u0430\\u0440\\u0430\\u0431\\u043e\\u0442\\u043d\\u043e\\u0439 \\u043f\\u043b\\u0430\\u0442\\u044b\"\n        ],\n        \"semantic_type\": \"\",\n        \"description\": \"\"\n      }\n    },\n    {\n      \"column\": \"median_worksalary_rur_amt\",\n      \"properties\": {\n        \"dtype\": \"number\",\n        \"std\": 829087.3929971245,\n        \"min\": 10000.0,\n        \"max\": 10539376.0,\n        \"num_unique_values\": 201,\n        \"samples\": [\n          60687.0,\n          90000.0,\n          80000.0\n        ],\n        \"semantic_type\": \"\",\n        \"description\": \"\"\n      }\n    }\n  ]\n}"
            }
          },
          "metadata": {},
          "execution_count": 24
        }
      ],
      "source": [
        "# df, содержащий медианные зарплаты для должностей по всем данным\n",
        "median_worksalary = (\n",
        "    pd.concat([train_df[all_feats], test_df[all_feats]], axis=0)\n",
        "    .dropna(subset = 'worksalary_rur_amt')\n",
        "    .groupby('part_last_position_ccode', as_index=False)\n",
        "    ['worksalary_rur_amt'].median()\n",
        "    .rename(columns={'worksalary_rur_amt': 'median_worksalary_rur_amt'})\n",
        ")\n",
        "median_worksalary.head()"
      ]
    },
    {
      "cell_type": "code",
      "execution_count": null,
      "metadata": {
        "colab": {
          "base_uri": "https://localhost:8080/"
        },
        "id": "wdWV8hhzEEv9",
        "outputId": "01ea52b0-3dab-444b-f207-53541915a9e8"
      },
      "outputs": [
        {
          "output_type": "execute_result",
          "data": {
            "text/plain": [
              "(1029, 245)"
            ]
          },
          "metadata": {},
          "execution_count": 25
        }
      ],
      "source": [
        "test_df = test_df.merge(median_worksalary, on='part_last_position_ccode', how='left')\n",
        "test_df['worksalary_rur_amt'] = test_df['worksalary_rur_amt'].fillna(test_df['median_worksalary_rur_amt'])\n",
        "test_df.drop('median_worksalary_rur_amt', axis=1, inplace=True)\n",
        "\n",
        "train_df = train_df.merge(median_worksalary, on='part_last_position_ccode', how='left')\n",
        "train_df['worksalary_rur_amt'] = train_df['worksalary_rur_amt'].fillna(train_df['median_worksalary_rur_amt'])\n",
        "train_df.drop('median_worksalary_rur_amt', axis=1, inplace=True)\n",
        "\n",
        "train_df.loc[\n",
        "    (train_df['worksalary_rur_amt'].isna())\n",
        "    & (~train_df['part_last_position_ccode'].isna())\n",
        "].shape"
      ]
    },
    {
      "cell_type": "code",
      "source": [
        "# Фичи по датасету\n",
        "import re\n",
        "# машина\n",
        "train_df['car_old'] = train_df['feature_date_year'] - train_df['productionyear']\n",
        "train_df['car_country'] = train_df['brand']\n",
        "train_df.loc[\n",
        "    (train_df['car_country'].str.contains('LADA', flags=re.IGNORECASE))\n",
        "    | (train_df['car_country'].str.contains('ЛАДА', flags=re.IGNORECASE))\n",
        "    | (train_df['car_country'].isin(['МОСКВИЧ','КАМАЗ','ЗАЗ', 'ГАЗ'])),\n",
        "    'car_country'\n",
        "] = 'Россия'\n",
        "train_df.loc[\n",
        "    ~train_df['car_country'].isin(['miss_value', 'Россия']),\n",
        "    'car_country'\n",
        "] = 'Иномарка'\n",
        "\n",
        "test_df['car_old'] = test_df['feature_date_year'] - test_df['productionyear']\n",
        "test_df['car_country'] = test_df['brand']\n",
        "test_df.loc[\n",
        "    (test_df['car_country'].str.contains('LADA', flags=re.IGNORECASE))\n",
        "    | (test_df['car_country'].str.contains('ЛАДА', flags=re.IGNORECASE))\n",
        "    | (test_df['car_country'].isin(['МОСКВИЧ','КАМАЗ','ЗАЗ', 'ГАЗ'])),\n",
        "    'car_country'\n",
        "] = 'Россия'\n",
        "test_df.loc[\n",
        "    ~test_df['car_country'].isin(['miss_value', 'Россия']),\n",
        "    'car_country'\n",
        "] = 'Иномарка'\n",
        "\n",
        "# средняя, медианная, минимальная, максимальная зарплата по должности\n",
        "train_df = (\n",
        "    train_df\n",
        "    .merge(\n",
        "        pd.concat([train_df[all_feats], test_df[all_feats]], axis=0)\n",
        "        .groupby('part_last_position_ccode', as_index=False)\n",
        "        ['worksalary_rur_amt'].median()\n",
        "        .rename(columns={'worksalary_rur_amt': 'position_median_worksalary_rur_amt'}),\n",
        "        on='part_last_position_ccode',\n",
        "        how='left'\n",
        "    )\n",
        "    .merge(\n",
        "        pd.concat([train_df[all_feats], test_df[all_feats]], axis=0)\n",
        "        .groupby('part_last_position_ccode', as_index=False)\n",
        "        ['worksalary_rur_amt'].mean()\n",
        "        .rename(columns={'worksalary_rur_amt': 'position_mean_worksalary_rur_amt'}),\n",
        "        on='part_last_position_ccode',\n",
        "        how='left'\n",
        "    )\n",
        "    .merge(\n",
        "        pd.concat([train_df[all_feats], test_df[all_feats]], axis=0)\n",
        "        .groupby('part_last_position_ccode', as_index=False)\n",
        "        ['worksalary_rur_amt'].max()\n",
        "        .rename(columns={'worksalary_rur_amt': 'position_max_worksalary_rur_amt'}),\n",
        "        on='part_last_position_ccode',\n",
        "        how='left'\n",
        "    )\n",
        "    .merge(\n",
        "        pd.concat([train_df[all_feats], test_df[all_feats]], axis=0)\n",
        "        .groupby('part_last_position_ccode', as_index=False)\n",
        "        ['worksalary_rur_amt'].min()\n",
        "        .rename(columns={'worksalary_rur_amt': 'position_min_worksalary_rur_amt'}),\n",
        "        on='part_last_position_ccode',\n",
        "        how='left'\n",
        "    )\n",
        ")\n",
        "\n",
        "test_df = (\n",
        "    test_df\n",
        "    .merge(\n",
        "        pd.concat([train_df[all_feats], test_df[all_feats]], axis=0)\n",
        "        .groupby('part_last_position_ccode', as_index=False)\n",
        "        ['worksalary_rur_amt'].median()\n",
        "        .rename(columns={'worksalary_rur_amt': 'position_median_worksalary_rur_amt'}),\n",
        "        on='part_last_position_ccode',\n",
        "        how='left'\n",
        "    )\n",
        "    .merge(\n",
        "        pd.concat([train_df[all_feats], test_df[all_feats]], axis=0)\n",
        "        .groupby('part_last_position_ccode', as_index=False)\n",
        "        ['worksalary_rur_amt'].mean()\n",
        "        .rename(columns={'worksalary_rur_amt': 'position_mean_worksalary_rur_amt'}),\n",
        "        on='part_last_position_ccode',\n",
        "        how='left'\n",
        "    )\n",
        "    .merge(\n",
        "        pd.concat([train_df[all_feats], test_df[all_feats]], axis=0)\n",
        "        .groupby('part_last_position_ccode', as_index=False)\n",
        "        ['worksalary_rur_amt'].max()\n",
        "        .rename(columns={'worksalary_rur_amt': 'position_max_worksalary_rur_amt'}),\n",
        "        on='part_last_position_ccode',\n",
        "        how='left'\n",
        "    )\n",
        "    .merge(\n",
        "        pd.concat([train_df[all_feats], test_df[all_feats]], axis=0)\n",
        "        .groupby('part_last_position_ccode', as_index=False)\n",
        "        ['worksalary_rur_amt'].min()\n",
        "        .rename(columns={'worksalary_rur_amt': 'position_min_worksalary_rur_amt'}),\n",
        "        on='part_last_position_ccode',\n",
        "        how='left'\n",
        "    )\n",
        ")\n",
        "\n",
        "# средняя, медианная, минимальная, максимальная зарплата по месту жительства\n",
        "train_df = (\n",
        "    train_df\n",
        "    .merge(\n",
        "        pd.concat([train_df[all_feats], test_df[all_feats]], axis=0)\n",
        "        .groupby('addrref', as_index=False)\n",
        "        ['worksalary_rur_amt'].median()\n",
        "        .rename(columns={'worksalary_rur_amt': 'addrref_median_worksalary_rur_amt'}),\n",
        "        on='addrref',\n",
        "        how='left'\n",
        "    )\n",
        "    .merge(\n",
        "        pd.concat([train_df[all_feats], test_df[all_feats]], axis=0)\n",
        "        .groupby('addrref', as_index=False)\n",
        "        ['worksalary_rur_amt'].mean()\n",
        "        .rename(columns={'worksalary_rur_amt': 'addrref_mean_worksalary_rur_amt'}),\n",
        "        on='addrref',\n",
        "        how='left'\n",
        "    )\n",
        "    .merge(\n",
        "        pd.concat([train_df[all_feats], test_df[all_feats]], axis=0)\n",
        "        .groupby('addrref', as_index=False)\n",
        "        ['worksalary_rur_amt'].max()\n",
        "        .rename(columns={'worksalary_rur_amt': 'addrref_max_worksalary_rur_amt'}),\n",
        "        on='addrref',\n",
        "        how='left'\n",
        "    )\n",
        "    .merge(\n",
        "        pd.concat([train_df[all_feats], test_df[all_feats]], axis=0)\n",
        "        .groupby('addrref', as_index=False)\n",
        "        ['worksalary_rur_amt'].min()\n",
        "        .rename(columns={'worksalary_rur_amt': 'addrref_min_worksalary_rur_amt'}),\n",
        "        on='addrref',\n",
        "        how='left'\n",
        "    )\n",
        ")\n",
        "\n",
        "test_df = (\n",
        "    test_df\n",
        "    .merge(\n",
        "        pd.concat([train_df[all_feats], test_df[all_feats]], axis=0)\n",
        "        .groupby('addrref', as_index=False)\n",
        "        ['worksalary_rur_amt'].median()\n",
        "        .rename(columns={'worksalary_rur_amt': 'addrref_median_worksalary_rur_amt'}),\n",
        "        on='addrref',\n",
        "        how='left'\n",
        "    )\n",
        "    .merge(\n",
        "        pd.concat([train_df[all_feats], test_df[all_feats]], axis=0)\n",
        "        .groupby('addrref', as_index=False)\n",
        "        ['worksalary_rur_amt'].mean()\n",
        "        .rename(columns={'worksalary_rur_amt': 'addrref_mean_worksalary_rur_amt'}),\n",
        "        on='addrref',\n",
        "        how='left'\n",
        "    )\n",
        "    .merge(\n",
        "        pd.concat([train_df[all_feats], test_df[all_feats]], axis=0)\n",
        "        .groupby('addrref', as_index=False)\n",
        "        ['worksalary_rur_amt'].max()\n",
        "        .rename(columns={'worksalary_rur_amt': 'addrref_max_worksalary_rur_amt'}),\n",
        "        on='addrref',\n",
        "        how='left'\n",
        "    )\n",
        "    .merge(\n",
        "        pd.concat([train_df[all_feats], test_df[all_feats]], axis=0)\n",
        "        .groupby('addrref', as_index=False)\n",
        "        ['worksalary_rur_amt'].min()\n",
        "        .rename(columns={'worksalary_rur_amt': 'addrref_min_worksalary_rur_amt'}),\n",
        "        on='addrref',\n",
        "        how='left'\n",
        "    )\n",
        ")\n",
        "\n",
        "# средняя, медианная, минимальная, максимальная зарплата по сегменту\n",
        "train_df = (\n",
        "    train_df\n",
        "    .merge(\n",
        "        pd.concat([train_df[all_feats], test_df[all_feats]], axis=0)\n",
        "        .groupby('segment', as_index=False)\n",
        "        ['worksalary_rur_amt'].median()\n",
        "        .rename(columns={'worksalary_rur_amt': 'segment_median_worksalary_rur_amt'}),\n",
        "        on='segment',\n",
        "        how='left'\n",
        "    )\n",
        "    .merge(\n",
        "        pd.concat([train_df[all_feats], test_df[all_feats]], axis=0)\n",
        "        .groupby('segment', as_index=False)\n",
        "        ['worksalary_rur_amt'].mean()\n",
        "        .rename(columns={'worksalary_rur_amt': 'segment_mean_worksalary_rur_amt'}),\n",
        "        on='segment',\n",
        "        how='left'\n",
        "    )\n",
        "    .merge(\n",
        "        pd.concat([train_df[all_feats], test_df[all_feats]], axis=0)\n",
        "        .groupby('segment', as_index=False)\n",
        "        ['worksalary_rur_amt'].max()\n",
        "        .rename(columns={'worksalary_rur_amt': 'segment_max_worksalary_rur_amt'}),\n",
        "        on='segment',\n",
        "        how='left'\n",
        "    )\n",
        "    .merge(\n",
        "        pd.concat([train_df[all_feats], test_df[all_feats]], axis=0)\n",
        "        .groupby('segment', as_index=False)\n",
        "        ['worksalary_rur_amt'].min()\n",
        "        .rename(columns={'worksalary_rur_amt': 'segment_min_worksalary_rur_amt'}),\n",
        "        on='segment',\n",
        "        how='left'\n",
        "    )\n",
        ")\n",
        "\n",
        "test_df = (\n",
        "    test_df\n",
        "    .merge(\n",
        "        pd.concat([train_df[all_feats], test_df[all_feats]], axis=0)\n",
        "        .groupby('segment', as_index=False)\n",
        "        ['worksalary_rur_amt'].median()\n",
        "        .rename(columns={'worksalary_rur_amt': 'segment_median_worksalary_rur_amt'}),\n",
        "        on='segment',\n",
        "        how='left'\n",
        "    )\n",
        "    .merge(\n",
        "        pd.concat([train_df[all_feats], test_df[all_feats]], axis=0)\n",
        "        .groupby('segment', as_index=False)\n",
        "        ['worksalary_rur_amt'].mean()\n",
        "        .rename(columns={'worksalary_rur_amt': 'segment_mean_worksalary_rur_amt'}),\n",
        "        on='segment',\n",
        "        how='left'\n",
        "    )\n",
        "    .merge(\n",
        "        pd.concat([train_df[all_feats], test_df[all_feats]], axis=0)\n",
        "        .groupby('segment', as_index=False)\n",
        "        ['worksalary_rur_amt'].max()\n",
        "        .rename(columns={'worksalary_rur_amt': 'segment_max_worksalary_rur_amt'}),\n",
        "        on='segment',\n",
        "        how='left'\n",
        "    )\n",
        "    .merge(\n",
        "        pd.concat([train_df[all_feats], test_df[all_feats]], axis=0)\n",
        "        .groupby('segment', as_index=False)\n",
        "        ['worksalary_rur_amt'].min()\n",
        "        .rename(columns={'worksalary_rur_amt': 'segment_min_worksalary_rur_amt'}),\n",
        "        on='segment',\n",
        "        how='left'\n",
        "    )\n",
        ")"
      ],
      "metadata": {
        "id": "W5d9il55HnLE"
      },
      "execution_count": null,
      "outputs": []
    },
    {
      "cell_type": "code",
      "source": [
        "all_feats = list(train_df.columns)\n",
        "all_feats.remove('client_id')\n",
        "all_feats.remove('target')\n",
        "all_feats.remove('w')\n",
        "all_feats.remove('feature_date')\n",
        "len(all_feats)\n",
        "\n",
        "cat_feats = []\n",
        "num_feats = []\n",
        "for feat, type in zip(train_df[all_feats].dtypes.index, train_df[all_feats].dtypes):\n",
        "  if type == object:\n",
        "    cat_feats.append(feat)\n",
        "  else:\n",
        "    num_feats.append(feat)\n",
        "\n",
        "len(num_feats), len(cat_feats)"
      ],
      "metadata": {
        "colab": {
          "base_uri": "https://localhost:8080/"
        },
        "id": "4NnbsVmYPUZs",
        "outputId": "39e21ebd-b395-4c33-ff57-e8af5fde348c"
      },
      "execution_count": null,
      "outputs": [
        {
          "output_type": "execute_result",
          "data": {
            "text/plain": [
              "(244, 11)"
            ]
          },
          "metadata": {},
          "execution_count": 27
        }
      ]
    },
    {
      "cell_type": "code",
      "source": [
        "all_feats"
      ],
      "metadata": {
        "colab": {
          "base_uri": "https://localhost:8080/"
        },
        "id": "8Ni9ddobqCtA",
        "outputId": "9b06d274-8d9a-43f8-80ba-8cd67e31d704"
      },
      "execution_count": null,
      "outputs": [
        {
          "output_type": "execute_result",
          "data": {
            "text/plain": [
              "['accum_rur_amt_cm_avg_div_v2',\n",
              " 'addrref',\n",
              " 'amount_by_category_30d__summarur_amt__sum__cashflowcategory_name__bilety_na_kontserty_i_v_teatry',\n",
              " 'amount_by_category_30d__summarur_amt__sum__cashflowcategory_name__brokerskie_uslugi',\n",
              " 'amount_by_category_30d__summarur_amt__sum__cashflowcategory_name__hosting',\n",
              " 'amount_by_category_30d__summarur_amt__sum__cashflowcategory_name__spa_sauny_bani',\n",
              " 'amount_by_category_30d__summarur_amt__sum__cashflowcategory_name__tovary_dlja_detej',\n",
              " 'amount_by_category_30d__summarur_amt__sum__cashflowcategory_name__turisticheskie_agenstva',\n",
              " 'amount_by_category_90d__summarur_amt__sum__cashflowcategory_name__marketplejsy',\n",
              " 'amount_by_category_90d__summarur_amt__sum__cashflowcategory_name__nalogi',\n",
              " 'amount_by_category_90d__summarur_amt__sum__cashflowcategory_name__ohota_i_rybalka',\n",
              " 'amount_by_category_90d__summarur_amt__sum__cashflowcategory_name__prochie_bilety',\n",
              " 'atravel',\n",
              " 'avg_3m_hotels',\n",
              " 'avg_6m_building_services',\n",
              " 'avg_6m_money_transactions',\n",
              " 'avg_6m_personal_services',\n",
              " 'avg_6m_transportation',\n",
              " 'avg_by_category__amount__sum__cashflowcategory_name__detskie_igrushki',\n",
              " 'avg_by_category__amount__sum__cashflowcategory_name__investitsii',\n",
              " 'avg_by_category__amount__sum__cashflowcategory_name__odezhda_dlja_beremennyh',\n",
              " 'avg_by_category__amount__sum__cashflowcategory_name__vydacha_nalichnyh_v_bankomate',\n",
              " 'avg_by_category__amount__sum__cashflowcategory_name__zdorove',\n",
              " 'avg_by_category__amount__sum__cashflowcategory_name__zooparki',\n",
              " 'avg_cnt_daily_transactions_90d',\n",
              " 'avg_debet_turn_rur',\n",
              " 'avg_percents_inc',\n",
              " 'bki_total_ip_max_limit',\n",
              " 'by_category__amount__sum__eoperation_type_name__perevod_mezhdu_svoimi_schetami',\n",
              " 'by_category__amount__sum__eoperation_type_name__platezh_cherez_vidzhet_moj_mobilnyj',\n",
              " 'by_category__amount__sum__eoperation_type_name__pokupka_paja',\n",
              " 'by_category__amount__sum__eoperation_type_name__vneshnij_perevod_rur',\n",
              " 'calls_weight_v2',\n",
              " 'card_dda_rur_amt_cm_avg_div_v2',\n",
              " 'cc_other_rate_max_2avg_prop',\n",
              " 'channel_agentskij_kanal_voc_features_12m_avg_mark',\n",
              " 'channel_agentskij_kanal_voc_features_12m_cnt_mark',\n",
              " 'channel_bankomaty_voc_features_36m_avg_mark',\n",
              " 'channel_bankomaty_voc_features_36m_voc_without_marks_portion',\n",
              " 'channel_bankomaty_voc_features_3m_mark_eq_5_flag',\n",
              " 'channel_bankomaty_voc_features_full_mark_eq_5_flag',\n",
              " 'channel_bankomaty_voc_features_full_voc_not_null_flag',\n",
              " 'channel_chat_s_operatorom_alfainvestitsii_voc_features_12m_avg_mark',\n",
              " 'channel_chat_s_operatorom_alfainvestitsii_voc_features_36m_mark_not_null_flag',\n",
              " 'channel_chat_s_operatorom_voc_features_12m_cnt_mark',\n",
              " 'channel_chat_s_operatorom_voc_features_12m_mark_eq_3_flag',\n",
              " 'channel_chat_s_operatorom_voc_features_12m_voc_with_expert_cnt',\n",
              " 'channel_chat_s_operatorom_voc_features_3m_mark_eq_4_flag',\n",
              " 'channel_chat_s_operatorom_voc_features_full_voc_without_marks_portion',\n",
              " 'channel_chatbot_alfainvestitsii_voc_features_12m_mark_in_4_5_flag',\n",
              " 'channel_chatbot_alfainvestitsii_voc_features_12m_voc_with_expert_portion',\n",
              " 'channel_chatbot_alfainvestitsii_voc_features_36m_mark_eq_3_flag',\n",
              " 'channel_chatbot_alfainvestitsii_voc_features_36m_min_mark',\n",
              " 'channel_chatbot_alfainvestitsii_voc_features_3m_mark_eq_5_flag',\n",
              " 'channel_chatbot_alfainvestitsii_voc_features_3m_mark_in_4_5_flag',\n",
              " 'channel_chatbot_alfainvestitsii_voc_features_full_avg_mark',\n",
              " 'channel_chatbot_voc_features_12m_mark_in_1_3_flag',\n",
              " 'channel_chatbot_voc_features_12m_voc_with_expert_portion',\n",
              " 'channel_chatbot_voc_features_full_voc_without_marks_portion',\n",
              " 'channel_collection_voc_features_36m_cnt_mark',\n",
              " 'channel_collection_voc_features_36m_mark_eq_2_flag',\n",
              " 'channel_collection_voc_features_36m_voc_not_null_flag',\n",
              " 'channel_collection_voc_features_3m_voc_with_expert_portion',\n",
              " 'channel_collection_voc_features_full_voc_without_marks_portion',\n",
              " 'channel_finansovyj_sovetnik_voc_features_36m_avg_mark',\n",
              " 'channel_finansovyj_sovetnik_voc_features_3m_voc_with_expert_portion',\n",
              " 'channel_finansovyj_sovetnik_voc_features_full_avg_mark',\n",
              " 'channel_finansovyj_sovetnik_voc_features_full_voc_with_expert_cnt',\n",
              " 'channel_frodmonitoring_voc_features_12m_mark_eq_2_flag',\n",
              " 'channel_frodmonitoring_voc_features_12m_max_mark',\n",
              " 'channel_frodmonitoring_voc_features_3m_mark_in_4_5_flag',\n",
              " 'channel_frodmonitoring_voc_features_3m_voc_without_marks_portion',\n",
              " 'channel_frodmonitoring_voc_features_full_voc_not_null_flag',\n",
              " 'channel_glid_voc_features_12m_mark_eq_3_flag',\n",
              " 'channel_glid_voc_features_12m_mark_in_1_3_flag',\n",
              " 'channel_glid_voc_features_36m_mark_in_4_5_flag',\n",
              " 'channel_glid_voc_features_3m_mark_eq_1_flag',\n",
              " 'channel_ivr_voc_features_36m_voc_not_null_flag',\n",
              " 'channel_ivr_voc_features_3m_mark_eq_5_flag',\n",
              " 'channel_ivr_voc_features_full_mark_eq_3_flag',\n",
              " 'channel_kts_alfainvestitsii_voc_features_12m_mark_eq_1_flag',\n",
              " 'channel_kts_alfainvestitsii_voc_features_full_mark_eq_4_flag',\n",
              " 'channel_mobilnoe_prilozhenie_ai_voc_features_36m_mark_in_4_5_flag',\n",
              " 'channel_mobilnoe_prilozhenie_ai_voc_features_36m_voc_with_expert_cnt',\n",
              " 'channel_mobilnoe_prilozhenie_ai_voc_features_full_mark_eq_2_flag',\n",
              " 'channel_mobilnoe_prilozhenie_am_voc_features_12m_mark_eq_1_flag',\n",
              " 'channel_mobilnoe_prilozhenie_am_voc_features_12m_voc_with_expert_cnt',\n",
              " 'channel_mobilnoe_prilozhenie_am_voc_features_3m_max_mark',\n",
              " 'channel_otdelenija_voc_features_full_mark_eq_1_flag',\n",
              " 'channel_otdelenija_voc_features_full_mark_eq_4_flag',\n",
              " 'channel_otdelenija_voc_features_full_voc_not_null_flag',\n",
              " 'channel_predstavitelstvo_voc_features_12m_mark_eq_5_flag',\n",
              " 'channel_predstavitelstvo_voc_features_36m_min_mark',\n",
              " 'channel_predstavitelstvo_voc_features_36m_voc_without_marks_portion',\n",
              " 'channel_predstavitelstvo_voc_features_3m_voc_not_null_flag',\n",
              " 'channel_pretenzii_voc_features_36m_mark_in_1_3_flag',\n",
              " 'channel_pretenzii_voc_features_3m_mark_in_4_5_flag',\n",
              " 'channel_pretenzii_voc_features_full_avg_mark',\n",
              " 'channel_telemarketing__bot_voc_features_36m_mark_not_null_flag',\n",
              " 'channel_telemarketing__bot_voc_features_3m_avg_mark',\n",
              " 'channel_telemarketing_voc_features_36m_mark_in_1_3_flag',\n",
              " 'channel_telemarketing_voc_features_3m_voc_not_null_flag',\n",
              " 'channel_telemarketing_voc_features_full_mark_eq_2_flag',\n",
              " 'channel_vyezdnoj_kanal_voc_features_12m_voc_with_expert_portion',\n",
              " 'cntOnnRinCallAvg6m',\n",
              " 'commexist_1_flg30_sum_v2',\n",
              " 'commission_outcome_rur_amt',\n",
              " 'count_device_huawei_0_365_days',\n",
              " 'count_device_samsung_0_60_days',\n",
              " 'cred_dda_rur_amt_3m_avg',\n",
              " 'curr_rur_amt_cm_avg',\n",
              " 'flg_clip_cc_presence_in_previous_30_days_with_150_offset',\n",
              " 'flg_nss_presence_in_previous_30_days_with_150_offset',\n",
              " 'hdb_bki_active_cc_cnt',\n",
              " 'hdb_bki_active_ip_max_outstand',\n",
              " 'hdb_bki_active_micro_max_outstand',\n",
              " 'hdb_bki_active_pil_max_overdue',\n",
              " 'hdb_bki_other_active_auto_month_payments_sum',\n",
              " 'hdb_bki_total_cc_max_limit',\n",
              " 'hdb_bki_total_ip_cnt',\n",
              " 'hdb_bki_total_max_limit',\n",
              " 'hdb_bki_total_max_overdue_sum',\n",
              " 'hdb_bki_total_pil_max_limit',\n",
              " 'hdb_outstand_sum',\n",
              " 'incomeValue',\n",
              " 'lalifeinsurance',\n",
              " 'loan_on_realty_clicks_90',\n",
              " 'main_last_position_ccode',\n",
              " 'main_pre_last_position_ccode',\n",
              " 'max_cc_largest_max_limit_actoff_30d',\n",
              " 'max_pil_largest_max_limit_actoff_90d',\n",
              " 'min_cc_max_el_actoff_90d',\n",
              " 'min_cc_max_pilot_score_actoff_180d',\n",
              " 'min_cc_max_ul_actoff_180_30_inc',\n",
              " 'min_cc_offer_lifetime_days_actoff_90d',\n",
              " 'min_clip_max_ul_actoff_90_30_inc',\n",
              " 'min_max_limit',\n",
              " 'min_pil_max_score_actoff_180d',\n",
              " 'min_pil_max_ul_actoff_90d',\n",
              " 'mob_cnt_days',\n",
              " 'mob_cover_days',\n",
              " 'mortgage_main_3',\n",
              " 'mortgage_main_90',\n",
              " 'oldest_campaignsegment_ccode_for_nss',\n",
              " 'oldest_campaignsegment_ccode_for_pil',\n",
              " 'part_last_position_ccode',\n",
              " 'part_pre_last_position_ccode',\n",
              " 'percent_outcome_rur_amt',\n",
              " 'prod_anketa_cc_7',\n",
              " 'prod_anketa_pil_refin_30',\n",
              " 'prod_page_pil_90',\n",
              " 'prod_page_pil_clicks_90',\n",
              " 'prod_page_sa_30',\n",
              " 'prod_page_travel_30',\n",
              " 'product_auto_loan_ratio_hy',\n",
              " 'product_brokerskoe_obsluzhivanie_voc_features_12m_cnt_mark',\n",
              " 'product_brokerskoe_obsluzhivanie_voc_features_36m_mark_eq_2_flag',\n",
              " 'product_brokerskoe_obsluzhivanie_voc_features_36m_voc_with_expert_cnt',\n",
              " 'product_brokerskoe_obsluzhivanie_voc_features_3m_mark_eq_3_flag',\n",
              " 'product_brokerskoe_obsluzhivanie_voc_features_3m_min_mark',\n",
              " 'product_debetovye_karty_voc_features_36m_mark_in_1_3_flag',\n",
              " 'product_debetovye_karty_voc_features_36m_min_mark',\n",
              " 'product_debetovye_karty_voc_features_36m_voc_not_null_flag',\n",
              " 'product_debetovye_karty_voc_features_full_mark_eq_2_flag',\n",
              " 'product_debetovye_karty_voc_features_full_mark_not_null_flag',\n",
              " 'product_debetovye_karty_voc_features_full_min_mark',\n",
              " 'product_debetovye_karty_voc_features_full_voc_with_expert_cnt',\n",
              " 'product_depozity_voc_features_full_voc_without_marks_portion',\n",
              " 'product_ipoteka_voc_features_12m_mark_eq_5_flag',\n",
              " 'product_ipoteka_voc_features_36m_mark_eq_1_flag',\n",
              " 'product_ipoteka_voc_features_3m_mark_in_4_5_flag',\n",
              " 'product_ipoteka_voc_features_3m_mark_not_null_flag',\n",
              " 'product_ipoteka_voc_features_full_mark_eq_3_flag',\n",
              " 'product_kreditnye_karty_voc_features_12m_avg_mark',\n",
              " 'product_kreditnye_karty_voc_features_36m_mark_eq_5_flag',\n",
              " 'product_kreditnye_karty_voc_features_36m_min_mark',\n",
              " 'product_kreditnye_karty_voc_features_36m_voc_with_expert_cnt',\n",
              " 'product_kreditnye_karty_voc_features_3m_mark_eq_1_flag',\n",
              " 'product_kreditnye_karty_voc_features_full_mark_not_null_flag',\n",
              " 'product_nakopitelnye_scheta_voc_features_36m_mark_not_null_flag',\n",
              " 'product_other_comm_cur_status_hy',\n",
              " 'product_other_depos_ratio_hy',\n",
              " 'product_zarplatnaja_karta_voc_features_36m_mark_eq_5_flag',\n",
              " 'product_zarplatnaja_karta_voc_features_36m_voc_without_marks_portion',\n",
              " 'product_zarplatnaja_karta_voc_features_3m_voc_with_expert_cnt',\n",
              " 'product_zarplatnyj_proekt_voc_features_12m_mark_eq_3_flag',\n",
              " 'product_zarplatnyj_proekt_voc_features_36m_avg_mark',\n",
              " 'product_zarplatnyj_proekt_voc_features_36m_cnt_mark',\n",
              " 'product_zarplatnyj_proekt_voc_features_3m_mark_in_1_3_flag',\n",
              " 'prof_cc_prof',\n",
              " 'profit_income_out_rur_amt_9m',\n",
              " 'puupg_offer_exists_pass_180d',\n",
              " 'segment',\n",
              " 'smsInWavg6m',\n",
              " 'staff_flag',\n",
              " 'first_salary_income',\n",
              " 'sum_rare_countries',\n",
              " 'summarur_1m_miscellaneous_stores',\n",
              " 'summarur_1m_no_cat',\n",
              " 'top_channel_weight_v2',\n",
              " 'total_rur_amt_cm_avg_div_v2',\n",
              " 'total_rur_amt_cm_avg_period_days_ago_v2',\n",
              " 'transaction_category_airplane_tickets_sum_cnt_d15',\n",
              " 'transaction_category_clothers_shoes_sum_amt_d15',\n",
              " 'transaction_category_general_store_inc_amt_15d',\n",
              " 'transaction_category_general_store_inc_cnt_2m',\n",
              " 'transaction_category_hotels_sum_amt_d15',\n",
              " 'transaction_category_hotels_sum_amt_m2',\n",
              " 'transaction_category_house_repair_inc_cnt_2m',\n",
              " 'transaction_category_money_send_inc_amt_15d',\n",
              " 'transaction_category_money_send_sum_cnt_m2',\n",
              " 'transaction_category_other_retail_purchase_percent_amt_2m',\n",
              " 'transaction_category_supermarket_sum_amt_m3_4',\n",
              " 'transaction_category_supermarket_sum_cnt_d15',\n",
              " 'transaction_category_train_tickets_percent_amt_2m',\n",
              " 'turn_cc_cr_max_v2',\n",
              " 'turn_cc_db_min_v2',\n",
              " 'turn_cc_db_sum_v2',\n",
              " 'turn_other_cr_avg_v2',\n",
              " 'turn_other_db_max_v2',\n",
              " 'uniV5',\n",
              " 'unique_countries1',\n",
              " 'vcu_other_rate_max_2avg_prop',\n",
              " 'voc_features_12m_voc_without_marks_portion',\n",
              " 'voc_features_36m_mark_eq_1_flag',\n",
              " 'voc_features_36m_max_mark',\n",
              " 'voc_features_full_mark_eq_3_flag',\n",
              " 'worksalary_rur_amt',\n",
              " 'brand',\n",
              " 'model',\n",
              " 'productionyear',\n",
              " 'avg_salary_month',\n",
              " 'vpm_2024',\n",
              " 'ratio_more_100',\n",
              " 'ratio_less_200',\n",
              " 'min_typical_salary',\n",
              " 'max_typical_salary',\n",
              " 'index_of_life_2022',\n",
              " 'index_of_life_2023',\n",
              " 'feature_date_year',\n",
              " 'feature_date_month',\n",
              " 'car_old',\n",
              " 'car_country',\n",
              " 'position_median_worksalary_rur_amt',\n",
              " 'position_mean_worksalary_rur_amt',\n",
              " 'position_max_worksalary_rur_amt',\n",
              " 'position_min_worksalary_rur_amt',\n",
              " 'addrref_median_worksalary_rur_amt',\n",
              " 'addrref_mean_worksalary_rur_amt',\n",
              " 'addrref_max_worksalary_rur_amt',\n",
              " 'addrref_min_worksalary_rur_amt',\n",
              " 'segment_median_worksalary_rur_amt',\n",
              " 'segment_mean_worksalary_rur_amt',\n",
              " 'segment_max_worksalary_rur_amt',\n",
              " 'segment_min_worksalary_rur_amt']"
            ]
          },
          "metadata": {},
          "execution_count": 136
        }
      ]
    },
    {
      "cell_type": "markdown",
      "metadata": {
        "id": "QRxEz-eNwcCA"
      },
      "source": [
        "## Отбираем наиболее важные признаки"
      ]
    },
    {
      "cell_type": "code",
      "execution_count": null,
      "metadata": {
        "colab": {
          "base_uri": "https://localhost:8080/"
        },
        "id": "yNgp1WqwZRDm",
        "outputId": "f5125bb6-79b9-477b-9709-3eaac2b23dcb"
      },
      "outputs": [
        {
          "output_type": "execute_result",
          "data": {
            "text/plain": [
              "139"
            ]
          },
          "metadata": {},
          "execution_count": 28
        }
      ],
      "source": [
        "# по пропущенным значениям\n",
        "\n",
        "def feats_filter_nan(df: pd.DataFrame,\n",
        "                     num_feat: list(),\n",
        "                     cat_feat: list(),\n",
        "                     nan_threshold: float):\n",
        "\n",
        "    \"\"\"Функция отбора фичей по доле NaN-значений.\n",
        "    Фичи, которые имеют долю NaN-значений не ниже заданного nan_threshold, подлежат удалению.\n",
        "\n",
        "    Parameters\n",
        "    ----------\n",
        "    df : pd.DataFrame\n",
        "        датафрейм с фичами\n",
        "    num_feat : list\n",
        "        список числовых фичей\n",
        "    cat_feat : list\n",
        "        список категориальных фичей (в нашем случае для них NaN-значением является 'no_data')\n",
        "    nan_threshold : float\n",
        "        порог удаления фичи\n",
        "\n",
        "    Returns\n",
        "    -------\n",
        "    list\n",
        "        список фичей, которые останутся в датафрейме\n",
        "\n",
        "    \"\"\"\n",
        "    selected_num_feat = (df[num_feat].isna().sum()/df.shape[0]).loc[lambda x: x < nan_threshold].index.values\n",
        "    selected_cat_feat = (df[cat_feat].isin(['no_data']).sum()/df.shape[0]).loc[lambda x: x < nan_threshold].index.values\n",
        "    res = list(selected_num_feat) + list(selected_cat_feat)\n",
        "\n",
        "    return res\n",
        "\n",
        "selected_features = feats_filter_nan(train_df, num_feats, cat_feats, 0.9)\n",
        "selected_features_num = [feat for feat in num_feats if feat in selected_features]\n",
        "selected_features_cat = [feat for feat in cat_feats if feat in selected_features]\n",
        "len(selected_features)"
      ]
    },
    {
      "cell_type": "code",
      "execution_count": null,
      "metadata": {
        "id": "cbFW4RSffiUA"
      },
      "outputs": [],
      "source": [
        "# Заполняем пропуски\n",
        "train_df = fill_nan(train_df, num_feats, cat_feats)\n",
        "test_df = fill_nan(test_df, num_feats, cat_feats)"
      ]
    },
    {
      "cell_type": "code",
      "execution_count": null,
      "metadata": {
        "colab": {
          "base_uri": "https://localhost:8080/"
        },
        "id": "CsQAy4YkaWnt",
        "outputId": "106f3ea1-3ee4-4992-bbfe-c92d6e9b8189"
      },
      "outputs": [
        {
          "output_type": "execute_result",
          "data": {
            "text/plain": [
              "100"
            ]
          },
          "metadata": {},
          "execution_count": 30
        }
      ],
      "source": [
        "# по доле самого частого значения\n",
        "\n",
        "def feats_filter_nunique(df: pd.DataFrame,\n",
        "                         features: list,\n",
        "                         unique_threshold: float):\n",
        "\n",
        "    \"\"\"Функция отбора фичей по доле самого частого значения.\n",
        "    Фичи, которые имеют 1 уникальное значение (помимо NaN), либо для которых\n",
        "      доля самого частого значения (включая NaN) не ниже unique_threshold, подлежат удалению.\n",
        "\n",
        "    Parameters\n",
        "    ----------\n",
        "    df : pd.DataFrame\n",
        "        датафрейм с фичами\n",
        "    features : list\n",
        "        список фичей\n",
        "    unique_threshold : float\n",
        "        порог удаления фичи\n",
        "\n",
        "    Returns\n",
        "    -------\n",
        "    list\n",
        "        список фичей, которые останутся в датафрейме\n",
        "\n",
        "    \"\"\"\n",
        "    res = []\n",
        "    for feature in features:\n",
        "      series = df[feature].value_counts(dropna=False, normalize=True)\n",
        "      if len(series.index.dropna()) == 1:\n",
        "        continue\n",
        "      if series.max() < unique_threshold:\n",
        "        res.append(feature)\n",
        "\n",
        "    return res\n",
        "\n",
        "selected_features = feats_filter_nunique(train_df, selected_features, 0.9)\n",
        "selected_features_num = [feat for feat in num_feats if feat in selected_features]\n",
        "selected_features_cat = [feat for feat in cat_feats if feat in selected_features]\n",
        "len(selected_features)"
      ]
    },
    {
      "cell_type": "code",
      "source": [
        "selected_features"
      ],
      "metadata": {
        "colab": {
          "base_uri": "https://localhost:8080/"
        },
        "id": "1QQp6jtIqTfg",
        "outputId": "2ec52289-d5ea-409a-96e6-05b57f053250"
      },
      "execution_count": null,
      "outputs": [
        {
          "output_type": "execute_result",
          "data": {
            "text/plain": [
              "['accum_rur_amt_cm_avg_div_v2',\n",
              " 'avg_6m_building_services',\n",
              " 'avg_6m_money_transactions',\n",
              " 'avg_6m_personal_services',\n",
              " 'avg_6m_transportation',\n",
              " 'avg_by_category__amount__sum__cashflowcategory_name__vydacha_nalichnyh_v_bankomate',\n",
              " 'avg_by_category__amount__sum__cashflowcategory_name__zdorove',\n",
              " 'avg_cnt_daily_transactions_90d',\n",
              " 'avg_debet_turn_rur',\n",
              " 'by_category__amount__sum__eoperation_type_name__vneshnij_perevod_rur',\n",
              " 'calls_weight_v2',\n",
              " 'card_dda_rur_amt_cm_avg_div_v2',\n",
              " 'cc_other_rate_max_2avg_prop',\n",
              " 'channel_chat_s_operatorom_voc_features_12m_cnt_mark',\n",
              " 'channel_chat_s_operatorom_voc_features_full_voc_without_marks_portion',\n",
              " 'channel_chatbot_voc_features_full_voc_without_marks_portion',\n",
              " 'channel_ivr_voc_features_36m_voc_not_null_flag',\n",
              " 'channel_otdelenija_voc_features_full_voc_not_null_flag',\n",
              " 'channel_telemarketing_voc_features_3m_voc_not_null_flag',\n",
              " 'cntOnnRinCallAvg6m',\n",
              " 'commission_outcome_rur_amt',\n",
              " 'count_device_huawei_0_365_days',\n",
              " 'count_device_samsung_0_60_days',\n",
              " 'curr_rur_amt_cm_avg',\n",
              " 'flg_clip_cc_presence_in_previous_30_days_with_150_offset',\n",
              " 'flg_nss_presence_in_previous_30_days_with_150_offset',\n",
              " 'hdb_bki_active_cc_cnt',\n",
              " 'hdb_bki_active_ip_max_outstand',\n",
              " 'hdb_bki_active_pil_max_overdue',\n",
              " 'hdb_bki_total_cc_max_limit',\n",
              " 'hdb_bki_total_ip_cnt',\n",
              " 'hdb_bki_total_max_limit',\n",
              " 'hdb_bki_total_max_overdue_sum',\n",
              " 'hdb_bki_total_pil_max_limit',\n",
              " 'hdb_outstand_sum',\n",
              " 'incomeValue',\n",
              " 'max_cc_largest_max_limit_actoff_30d',\n",
              " 'max_pil_largest_max_limit_actoff_90d',\n",
              " 'min_cc_max_el_actoff_90d',\n",
              " 'min_cc_offer_lifetime_days_actoff_90d',\n",
              " 'min_max_limit',\n",
              " 'min_pil_max_score_actoff_180d',\n",
              " 'min_pil_max_ul_actoff_90d',\n",
              " 'mob_cnt_days',\n",
              " 'mob_cover_days',\n",
              " 'percent_outcome_rur_amt',\n",
              " 'product_debetovye_karty_voc_features_36m_voc_not_null_flag',\n",
              " 'product_zarplatnaja_karta_voc_features_36m_voc_without_marks_portion',\n",
              " 'prof_cc_prof',\n",
              " 'profit_income_out_rur_amt_9m',\n",
              " 'puupg_offer_exists_pass_180d',\n",
              " 'smsInWavg6m',\n",
              " 'summarur_1m_miscellaneous_stores',\n",
              " 'summarur_1m_no_cat',\n",
              " 'top_channel_weight_v2',\n",
              " 'total_rur_amt_cm_avg_div_v2',\n",
              " 'total_rur_amt_cm_avg_period_days_ago_v2',\n",
              " 'transaction_category_clothers_shoes_sum_amt_d15',\n",
              " 'transaction_category_general_store_inc_amt_15d',\n",
              " 'transaction_category_general_store_inc_cnt_2m',\n",
              " 'transaction_category_house_repair_inc_cnt_2m',\n",
              " 'transaction_category_money_send_inc_amt_15d',\n",
              " 'transaction_category_money_send_sum_cnt_m2',\n",
              " 'transaction_category_other_retail_purchase_percent_amt_2m',\n",
              " 'transaction_category_supermarket_sum_amt_m3_4',\n",
              " 'transaction_category_supermarket_sum_cnt_d15',\n",
              " 'turn_cc_cr_max_v2',\n",
              " 'turn_cc_db_min_v2',\n",
              " 'turn_cc_db_sum_v2',\n",
              " 'turn_other_cr_avg_v2',\n",
              " 'turn_other_db_max_v2',\n",
              " 'uniV5',\n",
              " 'voc_features_12m_voc_without_marks_portion',\n",
              " 'voc_features_36m_mark_eq_1_flag',\n",
              " 'voc_features_36m_max_mark',\n",
              " 'worksalary_rur_amt',\n",
              " 'avg_salary_month',\n",
              " 'vpm_2024',\n",
              " 'ratio_more_100',\n",
              " 'ratio_less_200',\n",
              " 'min_typical_salary',\n",
              " 'max_typical_salary',\n",
              " 'index_of_life_2022',\n",
              " 'index_of_life_2023',\n",
              " 'feature_date_year',\n",
              " 'feature_date_month',\n",
              " 'addrref_median_worksalary_rur_amt',\n",
              " 'addrref_mean_worksalary_rur_amt',\n",
              " 'addrref_max_worksalary_rur_amt',\n",
              " 'addrref_min_worksalary_rur_amt',\n",
              " 'segment_median_worksalary_rur_amt',\n",
              " 'segment_mean_worksalary_rur_amt',\n",
              " 'segment_max_worksalary_rur_amt',\n",
              " 'segment_min_worksalary_rur_amt',\n",
              " 'cl0_prob',\n",
              " 'cl1_prob',\n",
              " 'cl2_prob',\n",
              " 'addrref',\n",
              " 'main_last_position_ccode',\n",
              " 'main_pre_last_position_ccode',\n",
              " 'oldest_campaignsegment_ccode_for_nss',\n",
              " 'oldest_campaignsegment_ccode_for_pil',\n",
              " 'segment',\n",
              " 'target_bins']"
            ]
          },
          "metadata": {},
          "execution_count": 139
        }
      ]
    },
    {
      "cell_type": "code",
      "execution_count": null,
      "metadata": {
        "colab": {
          "base_uri": "https://localhost:8080/"
        },
        "id": "bq4UYuNbaQeN",
        "outputId": "e3759df9-bf81-46fb-e097-436d47f7b0a4"
      },
      "outputs": [
        {
          "output_type": "execute_result",
          "data": {
            "text/plain": [
              "92"
            ]
          },
          "metadata": {},
          "execution_count": 31
        }
      ],
      "source": [
        "# по корреляции\n",
        "\n",
        "def feats_filter_corr(df: pd.DataFrame,\n",
        "                      features: list,\n",
        "                      corr_threshold: float):\n",
        "\n",
        "    \"\"\"Функция отбора фичей по корреляции между фичами.\n",
        "    Фичи, которые коррелируют с показателем не менее corr_threshold, подлежат\n",
        "      удалению (из пары коррелирующих фичей удаляется менее заполненная фича).\n",
        "      Используется метод df[features].corr() с корреляцией Пирсона.\n",
        "\n",
        "    Parameters\n",
        "    ----------\n",
        "    df : pd.DataFrame\n",
        "        датафрейм с фичами\n",
        "    features : list\n",
        "        список фичей\n",
        "    corr_threshold : float\n",
        "        порог удаления фичи\n",
        "\n",
        "    Returns\n",
        "    -------\n",
        "    list\n",
        "        список фичей, которые останутся в датафрейме\n",
        "\n",
        "    \"\"\"\n",
        "    cat_features = df[features].select_dtypes(include=['object']).columns\n",
        "    df_tmp = df[features]\n",
        "    df_tmp[cat_features] = df[cat_features].apply(lambda x: pd.factorize(x)[0])\n",
        "    features_corr = df_tmp.corr()\n",
        "    res = features.copy()\n",
        "\n",
        "    def delete_in_selected_features(res_list: list, worst_feature: str):\n",
        "      if worst_feature in res_list:\n",
        "        res_list.remove(worst_feature)\n",
        "\n",
        "    for i in range(len(features)-1):\n",
        "      for j in range(i+1, len(features)):\n",
        "        if abs(features_corr.iloc[i][j]) >= corr_threshold:\n",
        "          if features[i] in cat_features and features[j] in cat_features:\n",
        "            if df[features[i]].isin(['no_data']).sum() <= df[features[j]].isin(['no_data']).sum():\n",
        "              delete_in_selected_features(res, features[j])\n",
        "            else:\n",
        "              delete_in_selected_features(res, features[i])\n",
        "\n",
        "          elif features[i] in cat_features and features[j] not in cat_features:\n",
        "            if df[features[i]].isin(['no_data']).sum() < df[features[j]].isna().sum():\n",
        "              delete_in_selected_features(res, features[j])\n",
        "            else:\n",
        "              delete_in_selected_features(res, features[i])\n",
        "\n",
        "          elif features[i] not in cat_features and features[j] in cat_features:\n",
        "            if df[features[i]].isna().sum() < df[features[j]].isin(['no_data']).sum():\n",
        "              delete_in_selected_features(res, features[j])\n",
        "            else:\n",
        "              delete_in_selected_features(res, features[i])\n",
        "\n",
        "          else:\n",
        "            if df[features[i]].isna().sum() < df[features[j]].isna().sum():\n",
        "              delete_in_selected_features(res, features[j])\n",
        "            else:\n",
        "              delete_in_selected_features(res, features[i])\n",
        "    return res\n",
        "\n",
        "selected_features = feats_filter_corr(train_df, selected_features, 0.95)\n",
        "selected_features_num = [feat for feat in num_feats if feat in selected_features]\n",
        "selected_features_cat = [feat for feat in cat_feats if feat in selected_features]\n",
        "len(selected_features)"
      ]
    },
    {
      "cell_type": "code",
      "source": [
        "selected_features"
      ],
      "metadata": {
        "colab": {
          "base_uri": "https://localhost:8080/"
        },
        "id": "b5hXfepnncf6",
        "outputId": "1f6a97cf-741f-4307-afef-cd0b0ebfc2a6"
      },
      "execution_count": null,
      "outputs": [
        {
          "output_type": "execute_result",
          "data": {
            "text/plain": [
              "['accum_rur_amt_cm_avg_div_v2',\n",
              " 'avg_6m_building_services',\n",
              " 'avg_6m_money_transactions',\n",
              " 'avg_6m_personal_services',\n",
              " 'avg_6m_transportation',\n",
              " 'avg_by_category__amount__sum__cashflowcategory_name__vydacha_nalichnyh_v_bankomate',\n",
              " 'avg_by_category__amount__sum__cashflowcategory_name__zdorove',\n",
              " 'avg_cnt_daily_transactions_90d',\n",
              " 'avg_debet_turn_rur',\n",
              " 'by_category__amount__sum__eoperation_type_name__vneshnij_perevod_rur',\n",
              " 'calls_weight_v2',\n",
              " 'card_dda_rur_amt_cm_avg_div_v2',\n",
              " 'cc_other_rate_max_2avg_prop',\n",
              " 'channel_chat_s_operatorom_voc_features_12m_cnt_mark',\n",
              " 'channel_chat_s_operatorom_voc_features_full_voc_without_marks_portion',\n",
              " 'channel_chatbot_voc_features_full_voc_without_marks_portion',\n",
              " 'channel_ivr_voc_features_36m_voc_not_null_flag',\n",
              " 'channel_otdelenija_voc_features_full_voc_not_null_flag',\n",
              " 'channel_telemarketing_voc_features_3m_voc_not_null_flag',\n",
              " 'cntOnnRinCallAvg6m',\n",
              " 'commission_outcome_rur_amt',\n",
              " 'count_device_huawei_0_365_days',\n",
              " 'count_device_samsung_0_60_days',\n",
              " 'curr_rur_amt_cm_avg',\n",
              " 'flg_clip_cc_presence_in_previous_30_days_with_150_offset',\n",
              " 'flg_nss_presence_in_previous_30_days_with_150_offset',\n",
              " 'hdb_bki_active_cc_cnt',\n",
              " 'hdb_bki_active_ip_max_outstand',\n",
              " 'hdb_bki_active_pil_max_overdue',\n",
              " 'hdb_bki_total_cc_max_limit',\n",
              " 'hdb_bki_total_ip_cnt',\n",
              " 'hdb_bki_total_max_limit',\n",
              " 'hdb_bki_total_max_overdue_sum',\n",
              " 'hdb_bki_total_pil_max_limit',\n",
              " 'hdb_outstand_sum',\n",
              " 'incomeValue',\n",
              " 'max_cc_largest_max_limit_actoff_30d',\n",
              " 'max_pil_largest_max_limit_actoff_90d',\n",
              " 'min_cc_max_el_actoff_90d',\n",
              " 'min_cc_offer_lifetime_days_actoff_90d',\n",
              " 'min_max_limit',\n",
              " 'min_pil_max_score_actoff_180d',\n",
              " 'min_pil_max_ul_actoff_90d',\n",
              " 'mob_cover_days',\n",
              " 'percent_outcome_rur_amt',\n",
              " 'product_debetovye_karty_voc_features_36m_voc_not_null_flag',\n",
              " 'product_zarplatnaja_karta_voc_features_36m_voc_without_marks_portion',\n",
              " 'prof_cc_prof',\n",
              " 'profit_income_out_rur_amt_9m',\n",
              " 'puupg_offer_exists_pass_180d',\n",
              " 'smsInWavg6m',\n",
              " 'summarur_1m_miscellaneous_stores',\n",
              " 'summarur_1m_no_cat',\n",
              " 'top_channel_weight_v2',\n",
              " 'total_rur_amt_cm_avg_div_v2',\n",
              " 'total_rur_amt_cm_avg_period_days_ago_v2',\n",
              " 'transaction_category_clothers_shoes_sum_amt_d15',\n",
              " 'transaction_category_general_store_inc_amt_15d',\n",
              " 'transaction_category_general_store_inc_cnt_2m',\n",
              " 'transaction_category_house_repair_inc_cnt_2m',\n",
              " 'transaction_category_money_send_inc_amt_15d',\n",
              " 'transaction_category_money_send_sum_cnt_m2',\n",
              " 'transaction_category_other_retail_purchase_percent_amt_2m',\n",
              " 'transaction_category_supermarket_sum_amt_m3_4',\n",
              " 'transaction_category_supermarket_sum_cnt_d15',\n",
              " 'turn_cc_cr_max_v2',\n",
              " 'turn_cc_db_sum_v2',\n",
              " 'turn_other_cr_avg_v2',\n",
              " 'turn_other_db_max_v2',\n",
              " 'uniV5',\n",
              " 'voc_features_12m_voc_without_marks_portion',\n",
              " 'voc_features_36m_mark_eq_1_flag',\n",
              " 'voc_features_36m_max_mark',\n",
              " 'worksalary_rur_amt',\n",
              " 'avg_salary_month',\n",
              " 'ratio_less_200',\n",
              " 'index_of_life_2023',\n",
              " 'feature_date_year',\n",
              " 'feature_date_month',\n",
              " 'addrref_median_worksalary_rur_amt',\n",
              " 'addrref_mean_worksalary_rur_amt',\n",
              " 'addrref_max_worksalary_rur_amt',\n",
              " 'addrref_min_worksalary_rur_amt',\n",
              " 'segment_mean_worksalary_rur_amt',\n",
              " 'segment_max_worksalary_rur_amt',\n",
              " 'segment_min_worksalary_rur_amt',\n",
              " 'addrref',\n",
              " 'main_last_position_ccode',\n",
              " 'main_pre_last_position_ccode',\n",
              " 'oldest_campaignsegment_ccode_for_nss',\n",
              " 'oldest_campaignsegment_ccode_for_pil',\n",
              " 'segment']"
            ]
          },
          "metadata": {},
          "execution_count": 32
        }
      ]
    },
    {
      "cell_type": "code",
      "execution_count": null,
      "metadata": {
        "id": "FPxfCqWvW36G"
      },
      "outputs": [],
      "source": [
        "filtered_features = selected_features.copy()\n",
        "filtered_features_num = selected_features_num.copy()\n",
        "filtered_features_cat = selected_features_cat.copy()"
      ]
    },
    {
      "cell_type": "markdown",
      "metadata": {
        "id": "5uH7Nq7jDTjj"
      },
      "source": [
        "# Выбор признаков и обучение классификатора"
      ]
    },
    {
      "cell_type": "markdown",
      "metadata": {
        "id": "DXKV35cTNK_o"
      },
      "source": [
        "По результатам предварительного анализа решено оставить 3 бина"
      ]
    },
    {
      "cell_type": "code",
      "execution_count": null,
      "metadata": {
        "id": "b1XE8oOmNeUu"
      },
      "outputs": [],
      "source": [
        "# вариант 1\n",
        "train_df['target_bins'] = pd.qcut(train_df['target'], q=3)\n",
        "train_df['target_bins'] = train_df['target_bins'].astype('string')"
      ]
    },
    {
      "cell_type": "code",
      "execution_count": null,
      "metadata": {
        "id": "R9gU6KfyeZtD"
      },
      "outputs": [],
      "source": [
        "le = LabelEncoder()\n",
        "train_df['target_bins'] = le.fit_transform(train_df['target_bins'])"
      ]
    },
    {
      "cell_type": "code",
      "execution_count": null,
      "metadata": {
        "colab": {
          "base_uri": "https://localhost:8080/"
        },
        "id": "ynHX5gBaaHJV",
        "outputId": "4c21989a-cb98-44b1-b173-1c8957a0885e"
      },
      "outputs": [
        {
          "output_type": "stream",
          "name": "stdout",
          "text": [
            "0:\tlearn: 1.0745351\ttotal: 29.4ms\tremaining: 14.7s\n",
            "100:\tlearn: 0.7200470\ttotal: 1.52s\tremaining: 5.99s\n",
            "200:\tlearn: 0.6865376\ttotal: 3.96s\tremaining: 5.89s\n",
            "300:\tlearn: 0.6717380\ttotal: 6.73s\tremaining: 4.45s\n",
            "400:\tlearn: 0.6625552\ttotal: 8s\tremaining: 1.98s\n",
            "499:\tlearn: 0.6558130\ttotal: 9.28s\tremaining: 0us\n"
          ]
        },
        {
          "output_type": "execute_result",
          "data": {
            "text/plain": [
              "69"
            ]
          },
          "metadata": {},
          "execution_count": 171
        }
      ],
      "source": [
        "# отсечение по рандомной фиче\n",
        "\n",
        "def feats_filter_random_feat(df: pd.DataFrame,\n",
        "                             features: list,\n",
        "                             cat_features: list):\n",
        "\n",
        "    \"\"\"Функция отбора фичей при помощи отсечения менее важных фичей чем рандомная фича.\n",
        "    Фичи, которые имеют в простой модели важность ниже рандомной фичи, подлежат удалению.\n",
        "\n",
        "    Parameters\n",
        "    ----------\n",
        "    df : pd.DataFrame\n",
        "        датафрейм с фичами\n",
        "    features : list\n",
        "        список фичей\n",
        "    cat_features : list\n",
        "        список категориальных фичей\n",
        "\n",
        "    Returns\n",
        "    -------\n",
        "    list\n",
        "        список фичей, которые останутся в датафрейме\n",
        "\n",
        "    \"\"\"\n",
        "\n",
        "    df['random'] = np.random.uniform(0, 1, df.shape[0])\n",
        "    simple_model = fit_catboost_classifier(df[features + ['random']], None, df['target_bins'], None, cat_features)\n",
        "    feature_importance = pd.Series(simple_model.get_feature_importance(), df[features + ['random']].columns)\n",
        "    selected_features = list(feature_importance[feature_importance > feature_importance['random']].index)\n",
        "    df = df.drop('random', axis=1)\n",
        "    return selected_features, feature_importance\n",
        "\n",
        "train_df = train_df.sample(frac=1)\n",
        "classifier_features, feature_importance = feats_filter_random_feat(train_df, selected_features, selected_features_cat)\n",
        "classifier_features_num = [feat for feat in num_feats if feat in classifier_features]\n",
        "classifier_features_cat = [feat for feat in cat_feats if feat in classifier_features]\n",
        "len(classifier_features)"
      ]
    },
    {
      "cell_type": "code",
      "execution_count": null,
      "metadata": {
        "colab": {
          "base_uri": "https://localhost:8080/"
        },
        "id": "12p8WQ4aQB4v",
        "outputId": "dd6bf066-e50c-4407-830f-d8a14020db25"
      },
      "outputs": [
        {
          "output_type": "execute_result",
          "data": {
            "text/plain": [
              "['accum_rur_amt_cm_avg_div_v2',\n",
              " 'avg_6m_building_services',\n",
              " 'avg_6m_money_transactions',\n",
              " 'avg_6m_personal_services',\n",
              " 'avg_6m_transportation',\n",
              " 'avg_by_category__amount__sum__cashflowcategory_name__vydacha_nalichnyh_v_bankomate',\n",
              " 'avg_by_category__amount__sum__cashflowcategory_name__zdorove',\n",
              " 'avg_cnt_daily_transactions_90d',\n",
              " 'avg_debet_turn_rur',\n",
              " 'by_category__amount__sum__eoperation_type_name__vneshnij_perevod_rur',\n",
              " 'cc_other_rate_max_2avg_prop',\n",
              " 'channel_chatbot_voc_features_full_voc_without_marks_portion',\n",
              " 'channel_ivr_voc_features_36m_voc_not_null_flag',\n",
              " 'channel_otdelenija_voc_features_full_voc_not_null_flag',\n",
              " 'channel_telemarketing_voc_features_3m_voc_not_null_flag',\n",
              " 'cntOnnRinCallAvg6m',\n",
              " 'commission_outcome_rur_amt',\n",
              " 'count_device_huawei_0_365_days',\n",
              " 'count_device_samsung_0_60_days',\n",
              " 'curr_rur_amt_cm_avg',\n",
              " 'flg_clip_cc_presence_in_previous_30_days_with_150_offset',\n",
              " 'hdb_bki_active_ip_max_outstand',\n",
              " 'hdb_bki_active_pil_max_overdue',\n",
              " 'hdb_bki_total_cc_max_limit',\n",
              " 'hdb_bki_total_max_limit',\n",
              " 'hdb_bki_total_max_overdue_sum',\n",
              " 'hdb_bki_total_pil_max_limit',\n",
              " 'hdb_outstand_sum',\n",
              " 'incomeValue',\n",
              " 'max_cc_largest_max_limit_actoff_30d',\n",
              " 'max_pil_largest_max_limit_actoff_90d',\n",
              " 'min_cc_max_el_actoff_90d',\n",
              " 'min_cc_offer_lifetime_days_actoff_90d',\n",
              " 'min_max_limit',\n",
              " 'min_pil_max_score_actoff_180d',\n",
              " 'min_pil_max_ul_actoff_90d',\n",
              " 'mob_cover_days',\n",
              " 'percent_outcome_rur_amt',\n",
              " 'product_zarplatnaja_karta_voc_features_36m_voc_without_marks_portion',\n",
              " 'prof_cc_prof',\n",
              " 'profit_income_out_rur_amt_9m',\n",
              " 'puupg_offer_exists_pass_180d',\n",
              " 'smsInWavg6m',\n",
              " 'summarur_1m_no_cat',\n",
              " 'top_channel_weight_v2',\n",
              " 'total_rur_amt_cm_avg_div_v2',\n",
              " 'total_rur_amt_cm_avg_period_days_ago_v2',\n",
              " 'transaction_category_general_store_inc_cnt_2m',\n",
              " 'transaction_category_money_send_inc_amt_15d',\n",
              " 'transaction_category_money_send_sum_cnt_m2',\n",
              " 'transaction_category_supermarket_sum_amt_m3_4',\n",
              " 'transaction_category_supermarket_sum_cnt_d15',\n",
              " 'turn_cc_cr_max_v2',\n",
              " 'turn_cc_db_sum_v2',\n",
              " 'turn_other_cr_avg_v2',\n",
              " 'turn_other_db_max_v2',\n",
              " 'uniV5',\n",
              " 'voc_features_12m_voc_without_marks_portion',\n",
              " 'voc_features_36m_max_mark',\n",
              " 'worksalary_rur_amt',\n",
              " 'avg_salary_month',\n",
              " 'index_of_life_2023',\n",
              " 'feature_date_year',\n",
              " 'feature_date_month',\n",
              " 'addrref_median_worksalary_rur_amt',\n",
              " 'segment_mean_worksalary_rur_amt',\n",
              " 'segment_max_worksalary_rur_amt',\n",
              " 'segment_min_worksalary_rur_amt',\n",
              " 'addrref',\n",
              " 'main_last_position_ccode',\n",
              " 'main_pre_last_position_ccode',\n",
              " 'oldest_campaignsegment_ccode_for_nss',\n",
              " 'oldest_campaignsegment_ccode_for_pil',\n",
              " 'segment']"
            ]
          },
          "metadata": {},
          "execution_count": 62
        }
      ],
      "source": [
        "classifier_features"
      ]
    },
    {
      "cell_type": "code",
      "execution_count": null,
      "metadata": {
        "id": "6eV8AnWOSnRB"
      },
      "outputs": [],
      "source": [
        "classifier_features = ['accum_rur_amt_cm_avg_div_v2',\n",
        " 'avg_6m_building_services',\n",
        " 'avg_6m_money_transactions',\n",
        " 'avg_6m_personal_services',\n",
        " 'avg_6m_transportation',\n",
        " 'avg_by_category__amount__sum__cashflowcategory_name__vydacha_nalichnyh_v_bankomate',\n",
        " 'avg_by_category__amount__sum__cashflowcategory_name__zdorove',\n",
        " 'avg_cnt_daily_transactions_90d',\n",
        " 'avg_debet_turn_rur',\n",
        " 'cc_other_rate_max_2avg_prop',\n",
        " 'channel_chat_s_operatorom_voc_features_12m_cnt_mark',\n",
        " 'channel_chatbot_voc_features_full_voc_without_marks_portion',\n",
        " 'channel_otdelenija_voc_features_full_voc_not_null_flag',\n",
        " 'cntOnnRinCallAvg6m',\n",
        " 'commission_outcome_rur_amt',\n",
        " 'curr_rur_amt_cm_avg',\n",
        " 'hdb_bki_active_cc_cnt',\n",
        " 'hdb_bki_active_ip_max_outstand',\n",
        " 'hdb_bki_active_pil_max_overdue',\n",
        " 'hdb_bki_total_cc_max_limit',\n",
        " 'hdb_bki_total_ip_cnt',\n",
        " 'hdb_bki_total_max_limit',\n",
        " 'hdb_bki_total_max_overdue_sum',\n",
        " 'hdb_bki_total_pil_max_limit',\n",
        " 'hdb_outstand_sum',\n",
        " 'incomeValue',\n",
        " 'max_cc_largest_max_limit_actoff_30d',\n",
        " 'max_pil_largest_max_limit_actoff_90d',\n",
        " 'min_cc_max_el_actoff_90d',\n",
        " 'min_cc_offer_lifetime_days_actoff_90d',\n",
        " 'min_max_limit',\n",
        " 'min_pil_max_score_actoff_180d',\n",
        " 'min_pil_max_ul_actoff_90d',\n",
        " 'mob_cover_days',\n",
        " 'percent_outcome_rur_amt',\n",
        " 'product_zarplatnaja_karta_voc_features_36m_voc_without_marks_portion',\n",
        " 'prof_cc_prof',\n",
        " 'profit_income_out_rur_amt_9m',\n",
        " 'puupg_offer_exists_pass_180d',\n",
        " 'smsInWavg6m',\n",
        " 'summarur_1m_no_cat',\n",
        " 'top_channel_weight_v2',\n",
        " 'total_rur_amt_cm_avg_div_v2',\n",
        " 'total_rur_amt_cm_avg_period_days_ago_v2',\n",
        " 'transaction_category_general_store_inc_amt_15d',\n",
        " 'transaction_category_general_store_inc_cnt_2m',\n",
        " 'transaction_category_house_repair_inc_cnt_2m',\n",
        " 'transaction_category_money_send_sum_cnt_m2',\n",
        " 'transaction_category_other_retail_purchase_percent_amt_2m',\n",
        " 'transaction_category_supermarket_sum_amt_m3_4',\n",
        " 'transaction_category_supermarket_sum_cnt_d15',\n",
        " 'turn_cc_cr_max_v2',\n",
        " 'turn_cc_db_sum_v2',\n",
        " 'turn_other_cr_avg_v2',\n",
        " 'turn_other_db_max_v2',\n",
        " 'uniV5',\n",
        " 'voc_features_12m_voc_without_marks_portion',\n",
        " 'voc_features_36m_mark_eq_1_flag',\n",
        " 'voc_features_36m_max_mark',\n",
        " 'worksalary_rur_amt',\n",
        " 'avg_salary_month',\n",
        " 'ratio_less_200',\n",
        " 'index_of_life_2023',\n",
        " 'feature_date_year',\n",
        " 'feature_date_month',\n",
        " 'addrref_median_worksalary_rur_amt',\n",
        " 'addrref_mean_worksalary_rur_amt',\n",
        " 'addrref_max_worksalary_rur_amt',\n",
        " 'addrref_min_worksalary_rur_amt',\n",
        " 'segment_mean_worksalary_rur_amt',\n",
        " 'segment_max_worksalary_rur_amt',\n",
        " 'segment_min_worksalary_rur_amt',\n",
        " 'addrref',\n",
        " 'main_last_position_ccode',\n",
        " 'main_pre_last_position_ccode',\n",
        " 'oldest_campaignsegment_ccode_for_nss',\n",
        " 'oldest_campaignsegment_ccode_for_pil',\n",
        " 'segment']\n",
        "classifier_features_num = [feat for feat in num_feats if feat in classifier_features]\n",
        "classifier_features_cat = [feat for feat in cat_feats if feat in classifier_features]"
      ]
    },
    {
      "cell_type": "markdown",
      "metadata": {
        "id": "zbysIWUreZtE"
      },
      "source": [
        "## Обучение классификатора"
      ]
    },
    {
      "cell_type": "code",
      "execution_count": null,
      "metadata": {
        "id": "r5rLl0mXQyOR"
      },
      "outputs": [],
      "source": [
        "train_df = train_df.sample(frac=1)\n",
        "# разделим данные на обучающую, тестовую и валидационную выборки\n",
        "x_train, x_val, y_train, y_val = train_test_split(train_df, train_df['target_bins'], test_size=0.15, random_state=42)\n",
        "x_train, x_test, y_train, y_test = train_test_split(x_train, x_train['target_bins'], test_size=0.15, random_state=42)"
      ]
    },
    {
      "cell_type": "code",
      "execution_count": null,
      "metadata": {
        "id": "vvY8iUIwRO_a"
      },
      "outputs": [],
      "source": [
        "# import optuna\n",
        "\n",
        "# def objective(trial):\n",
        "\n",
        "#     # 1. назначаем параметры и значения для перебора\n",
        "#     params = {\n",
        "#         \"iterations\": 2000,\n",
        "#         \"learning_rate\": trial.suggest_float(\"learning_rate\", 1e-4, 0.1),\n",
        "#         \"l2_leaf_reg\": trial.suggest_float(\"l2_leaf_reg\", 0.1, 10.0),\n",
        "#         \"depth\": trial.suggest_int(\"depth\", 4, 11),\n",
        "#         \"random_strength\": trial.suggest_float(\"random_strength\", 0.1, 5.0),\n",
        "#     }\n",
        "\n",
        "#     # 2. обучаем модель с выбранными параметрами\n",
        "#     model_cv = fit_catboost_classifier(x_train[classifier_features], x_val[classifier_features], y_train, y_val, classifier_features_cat, params)\n",
        "\n",
        "#     # 3. делаем предсказание и вовращаем значение метрики\n",
        "#     preds = model_cv.predict(x_test[classifier_features])\n",
        "#     score = accuracy_score(y_test, preds)\n",
        "#     return score"
      ]
    },
    {
      "cell_type": "code",
      "execution_count": null,
      "metadata": {
        "colab": {
          "background_save": true,
          "base_uri": "https://localhost:8080/"
        },
        "id": "PuuNLBrPRO_g",
        "outputId": "0d902c85-80c3-499d-9c37-2f03d587ae77"
      },
      "outputs": [
        {
          "name": "stderr",
          "output_type": "stream",
          "text": [
            "\u001b[32m[I 2024-02-18 23:14:16,440]\u001b[0m A new study created in memory with name: no-name-c6613f8d-6e89-4f45-8292-22f0d01f0277\u001b[0m\n"
          ]
        },
        {
          "name": "stdout",
          "output_type": "stream",
          "text": [
            "0:\tlearn: 1.0661707\ttest: 1.0661988\tbest: 1.0661988 (0)\ttotal: 22.5ms\tremaining: 44.9s\n",
            "100:\tlearn: 0.6877812\ttest: 0.6995548\tbest: 0.6995548 (100)\ttotal: 1.89s\tremaining: 35.6s\n",
            "200:\tlearn: 0.6546085\ttest: 0.6768667\tbest: 0.6768667 (200)\ttotal: 3.73s\tremaining: 33.4s\n",
            "300:\tlearn: 0.6356183\ttest: 0.6686571\tbest: 0.6686571 (300)\ttotal: 5.58s\tremaining: 31.5s\n",
            "400:\tlearn: 0.6213026\ttest: 0.6639452\tbest: 0.6639452 (400)\ttotal: 7.41s\tremaining: 29.6s\n",
            "500:\tlearn: 0.6090407\ttest: 0.6614345\tbest: 0.6614231 (499)\ttotal: 9.25s\tremaining: 27.7s\n",
            "600:\tlearn: 0.5980762\ttest: 0.6594525\tbest: 0.6594525 (600)\ttotal: 11.1s\tremaining: 25.8s\n",
            "700:\tlearn: 0.5877508\ttest: 0.6581859\tbest: 0.6581859 (700)\ttotal: 12.9s\tremaining: 24s\n",
            "800:\tlearn: 0.5783044\ttest: 0.6571146\tbest: 0.6571146 (800)\ttotal: 14.8s\tremaining: 22.1s\n",
            "900:\tlearn: 0.5685977\ttest: 0.6562673\tbest: 0.6562628 (899)\ttotal: 16.6s\tremaining: 20.3s\n",
            "1000:\tlearn: 0.5594099\ttest: 0.6556717\tbest: 0.6556717 (1000)\ttotal: 18.5s\tremaining: 18.4s\n",
            "1100:\tlearn: 0.5507174\ttest: 0.6551536\tbest: 0.6551111 (1095)\ttotal: 20.3s\tremaining: 16.6s\n",
            "1200:\tlearn: 0.5423684\ttest: 0.6547579\tbest: 0.6547548 (1197)\ttotal: 22.2s\tremaining: 14.7s\n",
            "1300:\tlearn: 0.5339184\ttest: 0.6543637\tbest: 0.6543380 (1298)\ttotal: 24s\tremaining: 12.9s\n",
            "1400:\tlearn: 0.5255463\ttest: 0.6538676\tbest: 0.6538513 (1398)\ttotal: 25.9s\tremaining: 11.1s\n",
            "1500:\tlearn: 0.5174120\ttest: 0.6534621\tbest: 0.6534305 (1479)\ttotal: 27.7s\tremaining: 9.22s\n",
            "1600:\tlearn: 0.5095845\ttest: 0.6534436\tbest: 0.6534003 (1588)\ttotal: 29.6s\tremaining: 7.37s\n",
            "1700:\tlearn: 0.5016889\ttest: 0.6531599\tbest: 0.6530946 (1689)\ttotal: 31.5s\tremaining: 5.53s\n",
            "bestTest = 0.6530945921\n",
            "bestIteration = 1689\n",
            "Shrink model to first 1690 iterations.\n"
          ]
        },
        {
          "name": "stderr",
          "output_type": "stream",
          "text": [
            "\u001b[32m[I 2024-02-18 23:14:51,275]\u001b[0m Trial 0 finished with value: 0.7158524047065992 and parameters: {'learning_rate': 0.060868423216076085, 'l2_leaf_reg': 2.0864465214142847, 'depth': 8, 'random_strength': 0.5706729126704134}. Best is trial 0 with value: 0.7158524047065992.\u001b[0m\n"
          ]
        },
        {
          "name": "stdout",
          "output_type": "stream",
          "text": [
            "0:\tlearn: 1.0977454\ttest: 1.0977463\tbest: 1.0977463 (0)\ttotal: 9.25ms\tremaining: 18.5s\n",
            "100:\tlearn: 1.0286326\ttest: 1.0287667\tbest: 1.0287667 (100)\ttotal: 901ms\tremaining: 16.9s\n",
            "200:\tlearn: 0.9821031\ttest: 0.9825101\tbest: 0.9825101 (200)\ttotal: 1.78s\tremaining: 16s\n",
            "300:\tlearn: 0.9476831\ttest: 0.9483090\tbest: 0.9483090 (300)\ttotal: 2.65s\tremaining: 15s\n",
            "400:\tlearn: 0.9208816\ttest: 0.9216735\tbest: 0.9216735 (400)\ttotal: 3.52s\tremaining: 14s\n",
            "500:\tlearn: 0.8992175\ttest: 0.9000392\tbest: 0.9000392 (500)\ttotal: 4.38s\tremaining: 13.1s\n",
            "600:\tlearn: 0.8811537\ttest: 0.8819916\tbest: 0.8819916 (600)\ttotal: 5.25s\tremaining: 12.2s\n",
            "700:\tlearn: 0.8654469\ttest: 0.8664214\tbest: 0.8664214 (700)\ttotal: 6.1s\tremaining: 11.3s\n",
            "800:\tlearn: 0.8519915\ttest: 0.8530573\tbest: 0.8530573 (800)\ttotal: 6.96s\tremaining: 10.4s\n",
            "900:\tlearn: 0.8404649\ttest: 0.8416560\tbest: 0.8416560 (900)\ttotal: 7.83s\tremaining: 9.54s\n",
            "1000:\tlearn: 0.8305697\ttest: 0.8318778\tbest: 0.8318778 (1000)\ttotal: 8.68s\tremaining: 8.66s\n",
            "1100:\tlearn: 0.8218302\ttest: 0.8232546\tbest: 0.8232546 (1100)\ttotal: 9.54s\tremaining: 7.79s\n",
            "1200:\tlearn: 0.8141109\ttest: 0.8157000\tbest: 0.8157000 (1200)\ttotal: 10.4s\tremaining: 6.91s\n",
            "1300:\tlearn: 0.8071276\ttest: 0.8088924\tbest: 0.8088924 (1300)\ttotal: 11.2s\tremaining: 6.04s\n",
            "1400:\tlearn: 0.8006605\ttest: 0.8025833\tbest: 0.8025833 (1400)\ttotal: 12.1s\tremaining: 5.17s\n",
            "1500:\tlearn: 0.7946169\ttest: 0.7967067\tbest: 0.7967067 (1500)\ttotal: 13s\tremaining: 4.31s\n",
            "1600:\tlearn: 0.7889300\ttest: 0.7911608\tbest: 0.7911608 (1600)\ttotal: 13.8s\tremaining: 3.44s\n",
            "1700:\tlearn: 0.7836877\ttest: 0.7860378\tbest: 0.7860378 (1700)\ttotal: 14.7s\tremaining: 2.58s\n",
            "1800:\tlearn: 0.7788830\ttest: 0.7813378\tbest: 0.7813378 (1800)\ttotal: 15.5s\tremaining: 1.72s\n",
            "1900:\tlearn: 0.7743000\ttest: 0.7768709\tbest: 0.7768709 (1900)\ttotal: 16.4s\tremaining: 855ms\n",
            "1999:\tlearn: 0.7700638\ttest: 0.7727504\tbest: 0.7727504 (1999)\ttotal: 17.3s\tremaining: 0us\n",
            "bestTest = 0.7727503818\n",
            "bestIteration = 1999\n"
          ]
        },
        {
          "name": "stderr",
          "output_type": "stream",
          "text": [
            "\u001b[32m[I 2024-02-18 23:15:09,936]\u001b[0m Trial 1 finished with value: 0.6707665359278017 and parameters: {'learning_rate': 0.002038738665787424, 'l2_leaf_reg': 8.85294504020333, 'depth': 4, 'random_strength': 3.080541170163515}. Best is trial 0 with value: 0.7158524047065992.\u001b[0m\n"
          ]
        },
        {
          "name": "stdout",
          "output_type": "stream",
          "text": [
            "0:\tlearn: 1.0841420\ttest: 1.0841295\tbest: 1.0841295 (0)\ttotal: 10.8ms\tremaining: 21.7s\n",
            "100:\tlearn: 0.7693963\ttest: 0.7723933\tbest: 0.7723933 (100)\ttotal: 1.02s\tremaining: 19.2s\n",
            "200:\tlearn: 0.7196403\ttest: 0.7244785\tbest: 0.7244785 (200)\ttotal: 2.02s\tremaining: 18.1s\n",
            "300:\tlearn: 0.6995029\ttest: 0.7055290\tbest: 0.7055290 (300)\ttotal: 2.99s\tremaining: 16.9s\n",
            "400:\tlearn: 0.6875102\ttest: 0.6948564\tbest: 0.6948564 (400)\ttotal: 3.96s\tremaining: 15.8s\n",
            "500:\tlearn: 0.6791608\ttest: 0.6879016\tbest: 0.6879016 (500)\ttotal: 4.95s\tremaining: 14.8s\n",
            "600:\tlearn: 0.6724499\ttest: 0.6825587\tbest: 0.6825587 (600)\ttotal: 5.95s\tremaining: 13.9s\n",
            "700:\tlearn: 0.6671969\ttest: 0.6786199\tbest: 0.6786199 (700)\ttotal: 6.96s\tremaining: 12.9s\n",
            "800:\tlearn: 0.6628211\ttest: 0.6757106\tbest: 0.6757106 (800)\ttotal: 7.96s\tremaining: 11.9s\n",
            "900:\tlearn: 0.6592603\ttest: 0.6734884\tbest: 0.6734884 (900)\ttotal: 8.95s\tremaining: 10.9s\n",
            "1000:\tlearn: 0.6561689\ttest: 0.6716310\tbest: 0.6716310 (1000)\ttotal: 9.94s\tremaining: 9.92s\n",
            "1100:\tlearn: 0.6533333\ttest: 0.6700022\tbest: 0.6700022 (1100)\ttotal: 10.9s\tremaining: 8.91s\n",
            "1200:\tlearn: 0.6507288\ttest: 0.6686336\tbest: 0.6686336 (1200)\ttotal: 11.9s\tremaining: 7.92s\n",
            "1300:\tlearn: 0.6482344\ttest: 0.6673862\tbest: 0.6673862 (1300)\ttotal: 12.9s\tremaining: 6.93s\n",
            "1400:\tlearn: 0.6460496\ttest: 0.6664307\tbest: 0.6664307 (1400)\ttotal: 13.9s\tremaining: 5.93s\n",
            "1500:\tlearn: 0.6439326\ttest: 0.6655900\tbest: 0.6655900 (1500)\ttotal: 14.9s\tremaining: 4.94s\n",
            "1600:\tlearn: 0.6420176\ttest: 0.6647820\tbest: 0.6647820 (1600)\ttotal: 15.8s\tremaining: 3.95s\n",
            "1700:\tlearn: 0.6399689\ttest: 0.6639086\tbest: 0.6639086 (1700)\ttotal: 16.8s\tremaining: 2.96s\n",
            "1800:\tlearn: 0.6381194\ttest: 0.6632508\tbest: 0.6632444 (1799)\ttotal: 17.8s\tremaining: 1.97s\n",
            "1900:\tlearn: 0.6363526\ttest: 0.6626290\tbest: 0.6626290 (1900)\ttotal: 18.8s\tremaining: 978ms\n",
            "1999:\tlearn: 0.6346135\ttest: 0.6620644\tbest: 0.6620644 (1999)\ttotal: 19.8s\tremaining: 0us\n",
            "bestTest = 0.6620644269\n",
            "bestIteration = 1999\n"
          ]
        },
        {
          "name": "stderr",
          "output_type": "stream",
          "text": [
            "\u001b[32m[I 2024-02-18 23:15:31,076]\u001b[0m Trial 2 finished with value: 0.7106355432009444 and parameters: {'learning_rate': 0.031873807763050474, 'l2_leaf_reg': 2.6147456315032334, 'depth': 5, 'random_strength': 4.811141755241206}. Best is trial 0 with value: 0.7158524047065992.\u001b[0m\n"
          ]
        },
        {
          "name": "stdout",
          "output_type": "stream",
          "text": [
            "0:\tlearn: 1.0556048\ttest: 1.0555544\tbest: 1.0555544 (0)\ttotal: 15.4ms\tremaining: 30.7s\n",
            "100:\tlearn: 0.6824473\ttest: 0.6931624\tbest: 0.6931624 (100)\ttotal: 1.44s\tremaining: 27.1s\n",
            "200:\tlearn: 0.6559461\ttest: 0.6740664\tbest: 0.6740664 (200)\ttotal: 2.85s\tremaining: 25.5s\n",
            "300:\tlearn: 0.6415127\ttest: 0.6670413\tbest: 0.6670413 (300)\ttotal: 4.28s\tremaining: 24.2s\n",
            "400:\tlearn: 0.6323315\ttest: 0.6638932\tbest: 0.6638932 (400)\ttotal: 5.69s\tremaining: 22.7s\n",
            "500:\tlearn: 0.6241705\ttest: 0.6615336\tbest: 0.6615336 (500)\ttotal: 7.11s\tremaining: 21.3s\n",
            "600:\tlearn: 0.6166283\ttest: 0.6599562\tbest: 0.6599562 (600)\ttotal: 8.53s\tremaining: 19.8s\n",
            "700:\tlearn: 0.6096645\ttest: 0.6588428\tbest: 0.6588428 (700)\ttotal: 9.94s\tremaining: 18.4s\n",
            "800:\tlearn: 0.6032044\ttest: 0.6576484\tbest: 0.6576304 (795)\ttotal: 11.3s\tremaining: 17s\n",
            "900:\tlearn: 0.5969828\ttest: 0.6568454\tbest: 0.6568454 (900)\ttotal: 12.8s\tremaining: 15.6s\n",
            "1000:\tlearn: 0.5906633\ttest: 0.6561769\tbest: 0.6561769 (1000)\ttotal: 14.2s\tremaining: 14.1s\n",
            "1100:\tlearn: 0.5851226\ttest: 0.6557639\tbest: 0.6557581 (1098)\ttotal: 15.6s\tremaining: 12.7s\n",
            "1200:\tlearn: 0.5793436\ttest: 0.6554336\tbest: 0.6554336 (1200)\ttotal: 17s\tremaining: 11.3s\n",
            "1300:\tlearn: 0.5733302\ttest: 0.6551809\tbest: 0.6551609 (1298)\ttotal: 18.4s\tremaining: 9.91s\n",
            "1400:\tlearn: 0.5678696\ttest: 0.6548000\tbest: 0.6547691 (1395)\ttotal: 19.9s\tremaining: 8.49s\n",
            "1500:\tlearn: 0.5624387\ttest: 0.6545279\tbest: 0.6544571 (1490)\ttotal: 21.3s\tremaining: 7.07s\n",
            "1600:\tlearn: 0.5567978\ttest: 0.6543909\tbest: 0.6543251 (1576)\ttotal: 22.7s\tremaining: 5.65s\n",
            "1700:\tlearn: 0.5511781\ttest: 0.6540920\tbest: 0.6540920 (1700)\ttotal: 24.1s\tremaining: 4.24s\n",
            "1800:\tlearn: 0.5456961\ttest: 0.6540899\tbest: 0.6540292 (1786)\ttotal: 25.5s\tremaining: 2.82s\n",
            "1900:\tlearn: 0.5401350\ttest: 0.6538495\tbest: 0.6538213 (1895)\ttotal: 27s\tremaining: 1.4s\n",
            "1999:\tlearn: 0.5348425\ttest: 0.6537978\tbest: 0.6537736 (1988)\ttotal: 28.4s\tremaining: 0us\n",
            "bestTest = 0.6537735551\n",
            "bestIteration = 1988\n",
            "Shrink model to first 1989 iterations.\n"
          ]
        },
        {
          "name": "stderr",
          "output_type": "stream",
          "text": [
            "\u001b[32m[I 2024-02-18 23:16:00,850]\u001b[0m Trial 3 finished with value: 0.7145196298693881 and parameters: {'learning_rate': 0.0880062343592411, 'l2_leaf_reg': 9.920292861767626, 'depth': 7, 'random_strength': 3.8825706748414954}. Best is trial 0 with value: 0.7158524047065992.\u001b[0m\n"
          ]
        },
        {
          "name": "stdout",
          "output_type": "stream",
          "text": [
            "0:\tlearn: 1.0459197\ttest: 1.0465188\tbest: 1.0465188 (0)\ttotal: 66.1ms\tremaining: 2m 12s\n",
            "100:\tlearn: 0.6366216\ttest: 0.6772411\tbest: 0.6772411 (100)\ttotal: 6.38s\tremaining: 2m\n",
            "200:\tlearn: 0.5875126\ttest: 0.6654618\tbest: 0.6654618 (200)\ttotal: 12.9s\tremaining: 1m 55s\n",
            "300:\tlearn: 0.5523063\ttest: 0.6610710\tbest: 0.6610710 (300)\ttotal: 19.3s\tremaining: 1m 48s\n",
            "400:\tlearn: 0.5204910\ttest: 0.6592960\tbest: 0.6592785 (395)\ttotal: 25.7s\tremaining: 1m 42s\n",
            "500:\tlearn: 0.4920655\ttest: 0.6585365\tbest: 0.6584724 (496)\ttotal: 32.1s\tremaining: 1m 35s\n",
            "600:\tlearn: 0.4665422\ttest: 0.6584628\tbest: 0.6584153 (581)\ttotal: 38.6s\tremaining: 1m 29s\n",
            "700:\tlearn: 0.4422153\ttest: 0.6581266\tbest: 0.6579925 (691)\ttotal: 45.1s\tremaining: 1m 23s\n",
            "bestTest = 0.6579924821\n",
            "bestIteration = 691\n",
            "Shrink model to first 692 iterations.\n"
          ]
        },
        {
          "name": "stderr",
          "output_type": "stream",
          "text": [
            "\u001b[32m[I 2024-02-18 23:16:54,386]\u001b[0m Trial 4 finished with value: 0.7154716118959674 and parameters: {'learning_rate': 0.09463760327462381, 'l2_leaf_reg': 6.219743143238253, 'depth': 11, 'random_strength': 1.8861201782350385}. Best is trial 0 with value: 0.7158524047065992.\u001b[0m\n"
          ]
        },
        {
          "name": "stdout",
          "output_type": "stream",
          "text": [
            "0:\tlearn: 1.0575795\ttest: 1.0577628\tbest: 1.0577628 (0)\ttotal: 27.4ms\tremaining: 54.8s\n",
            "100:\tlearn: 0.6712971\ttest: 0.6887651\tbest: 0.6887650 (99)\ttotal: 2.52s\tremaining: 47.5s\n",
            "200:\tlearn: 0.6384642\ttest: 0.6715191\tbest: 0.6715191 (200)\ttotal: 4.92s\tremaining: 44s\n",
            "300:\tlearn: 0.6160454\ttest: 0.6643323\tbest: 0.6643323 (300)\ttotal: 7.54s\tremaining: 42.6s\n",
            "400:\tlearn: 0.5981039\ttest: 0.6609072\tbest: 0.6609072 (400)\ttotal: 10.1s\tremaining: 40.4s\n",
            "500:\tlearn: 0.5823749\ttest: 0.6585125\tbest: 0.6585125 (500)\ttotal: 12.7s\tremaining: 38s\n",
            "600:\tlearn: 0.5678090\ttest: 0.6569352\tbest: 0.6569352 (600)\ttotal: 15.3s\tremaining: 35.7s\n",
            "700:\tlearn: 0.5538772\ttest: 0.6560600\tbest: 0.6560521 (699)\ttotal: 18s\tremaining: 33.3s\n",
            "800:\tlearn: 0.5403706\ttest: 0.6551875\tbest: 0.6551240 (787)\ttotal: 20.6s\tremaining: 30.8s\n",
            "900:\tlearn: 0.5274341\ttest: 0.6550158\tbest: 0.6549253 (877)\ttotal: 23.2s\tremaining: 28.3s\n",
            "1000:\tlearn: 0.5148445\ttest: 0.6547943\tbest: 0.6547065 (982)\ttotal: 25.9s\tremaining: 25.8s\n",
            "1100:\tlearn: 0.5029156\ttest: 0.6545446\tbest: 0.6544702 (1043)\ttotal: 28.5s\tremaining: 23.3s\n",
            "bestTest = 0.654470156\n",
            "bestIteration = 1043\n",
            "Shrink model to first 1044 iterations.\n"
          ]
        },
        {
          "name": "stderr",
          "output_type": "stream",
          "text": [
            "\u001b[32m[I 2024-02-18 23:17:25,552]\u001b[0m Trial 5 finished with value: 0.7144053920261986 and parameters: {'learning_rate': 0.07562325972068716, 'l2_leaf_reg': 4.467068699933269, 'depth': 9, 'random_strength': 4.6362832608387725}. Best is trial 0 with value: 0.7158524047065992.\u001b[0m\n"
          ]
        },
        {
          "name": "stdout",
          "output_type": "stream",
          "text": [
            "0:\tlearn: 1.0635229\ttest: 1.0637245\tbest: 1.0637245 (0)\ttotal: 27.5ms\tremaining: 55s\n",
            "100:\tlearn: 0.6796727\ttest: 0.6947569\tbest: 0.6947569 (100)\ttotal: 2.6s\tremaining: 48.8s\n",
            "200:\tlearn: 0.6494907\ttest: 0.6754711\tbest: 0.6754711 (200)\ttotal: 4.95s\tremaining: 44.3s\n",
            "300:\tlearn: 0.6293258\ttest: 0.6673831\tbest: 0.6673831 (300)\ttotal: 7.59s\tremaining: 42.8s\n",
            "400:\tlearn: 0.6143570\ttest: 0.6631651\tbest: 0.6631651 (400)\ttotal: 10.2s\tremaining: 40.7s\n",
            "500:\tlearn: 0.6013346\ttest: 0.6606351\tbest: 0.6606351 (500)\ttotal: 12.8s\tremaining: 38.2s\n",
            "600:\tlearn: 0.5893936\ttest: 0.6588074\tbest: 0.6588074 (600)\ttotal: 15.4s\tremaining: 35.8s\n",
            "700:\tlearn: 0.5783742\ttest: 0.6574853\tbest: 0.6574853 (700)\ttotal: 17.9s\tremaining: 33.3s\n",
            "800:\tlearn: 0.5681607\ttest: 0.6565462\tbest: 0.6565462 (800)\ttotal: 20.5s\tremaining: 30.7s\n",
            "900:\tlearn: 0.5584028\ttest: 0.6559129\tbest: 0.6559129 (900)\ttotal: 23.1s\tremaining: 28.2s\n",
            "1000:\tlearn: 0.5485966\ttest: 0.6555609\tbest: 0.6555485 (993)\ttotal: 25.7s\tremaining: 25.6s\n",
            "1100:\tlearn: 0.5394377\ttest: 0.6551305\tbest: 0.6551230 (1096)\ttotal: 28.3s\tremaining: 23.1s\n",
            "1200:\tlearn: 0.5301922\ttest: 0.6548901\tbest: 0.6548776 (1190)\ttotal: 30.9s\tremaining: 20.6s\n",
            "1300:\tlearn: 0.5207444\ttest: 0.6545635\tbest: 0.6545605 (1290)\ttotal: 33.6s\tremaining: 18s\n",
            "1400:\tlearn: 0.5121519\ttest: 0.6546030\tbest: 0.6544781 (1335)\ttotal: 36.2s\tremaining: 15.5s\n",
            "bestTest = 0.6544780582\n",
            "bestIteration = 1335\n",
            "Shrink model to first 1336 iterations.\n"
          ]
        },
        {
          "name": "stderr",
          "output_type": "stream",
          "text": [
            "\u001b[32m[I 2024-02-18 23:18:04,174]\u001b[0m Trial 6 finished with value: 0.7158143254255359 and parameters: {'learning_rate': 0.06496104818261464, 'l2_leaf_reg': 7.443660134381664, 'depth': 9, 'random_strength': 4.254148003657245}. Best is trial 0 with value: 0.7158524047065992.\u001b[0m\n"
          ]
        },
        {
          "name": "stdout",
          "output_type": "stream",
          "text": [
            "0:\tlearn: 1.0954938\ttest: 1.0954899\tbest: 1.0954899 (0)\ttotal: 15.7ms\tremaining: 31.3s\n",
            "100:\tlearn: 0.9149503\ttest: 0.9158741\tbest: 0.9158741 (100)\ttotal: 1.5s\tremaining: 28.2s\n",
            "200:\tlearn: 0.8377723\ttest: 0.8402426\tbest: 0.8402426 (200)\ttotal: 2.98s\tremaining: 26.7s\n",
            "300:\tlearn: 0.7943049\ttest: 0.7979029\tbest: 0.7979029 (300)\ttotal: 4.43s\tremaining: 25s\n",
            "400:\tlearn: 0.7662798\ttest: 0.7707770\tbest: 0.7707770 (400)\ttotal: 5.88s\tremaining: 23.4s\n",
            "500:\tlearn: 0.7468475\ttest: 0.7520550\tbest: 0.7520550 (500)\ttotal: 7.3s\tremaining: 21.8s\n",
            "600:\tlearn: 0.7325655\ttest: 0.7384065\tbest: 0.7384065 (600)\ttotal: 8.74s\tremaining: 20.3s\n",
            "700:\tlearn: 0.7212795\ttest: 0.7276800\tbest: 0.7276800 (700)\ttotal: 10.2s\tremaining: 18.9s\n",
            "800:\tlearn: 0.7126764\ttest: 0.7196798\tbest: 0.7196798 (800)\ttotal: 11.6s\tremaining: 17.4s\n",
            "900:\tlearn: 0.7054660\ttest: 0.7130039\tbest: 0.7130039 (900)\ttotal: 13s\tremaining: 15.9s\n",
            "1000:\tlearn: 0.6995460\ttest: 0.7076761\tbest: 0.7076761 (1000)\ttotal: 14.4s\tremaining: 14.4s\n",
            "1100:\tlearn: 0.6947107\ttest: 0.7033025\tbest: 0.7033025 (1100)\ttotal: 15.9s\tremaining: 13s\n",
            "1200:\tlearn: 0.6905311\ttest: 0.6996643\tbest: 0.6996643 (1200)\ttotal: 17.3s\tremaining: 11.5s\n",
            "1300:\tlearn: 0.6867215\ttest: 0.6964751\tbest: 0.6964751 (1300)\ttotal: 18.7s\tremaining: 10.1s\n",
            "1400:\tlearn: 0.6833728\ttest: 0.6936933\tbest: 0.6936933 (1400)\ttotal: 20.2s\tremaining: 8.62s\n",
            "1500:\tlearn: 0.6803033\ttest: 0.6912084\tbest: 0.6912084 (1500)\ttotal: 21.6s\tremaining: 7.18s\n",
            "1600:\tlearn: 0.6774653\ttest: 0.6889152\tbest: 0.6889152 (1600)\ttotal: 23s\tremaining: 5.74s\n",
            "1700:\tlearn: 0.6748639\ttest: 0.6868697\tbest: 0.6868697 (1700)\ttotal: 24.4s\tremaining: 4.3s\n",
            "1800:\tlearn: 0.6725076\ttest: 0.6851365\tbest: 0.6851365 (1800)\ttotal: 25.9s\tremaining: 2.86s\n",
            "1900:\tlearn: 0.6702018\ttest: 0.6834877\tbest: 0.6834877 (1900)\ttotal: 27.3s\tremaining: 1.42s\n",
            "1999:\tlearn: 0.6681570\ttest: 0.6820029\tbest: 0.6820029 (1999)\ttotal: 28.7s\tremaining: 0us\n",
            "bestTest = 0.682002865\n",
            "bestIteration = 1999\n"
          ]
        },
        {
          "name": "stderr",
          "output_type": "stream",
          "text": [
            "\u001b[32m[I 2024-02-18 23:18:34,325]\u001b[0m Trial 7 finished with value: 0.7021819428049199 and parameters: {'learning_rate': 0.00606373691505543, 'l2_leaf_reg': 4.417074580192249, 'depth': 7, 'random_strength': 0.6734195705757522}. Best is trial 0 with value: 0.7158524047065992.\u001b[0m\n"
          ]
        },
        {
          "name": "stdout",
          "output_type": "stream",
          "text": [
            "0:\tlearn: 1.0851043\ttest: 1.0850934\tbest: 1.0850934 (0)\ttotal: 13.1ms\tremaining: 26.1s\n",
            "100:\tlearn: 0.7649127\ttest: 0.7686121\tbest: 0.7686121 (100)\ttotal: 1.22s\tremaining: 23s\n",
            "200:\tlearn: 0.7149932\ttest: 0.7207227\tbest: 0.7207227 (200)\ttotal: 2.41s\tremaining: 21.6s\n",
            "300:\tlearn: 0.6943055\ttest: 0.7017089\tbest: 0.7017089 (300)\ttotal: 3.59s\tremaining: 20.3s\n",
            "400:\tlearn: 0.6818781\ttest: 0.6910052\tbest: 0.6910052 (400)\ttotal: 4.78s\tremaining: 19s\n",
            "500:\tlearn: 0.6736432\ttest: 0.6845205\tbest: 0.6845205 (500)\ttotal: 5.95s\tremaining: 17.8s\n",
            "600:\tlearn: 0.6670576\ttest: 0.6795747\tbest: 0.6795747 (600)\ttotal: 7.12s\tremaining: 16.6s\n",
            "700:\tlearn: 0.6617795\ttest: 0.6760286\tbest: 0.6760286 (700)\ttotal: 8.3s\tremaining: 15.4s\n",
            "800:\tlearn: 0.6572158\ttest: 0.6731612\tbest: 0.6731612 (800)\ttotal: 9.48s\tremaining: 14.2s\n",
            "900:\tlearn: 0.6536196\ttest: 0.6710422\tbest: 0.6710422 (900)\ttotal: 10.7s\tremaining: 13s\n",
            "1000:\tlearn: 0.6503746\ttest: 0.6692019\tbest: 0.6692019 (1000)\ttotal: 11.8s\tremaining: 11.8s\n",
            "1100:\tlearn: 0.6473960\ttest: 0.6677462\tbest: 0.6677462 (1100)\ttotal: 13s\tremaining: 10.6s\n",
            "1200:\tlearn: 0.6448785\ttest: 0.6665625\tbest: 0.6665625 (1200)\ttotal: 14.2s\tremaining: 9.43s\n",
            "1300:\tlearn: 0.6422124\ttest: 0.6653922\tbest: 0.6653922 (1300)\ttotal: 15.3s\tremaining: 8.24s\n",
            "1400:\tlearn: 0.6400175\ttest: 0.6644774\tbest: 0.6644774 (1400)\ttotal: 16.5s\tremaining: 7.06s\n",
            "1500:\tlearn: 0.6378552\ttest: 0.6636575\tbest: 0.6636575 (1500)\ttotal: 17.7s\tremaining: 5.87s\n",
            "1600:\tlearn: 0.6358970\ttest: 0.6628972\tbest: 0.6628972 (1600)\ttotal: 18.8s\tremaining: 4.69s\n",
            "1700:\tlearn: 0.6340413\ttest: 0.6622167\tbest: 0.6622167 (1700)\ttotal: 20s\tremaining: 3.51s\n",
            "1800:\tlearn: 0.6322485\ttest: 0.6617358\tbest: 0.6617358 (1800)\ttotal: 21.1s\tremaining: 2.34s\n",
            "1900:\tlearn: 0.6304083\ttest: 0.6611189\tbest: 0.6611189 (1900)\ttotal: 22.3s\tremaining: 1.16s\n",
            "1999:\tlearn: 0.6287963\ttest: 0.6605895\tbest: 0.6605869 (1993)\ttotal: 23.5s\tremaining: 0us\n",
            "bestTest = 0.6605868921\n",
            "bestIteration = 1993\n",
            "Shrink model to first 1994 iterations.\n"
          ]
        },
        {
          "name": "stderr",
          "output_type": "stream",
          "text": [
            "\u001b[32m[I 2024-02-18 23:18:59,169]\u001b[0m Trial 8 finished with value: 0.7118160009139027 and parameters: {'learning_rate': 0.028057111962909397, 'l2_leaf_reg': 8.633721182893757, 'depth': 6, 'random_strength': 2.761495918999857}. Best is trial 0 with value: 0.7158524047065992.\u001b[0m\n"
          ]
        },
        {
          "name": "stdout",
          "output_type": "stream",
          "text": [
            "0:\tlearn: 1.0781905\ttest: 1.0782310\tbest: 1.0782310 (0)\ttotal: 9.49ms\tremaining: 19s\n",
            "100:\tlearn: 0.7528549\ttest: 0.7557773\tbest: 0.7557773 (100)\ttotal: 872ms\tremaining: 16.4s\n",
            "200:\tlearn: 0.7113935\ttest: 0.7161078\tbest: 0.7161078 (200)\ttotal: 1.73s\tremaining: 15.5s\n",
            "300:\tlearn: 0.6943616\ttest: 0.7003509\tbest: 0.7003509 (300)\ttotal: 2.58s\tremaining: 14.6s\n",
            "400:\tlearn: 0.6836071\ttest: 0.6907066\tbest: 0.6907066 (400)\ttotal: 3.44s\tremaining: 13.7s\n",
            "500:\tlearn: 0.6763304\ttest: 0.6847398\tbest: 0.6847398 (500)\ttotal: 4.3s\tremaining: 12.9s\n",
            "600:\tlearn: 0.6707365\ttest: 0.6805445\tbest: 0.6805445 (600)\ttotal: 5.15s\tremaining: 12s\n",
            "700:\tlearn: 0.6662723\ttest: 0.6774311\tbest: 0.6774311 (700)\ttotal: 6s\tremaining: 11.1s\n",
            "800:\tlearn: 0.6626052\ttest: 0.6751036\tbest: 0.6751036 (800)\ttotal: 6.86s\tremaining: 10.3s\n",
            "900:\tlearn: 0.6592296\ttest: 0.6729111\tbest: 0.6729111 (900)\ttotal: 7.71s\tremaining: 9.41s\n",
            "1000:\tlearn: 0.6562116\ttest: 0.6710855\tbest: 0.6710841 (999)\ttotal: 8.57s\tremaining: 8.55s\n",
            "1100:\tlearn: 0.6535842\ttest: 0.6696679\tbest: 0.6696679 (1100)\ttotal: 9.42s\tremaining: 7.7s\n",
            "1200:\tlearn: 0.6513244\ttest: 0.6685846\tbest: 0.6685846 (1200)\ttotal: 10.3s\tremaining: 6.83s\n",
            "1300:\tlearn: 0.6488527\ttest: 0.6673784\tbest: 0.6673784 (1300)\ttotal: 11.1s\tremaining: 5.98s\n",
            "1400:\tlearn: 0.6467519\ttest: 0.6664779\tbest: 0.6664779 (1400)\ttotal: 12s\tremaining: 5.13s\n",
            "1500:\tlearn: 0.6446545\ttest: 0.6658090\tbest: 0.6658090 (1500)\ttotal: 12.8s\tremaining: 4.27s\n",
            "1600:\tlearn: 0.6427589\ttest: 0.6651260\tbest: 0.6651260 (1600)\ttotal: 13.7s\tremaining: 3.41s\n",
            "1700:\tlearn: 0.6407997\ttest: 0.6644018\tbest: 0.6644018 (1700)\ttotal: 14.6s\tremaining: 2.56s\n",
            "1800:\tlearn: 0.6390127\ttest: 0.6638087\tbest: 0.6638087 (1800)\ttotal: 15.4s\tremaining: 1.7s\n",
            "1900:\tlearn: 0.6371323\ttest: 0.6631133\tbest: 0.6631133 (1900)\ttotal: 16.3s\tremaining: 847ms\n",
            "1999:\tlearn: 0.6354787\ttest: 0.6627272\tbest: 0.6627272 (1999)\ttotal: 17.1s\tremaining: 0us\n",
            "bestTest = 0.6627272061\n",
            "bestIteration = 1999\n"
          ]
        },
        {
          "name": "stderr",
          "output_type": "stream",
          "text": [
            "\u001b[32m[I 2024-02-18 23:19:17,691]\u001b[0m Trial 9 finished with value: 0.7109020981683866 and parameters: {'learning_rate': 0.04894241540418253, 'l2_leaf_reg': 0.6771495817517926, 'depth': 4, 'random_strength': 4.782621579660648}. Best is trial 0 with value: 0.7158524047065992.\u001b[0m\n"
          ]
        }
      ],
      "source": [
        "# study = optuna.create_study(direction=\"maximize\")\n",
        "# study.optimize(objective, n_trials=10)"
      ]
    },
    {
      "cell_type": "code",
      "execution_count": null,
      "metadata": {
        "colab": {
          "base_uri": "https://localhost:8080/"
        },
        "id": "v_NY2dRBQ1nI",
        "outputId": "44112606-d1dc-41fb-86c9-3e16c4fe7242"
      },
      "outputs": [
        {
          "output_type": "stream",
          "name": "stdout",
          "text": [
            "0:\tlearn: 1.0781674\ttest: 1.0785951\tbest: 1.0785951 (0)\ttotal: 28.1ms\tremaining: 3m 44s\n",
            "100:\tlearn: 0.7245670\ttest: 0.7294411\tbest: 0.7294411 (100)\ttotal: 1.71s\tremaining: 2m 13s\n",
            "200:\tlearn: 0.6861689\ttest: 0.6941798\tbest: 0.6941798 (200)\ttotal: 3.24s\tremaining: 2m 5s\n",
            "300:\tlearn: 0.6697635\ttest: 0.6815013\tbest: 0.6815013 (300)\ttotal: 4.74s\tremaining: 2m 1s\n",
            "400:\tlearn: 0.6580479\ttest: 0.6743037\tbest: 0.6743037 (400)\ttotal: 6.24s\tremaining: 1m 58s\n",
            "500:\tlearn: 0.6495585\ttest: 0.6695517\tbest: 0.6695517 (500)\ttotal: 7.73s\tremaining: 1m 55s\n",
            "600:\tlearn: 0.6424988\ttest: 0.6664856\tbest: 0.6664856 (600)\ttotal: 11.9s\tremaining: 2m 26s\n",
            "700:\tlearn: 0.6363812\ttest: 0.6640604\tbest: 0.6640604 (700)\ttotal: 13.4s\tremaining: 2m 20s\n",
            "800:\tlearn: 0.6308175\ttest: 0.6623810\tbest: 0.6623810 (800)\ttotal: 14.9s\tremaining: 2m 14s\n",
            "900:\tlearn: 0.6256447\ttest: 0.6608588\tbest: 0.6608588 (900)\ttotal: 16.5s\tremaining: 2m 9s\n",
            "1000:\tlearn: 0.6207169\ttest: 0.6597864\tbest: 0.6597864 (1000)\ttotal: 17.9s\tremaining: 2m 5s\n",
            "1100:\tlearn: 0.6161616\ttest: 0.6588535\tbest: 0.6588535 (1100)\ttotal: 19.4s\tremaining: 2m 1s\n",
            "1200:\tlearn: 0.6115731\ttest: 0.6579007\tbest: 0.6579007 (1200)\ttotal: 20.9s\tremaining: 1m 58s\n",
            "1300:\tlearn: 0.6073747\ttest: 0.6571175\tbest: 0.6571175 (1300)\ttotal: 25.1s\tremaining: 2m 9s\n",
            "1400:\tlearn: 0.6031471\ttest: 0.6563334\tbest: 0.6563334 (1400)\ttotal: 26.7s\tremaining: 2m 5s\n",
            "1500:\tlearn: 0.5993149\ttest: 0.6557048\tbest: 0.6557048 (1500)\ttotal: 28.2s\tremaining: 2m 2s\n",
            "1600:\tlearn: 0.5953567\ttest: 0.6551006\tbest: 0.6551006 (1600)\ttotal: 29.7s\tremaining: 1m 58s\n",
            "1700:\tlearn: 0.5912862\ttest: 0.6542863\tbest: 0.6542863 (1700)\ttotal: 31.2s\tremaining: 1m 55s\n",
            "1800:\tlearn: 0.5874930\ttest: 0.6537575\tbest: 0.6537531 (1797)\ttotal: 32.7s\tremaining: 1m 52s\n",
            "1900:\tlearn: 0.5837651\ttest: 0.6532086\tbest: 0.6532002 (1897)\ttotal: 34.2s\tremaining: 1m 49s\n",
            "2000:\tlearn: 0.5800553\ttest: 0.6528248\tbest: 0.6528248 (2000)\ttotal: 38.4s\tremaining: 1m 55s\n",
            "2100:\tlearn: 0.5762980\ttest: 0.6525396\tbest: 0.6525396 (2100)\ttotal: 40.1s\tremaining: 1m 52s\n",
            "2200:\tlearn: 0.5728473\ttest: 0.6522654\tbest: 0.6522654 (2200)\ttotal: 41.6s\tremaining: 1m 49s\n",
            "2300:\tlearn: 0.5692851\ttest: 0.6519284\tbest: 0.6519185 (2283)\ttotal: 43s\tremaining: 1m 46s\n",
            "2400:\tlearn: 0.5659169\ttest: 0.6516456\tbest: 0.6516456 (2400)\ttotal: 44.6s\tremaining: 1m 43s\n",
            "2500:\tlearn: 0.5624160\ttest: 0.6512954\tbest: 0.6512898 (2491)\ttotal: 46s\tremaining: 1m 41s\n",
            "2600:\tlearn: 0.5589741\ttest: 0.6510317\tbest: 0.6510317 (2600)\ttotal: 47.6s\tremaining: 1m 38s\n",
            "2700:\tlearn: 0.5555624\ttest: 0.6507431\tbest: 0.6507431 (2700)\ttotal: 51.8s\tremaining: 1m 41s\n",
            "2800:\tlearn: 0.5522929\ttest: 0.6505421\tbest: 0.6505421 (2800)\ttotal: 53.4s\tremaining: 1m 39s\n",
            "2900:\tlearn: 0.5489748\ttest: 0.6503909\tbest: 0.6503835 (2893)\ttotal: 54.9s\tremaining: 1m 36s\n",
            "3000:\tlearn: 0.5458236\ttest: 0.6502921\tbest: 0.6502921 (3000)\ttotal: 56.4s\tremaining: 1m 33s\n",
            "3100:\tlearn: 0.5425344\ttest: 0.6501677\tbest: 0.6501677 (3100)\ttotal: 57.9s\tremaining: 1m 31s\n",
            "3200:\tlearn: 0.5395832\ttest: 0.6500594\tbest: 0.6500499 (3196)\ttotal: 59.5s\tremaining: 1m 29s\n",
            "3300:\tlearn: 0.5362746\ttest: 0.6498966\tbest: 0.6498966 (3300)\ttotal: 1m\tremaining: 1m 26s\n",
            "3400:\tlearn: 0.5330577\ttest: 0.6497834\tbest: 0.6497799 (3365)\ttotal: 1m 5s\tremaining: 1m 27s\n",
            "3500:\tlearn: 0.5299416\ttest: 0.6496787\tbest: 0.6496544 (3488)\ttotal: 1m 6s\tremaining: 1m 25s\n",
            "3600:\tlearn: 0.5267941\ttest: 0.6495191\tbest: 0.6495186 (3597)\ttotal: 1m 8s\tremaining: 1m 23s\n",
            "3700:\tlearn: 0.5238777\ttest: 0.6494372\tbest: 0.6494372 (3700)\ttotal: 1m 9s\tremaining: 1m 20s\n",
            "3800:\tlearn: 0.5208039\ttest: 0.6494263\tbest: 0.6493434 (3756)\ttotal: 1m 11s\tremaining: 1m 18s\n",
            "bestTest = 0.649343353\n",
            "bestIteration = 3756\n",
            "Shrink model to first 3757 iterations.\n"
          ]
        }
      ],
      "source": [
        "params = {\"iterations\": 8000, 'learning_rate': 0.04, 'l2_leaf_reg': 2.911507368, 'depth': 7, 'random_strength': 0.49193290791022337}\n",
        "# params = {\"iterations\": 8000, 'learning_rate': 0.03, 'l2_leaf_reg': 2.911507368, 'depth': 7, 'random_strength': 0.49193290791022337} # my\n",
        "# params = {\"iterations\": 4000, 'learning_rate': 0.060868423216076085, 'l2_leaf_reg': 2.0864465214142847, 'depth': 8, 'random_strength': 0.5706729126704134}\n",
        "\n",
        "classifier_model = fit_catboost_classifier(x_train[classifier_features], x_val[classifier_features], y_train, y_val, classifier_features_cat, params)\n",
        "classifier_model.save_model(\"classifier_model.model\")"
      ]
    },
    {
      "cell_type": "code",
      "execution_count": null,
      "metadata": {
        "colab": {
          "base_uri": "https://localhost:8080/"
        },
        "id": "s4iczlTieZtF",
        "outputId": "0c1197ee-9c43-4226-e89a-dcb708cecb1e"
      },
      "outputs": [
        {
          "output_type": "execute_result",
          "data": {
            "text/plain": [
              "0.7148623433989566"
            ]
          },
          "metadata": {},
          "execution_count": 175
        }
      ],
      "source": [
        "preds = classifier_model.predict(x_test[classifier_features])\n",
        "score = accuracy_score(y_test, preds)\n",
        "score"
      ]
    },
    {
      "cell_type": "code",
      "source": [
        "# classifier_model = CatBoostClassifier()\n",
        "# classifier_model.load_model('classifier_model.model')"
      ],
      "metadata": {
        "colab": {
          "base_uri": "https://localhost:8080/"
        },
        "id": "JxHYhzqan2-h",
        "outputId": "06dc5670-c55a-4c19-e52a-8e4692a4f1e5"
      },
      "execution_count": null,
      "outputs": [
        {
          "output_type": "execute_result",
          "data": {
            "text/plain": [
              "<catboost.core.CatBoostClassifier at 0x7e78579756f0>"
            ]
          },
          "metadata": {},
          "execution_count": 123
        }
      ]
    },
    {
      "cell_type": "markdown",
      "metadata": {
        "id": "nevuXH8yeZtG"
      },
      "source": [
        "## Использование обученного классификатора"
      ]
    },
    {
      "cell_type": "code",
      "execution_count": null,
      "metadata": {
        "id": "4A0NfzK3eZtG"
      },
      "outputs": [],
      "source": [
        "# classifier_model = CatBoostClassifier()\n",
        "# classifier_model.load_model('best_models/classifier_model.model')\n",
        "# classifier_features = classifier_model.feature_names_\n",
        "# classifier_features_cat = [feat for feat in cat_feats if feat in classifier_features]"
      ]
    },
    {
      "cell_type": "code",
      "execution_count": null,
      "metadata": {
        "id": "DGOYlziueZtG"
      },
      "outputs": [],
      "source": [
        "# preds = classifier_model.predict(x_test[classifier_features_best])\n",
        "# score = accuracy_score(y_test, preds)\n",
        "# score"
      ]
    },
    {
      "cell_type": "markdown",
      "source": [
        "##Дополнение данных вероятностями класса\n"
      ],
      "metadata": {
        "id": "uiUJiJUBqJNN"
      }
    },
    {
      "cell_type": "code",
      "source": [
        "train_df['cl0_prob'] = classifier_model.predict_proba(train_df[classifier_model.feature_names_])[:,0]\n",
        "train_df['cl1_prob'] = classifier_model.predict_proba(train_df[classifier_model.feature_names_])[:,1]\n",
        "train_df['cl2_prob'] = classifier_model.predict_proba(train_df[classifier_model.feature_names_])[:,2]\n",
        "train_df['target_bins'] = train_df['target_bins'].astype('string')\n",
        "\n",
        "test_df['target_bins'] = classifier_model.predict(test_df[classifier_model.feature_names_])[:,-1]\n",
        "test_df['target_bins'] = test_df['target_bins'].astype('string')\n",
        "test_df['cl0_prob'] = classifier_model.predict_proba(test_df[classifier_model.feature_names_])[:,0]\n",
        "test_df['cl1_prob'] = classifier_model.predict_proba(test_df[classifier_model.feature_names_])[:,1]\n",
        "test_df['cl2_prob'] = classifier_model.predict_proba(test_df[classifier_model.feature_names_])[:,2]"
      ],
      "metadata": {
        "id": "56mw-ulAqYXA"
      },
      "execution_count": null,
      "outputs": []
    },
    {
      "cell_type": "markdown",
      "metadata": {
        "id": "y-MduF7dWC5C"
      },
      "source": [
        "# Выбор признаков и обучение регрессора"
      ]
    },
    {
      "cell_type": "code",
      "execution_count": null,
      "metadata": {
        "colab": {
          "base_uri": "https://localhost:8080/"
        },
        "id": "Qn11odegWAXg",
        "outputId": "c44699ab-b18a-4aea-be4d-c08c7129eef5"
      },
      "outputs": [
        {
          "output_type": "execute_result",
          "data": {
            "text/plain": [
              "(86, 7)"
            ]
          },
          "metadata": {},
          "execution_count": 179
        }
      ],
      "source": [
        "selected_features = filtered_features.copy()\n",
        "selected_features_num = filtered_features_num.copy()\n",
        "selected_features_cat = filtered_features_cat.copy()\n",
        "\n",
        "if 'target_bins' not in selected_features:\n",
        "    selected_features.append('target_bins')\n",
        "    selected_features_cat.append('target_bins')\n",
        "    cat_feats.append('target_bins')\n",
        "\n",
        "for prob in ['cl0_prob', 'cl1_prob', 'cl2_prob']:\n",
        "  if prob not in selected_features:\n",
        "    selected_features.append(prob)\n",
        "    selected_features_num.append(prob)\n",
        "    num_feats.append(prob)\n",
        "\n",
        "\n",
        "len(selected_features), len(selected_features_cat)"
      ]
    },
    {
      "cell_type": "code",
      "execution_count": null,
      "metadata": {
        "colab": {
          "base_uri": "https://localhost:8080/"
        },
        "id": "tub2QjuaDqFJ",
        "outputId": "a06b339b-a9c2-43b1-b08c-b9552f83d602"
      },
      "outputs": [
        {
          "output_type": "stream",
          "name": "stdout",
          "text": [
            "0:\tlearn: 85845.8162827\ttotal: 86.6ms\tremaining: 43.2s\n",
            "100:\tlearn: 50486.2589514\ttotal: 2.82s\tremaining: 11.1s\n",
            "200:\tlearn: 49146.1710582\ttotal: 5.25s\tremaining: 7.8s\n",
            "300:\tlearn: 48259.8881449\ttotal: 7.66s\tremaining: 5.07s\n",
            "400:\tlearn: 47561.3748476\ttotal: 10s\tremaining: 2.48s\n",
            "499:\tlearn: 47007.0267799\ttotal: 14.7s\tremaining: 0us\n"
          ]
        },
        {
          "output_type": "execute_result",
          "data": {
            "text/plain": [
              "70"
            ]
          },
          "metadata": {},
          "execution_count": 180
        }
      ],
      "source": [
        "# отсечение по рандомной фиче\n",
        "\n",
        "def feats_filter_random_feat(df: pd.DataFrame,\n",
        "                             features: list,\n",
        "                             cat_features: list):\n",
        "\n",
        "    \"\"\"Функция отбора фичей при помощи отсечения менее важных фичей чем рандомная фича.\n",
        "    Фичи, которые имеют в простой модели важность ниже рандомной фичи, подлежат удалению.\n",
        "\n",
        "    Parameters\n",
        "    ----------\n",
        "    df : pd.DataFrame\n",
        "        датафрейм с фичами\n",
        "    features : list\n",
        "        список фичей\n",
        "    cat_features : list\n",
        "        список категориальных фичей\n",
        "\n",
        "    Returns\n",
        "    -------\n",
        "    list\n",
        "        список фичей, которые останутся в датафрейме\n",
        "\n",
        "    \"\"\"\n",
        "\n",
        "    df['random'] = np.random.uniform(0, 1, df.shape[0])\n",
        "    simple_model = fit_catboost_regressor(df[features + ['random']], None, df['target'], None, cat_features)\n",
        "    feature_importance = pd.Series(simple_model.get_feature_importance(), df[features + ['random']].columns)\n",
        "    selected_features = list(feature_importance[feature_importance > feature_importance['random']].index)\n",
        "    df = df.drop('random', axis=1)\n",
        "    return selected_features, feature_importance\n",
        "\n",
        "train_df = train_df.sample(frac=1)\n",
        "regressor_features, feature_importance = feats_filter_random_feat(train_df, selected_features, selected_features_cat)\n",
        "regressor_features_num = [feat for feat in num_feats if feat in regressor_features]\n",
        "regressor_features_cat = [feat for feat in cat_feats if feat in regressor_features]\n",
        "len(regressor_features)"
      ]
    },
    {
      "cell_type": "code",
      "execution_count": null,
      "metadata": {
        "colab": {
          "base_uri": "https://localhost:8080/"
        },
        "id": "Pcgm3_vgBndT",
        "outputId": "04d07350-0db6-4e4e-9d70-71b1a942df34"
      },
      "outputs": [
        {
          "output_type": "execute_result",
          "data": {
            "text/plain": [
              "['accum_rur_amt_cm_avg_div_v2',\n",
              " 'avg_6m_building_services',\n",
              " 'avg_6m_money_transactions',\n",
              " 'avg_6m_personal_services',\n",
              " 'avg_6m_transportation',\n",
              " 'avg_by_category__amount__sum__cashflowcategory_name__vydacha_nalichnyh_v_bankomate',\n",
              " 'avg_by_category__amount__sum__cashflowcategory_name__zdorove',\n",
              " 'avg_cnt_daily_transactions_90d',\n",
              " 'avg_debet_turn_rur',\n",
              " 'by_category__amount__sum__eoperation_type_name__vneshnij_perevod_rur',\n",
              " 'calls_weight_v2',\n",
              " 'cc_other_rate_max_2avg_prop',\n",
              " 'channel_chat_s_operatorom_voc_features_full_voc_without_marks_portion',\n",
              " 'channel_chatbot_voc_features_full_voc_without_marks_portion',\n",
              " 'channel_ivr_voc_features_36m_voc_not_null_flag',\n",
              " 'commission_outcome_rur_amt',\n",
              " 'count_device_samsung_0_60_days',\n",
              " 'curr_rur_amt_cm_avg',\n",
              " 'hdb_bki_active_cc_cnt',\n",
              " 'hdb_bki_active_ip_max_outstand',\n",
              " 'hdb_bki_active_pil_max_overdue',\n",
              " 'hdb_bki_total_cc_max_limit',\n",
              " 'hdb_bki_total_ip_cnt',\n",
              " 'hdb_bki_total_max_limit',\n",
              " 'hdb_bki_total_max_overdue_sum',\n",
              " 'hdb_bki_total_pil_max_limit',\n",
              " 'hdb_outstand_sum',\n",
              " 'incomeValue',\n",
              " 'max_cc_largest_max_limit_actoff_30d',\n",
              " 'max_pil_largest_max_limit_actoff_90d',\n",
              " 'min_cc_max_el_actoff_90d',\n",
              " 'min_max_limit',\n",
              " 'min_pil_max_score_actoff_180d',\n",
              " 'min_pil_max_ul_actoff_90d',\n",
              " 'mob_cover_days',\n",
              " 'percent_outcome_rur_amt',\n",
              " 'product_zarplatnaja_karta_voc_features_36m_voc_without_marks_portion',\n",
              " 'prof_cc_prof',\n",
              " 'profit_income_out_rur_amt_9m',\n",
              " 'puupg_offer_exists_pass_180d',\n",
              " 'smsInWavg6m',\n",
              " 'summarur_1m_miscellaneous_stores',\n",
              " 'summarur_1m_no_cat',\n",
              " 'top_channel_weight_v2',\n",
              " 'total_rur_amt_cm_avg_div_v2',\n",
              " 'total_rur_amt_cm_avg_period_days_ago_v2',\n",
              " 'transaction_category_clothers_shoes_sum_amt_d15',\n",
              " 'transaction_category_general_store_inc_cnt_2m',\n",
              " 'transaction_category_house_repair_inc_cnt_2m',\n",
              " 'transaction_category_money_send_sum_cnt_m2',\n",
              " 'transaction_category_other_retail_purchase_percent_amt_2m',\n",
              " 'transaction_category_supermarket_sum_amt_m3_4',\n",
              " 'transaction_category_supermarket_sum_cnt_d15',\n",
              " 'turn_cc_cr_max_v2',\n",
              " 'turn_cc_db_sum_v2',\n",
              " 'turn_other_cr_avg_v2',\n",
              " 'turn_other_db_max_v2',\n",
              " 'uniV5',\n",
              " 'voc_features_12m_voc_without_marks_portion',\n",
              " 'voc_features_36m_max_mark',\n",
              " 'worksalary_rur_amt',\n",
              " 'avg_salary_month',\n",
              " 'feature_date_year',\n",
              " 'feature_date_month',\n",
              " 'addrref',\n",
              " 'main_last_position_ccode',\n",
              " 'oldest_campaignsegment_ccode_for_nss',\n",
              " 'oldest_campaignsegment_ccode_for_pil',\n",
              " 'segment',\n",
              " 'target_bins']"
            ]
          },
          "metadata": {},
          "execution_count": 182
        }
      ],
      "source": [
        "regressor_features"
      ]
    },
    {
      "cell_type": "code",
      "execution_count": null,
      "metadata": {
        "id": "DttL4pGgBp8T"
      },
      "outputs": [],
      "source": [
        "# Для перезапуска сессии\n",
        "# regressor_features = ['accum_rur_amt_cm_avg_div_v2',\n",
        "#  'avg_6m_building_services',\n",
        "#  'avg_6m_money_transactions',\n",
        "#  'avg_6m_personal_services',\n",
        "#  'avg_6m_transportation',\n",
        "#  'avg_by_category__amount__sum__cashflowcategory_name__vydacha_nalichnyh_v_bankomate',\n",
        "#  'avg_by_category__amount__sum__cashflowcategory_name__zdorove',\n",
        "#  'avg_cnt_daily_transactions_90d',\n",
        "#  'avg_debet_turn_rur',\n",
        "#  'by_category__amount__sum__eoperation_type_name__vneshnij_perevod_rur',\n",
        "#  'cc_other_rate_max_2avg_prop',\n",
        "#  'channel_chat_s_operatorom_voc_features_full_voc_without_marks_portion',\n",
        "#  'channel_chatbot_voc_features_full_voc_without_marks_portion',\n",
        "#  'commission_outcome_rur_amt',\n",
        "#  'count_device_samsung_0_60_days',\n",
        "#  'curr_rur_amt_cm_avg',\n",
        "#  'hdb_bki_active_cc_cnt',\n",
        "#  'hdb_bki_active_ip_max_outstand',\n",
        "#  'hdb_bki_active_pil_max_overdue',\n",
        "#  'hdb_bki_total_cc_max_limit',\n",
        "#  'hdb_bki_total_ip_cnt',\n",
        "#  'hdb_bki_total_max_limit',\n",
        "#  'hdb_bki_total_max_overdue_sum',\n",
        "#  'hdb_bki_total_pil_max_limit',\n",
        "#  'hdb_outstand_sum',\n",
        "#  'incomeValue',\n",
        "#  'max_cc_largest_max_limit_actoff_30d',\n",
        "#  'max_pil_largest_max_limit_actoff_90d',\n",
        "#  'min_cc_max_el_actoff_90d',\n",
        "#  'min_cc_offer_lifetime_days_actoff_90d',\n",
        "#  'min_max_limit',\n",
        "#  'min_pil_max_score_actoff_180d',\n",
        "#  'min_pil_max_ul_actoff_90d',\n",
        "#  'mob_cover_days',\n",
        "#  'percent_outcome_rur_amt',\n",
        "#  'product_zarplatnaja_karta_voc_features_36m_voc_without_marks_portion',\n",
        "#  'prof_cc_prof',\n",
        "#  'profit_income_out_rur_amt_9m',\n",
        "#  'smsInWavg6m',\n",
        "#  'summarur_1m_miscellaneous_stores',\n",
        "#  'summarur_1m_no_cat',\n",
        "#  'top_channel_weight_v2',\n",
        "#  'total_rur_amt_cm_avg_div_v2',\n",
        "#  'total_rur_amt_cm_avg_period_days_ago_v2',\n",
        "#  'transaction_category_clothers_shoes_sum_amt_d15',\n",
        "#  'transaction_category_general_store_inc_cnt_2m',\n",
        "#  'transaction_category_house_repair_inc_cnt_2m',\n",
        "#  'transaction_category_other_retail_purchase_percent_amt_2m',\n",
        "#  'transaction_category_supermarket_sum_amt_m3_4',\n",
        "#  'transaction_category_supermarket_sum_cnt_d15',\n",
        "#  'turn_cc_cr_max_v2',\n",
        "#  'turn_cc_db_min_v2',\n",
        "#  'turn_other_cr_avg_v2',\n",
        "#  'turn_other_db_max_v2',\n",
        "#  'uniV5',\n",
        "#  'voc_features_12m_voc_without_marks_portion',\n",
        "#  'worksalary_rur_amt',\n",
        "#  'avg_salary_month',\n",
        "#  'vpm_2024',\n",
        "#  'feature_date_year',\n",
        "#  'feature_date_month',\n",
        "#  'addrref',\n",
        "#  'main_last_position_ccode',\n",
        "#  'oldest_campaignsegment_ccode_for_nss',\n",
        "#  'oldest_campaignsegment_ccode_for_pil',\n",
        "#  'segment',\n",
        "#  'target_bins',\n",
        "#  'cl0_prob',\n",
        "#  'cl1_prob',\n",
        "#  'cl2_prob']\n",
        "\n",
        "# regressor_features_num = [feat for feat in num_feats if feat in regressor_features]\n",
        "# regressor_features_cat = [feat for feat in cat_feats if feat in regressor_features]"
      ]
    },
    {
      "cell_type": "markdown",
      "metadata": {
        "id": "8prMCyaWDhO-"
      },
      "source": [
        "## Обучение регрессора"
      ]
    },
    {
      "cell_type": "code",
      "execution_count": null,
      "metadata": {
        "id": "FONSIXRtDgxw"
      },
      "outputs": [],
      "source": [
        "# from copy import deepcopy\n",
        "# train_df = train_df.sample(frac=1)\n",
        "df = deepcopy(train_df)\n",
        "df = pd.concat([df, train_df[train_df['segment'] == 'Affluent']], ignore_index=True)\n",
        "df = pd.concat([df, train_df[train_df['segment'] == 'Affluent']], ignore_index=True)\n",
        "\n",
        "df = df.sample(frac=1)\n",
        "\n",
        "# разделим данные на обучающую, тестовую и валидационную выборки\n",
        "x_train, x_val, y_train, y_val = train_test_split(df, df['target'], test_size=0.15, random_state=42)\n",
        "x_train, x_test, y_train, y_test = train_test_split(x_train, x_train['target'], test_size=0.15, random_state=42)"
      ]
    },
    {
      "cell_type": "code",
      "source": [
        "df.shape"
      ],
      "metadata": {
        "colab": {
          "base_uri": "https://localhost:8080/"
        },
        "id": "E-0OqAOWrhWK",
        "outputId": "897eabfc-9255-457e-bf60-a2d37827b394"
      },
      "execution_count": null,
      "outputs": [
        {
          "output_type": "execute_result",
          "data": {
            "text/plain": [
              "(247900, 247)"
            ]
          },
          "metadata": {},
          "execution_count": 184
        }
      ]
    },
    {
      "cell_type": "code",
      "source": [
        "train_df.shape"
      ],
      "metadata": {
        "colab": {
          "base_uri": "https://localhost:8080/"
        },
        "id": "0yfSw6EUroji",
        "outputId": "bc250d86-e090-40c5-fc2b-080ee09e092f"
      },
      "execution_count": null,
      "outputs": [
        {
          "output_type": "execute_result",
          "data": {
            "text/plain": [
              "(205962, 264)"
            ]
          },
          "metadata": {},
          "execution_count": 143
        }
      ]
    },
    {
      "cell_type": "code",
      "execution_count": null,
      "metadata": {
        "colab": {
          "base_uri": "https://localhost:8080/"
        },
        "id": "W_47ABzTFhX7",
        "outputId": "6b64caaa-e3e6-4310-8907-738a3e928fea"
      },
      "outputs": [
        {
          "data": {
            "text/plain": [
              "((148806, 241), (26261, 241), (30895, 241))"
            ]
          },
          "execution_count": 58,
          "metadata": {},
          "output_type": "execute_result"
        }
      ],
      "source": [
        "x_train.shape, x_test.shape, x_val.shape"
      ]
    },
    {
      "cell_type": "code",
      "execution_count": null,
      "metadata": {
        "id": "dKihRPVzeZtI",
        "outputId": "7fff6380-b75c-4902-a876-40521aa05c35"
      },
      "outputs": [
        {
          "name": "stdout",
          "output_type": "stream",
          "text": [
            "0:\tlearn: 85667.1610963\ttest: 87157.9537625\tbest: 87157.9537625 (0)\ttotal: 27.1ms\tremaining: 13.5s\n",
            "100:\tlearn: 50133.8685830\ttest: 51717.1565875\tbest: 51717.1565875 (100)\ttotal: 2.37s\tremaining: 9.38s\n",
            "200:\tlearn: 48498.6783596\ttest: 50660.8149555\tbest: 50660.8149555 (200)\ttotal: 4.8s\tremaining: 7.14s\n",
            "300:\tlearn: 47375.5459108\ttest: 50220.4781596\tbest: 50217.6558571 (298)\ttotal: 7.21s\tremaining: 4.77s\n",
            "400:\tlearn: 46481.9734806\ttest: 49950.2015220\tbest: 49950.2015220 (400)\ttotal: 9.63s\tremaining: 2.38s\n",
            "499:\tlearn: 45748.8096106\ttest: 49748.4788857\tbest: 49748.4788857 (499)\ttotal: 12s\tremaining: 0us\n",
            "bestTest = 49748.47889\n",
            "bestIteration = 499\n"
          ]
        }
      ],
      "source": [
        "# Вариант 1\n",
        "# regression_model = fit_catboost_regressor(x_train[regressor_features], x_val[regressor_features], y_train, y_val, regressor_features_cat)"
      ]
    },
    {
      "cell_type": "code",
      "execution_count": null,
      "metadata": {
        "colab": {
          "base_uri": "https://localhost:8080/"
        },
        "id": "JPJiNX9-NJzM",
        "outputId": "0a0629ad-dccc-4aac-aa3c-decc5e03c5b7"
      },
      "outputs": [
        {
          "name": "stdout",
          "output_type": "stream",
          "text": [
            "28997.263341114973\n"
          ]
        }
      ],
      "source": [
        "# x_test['target_bins'] = classifier_model.predict(x_test[classifier_features])\n",
        "# pred_test = regression_model.predict(x_test[regressor_features])\n",
        "# print(weighted_mean_absolute_error(y_test, pred_test, x_test['w']))"
      ]
    },
    {
      "cell_type": "markdown",
      "metadata": {
        "id": "7jKXEBUMP4p2"
      },
      "source": [
        "Подбор гиперпараметров"
      ]
    },
    {
      "cell_type": "code",
      "execution_count": null,
      "metadata": {
        "id": "-REkDLTLP_LG"
      },
      "outputs": [],
      "source": [
        "# import optuna\n",
        "\n",
        "# def objective(trial):\n",
        "\n",
        "#     # 1. назначаем параметры и значения для перебора\n",
        "#     params = {\n",
        "#         \"iterations\": 2000,\n",
        "#         \"learning_rate\": trial.suggest_float(\"learning_rate\", 1e-4, 0.1),\n",
        "#         \"objective\": trial.suggest_categorical(\"objective\", [\"RMSE\"]),\n",
        "#         \"l2_leaf_reg\": trial.suggest_float(\"l2_leaf_reg\", 3.0, 10.0),\n",
        "#         \"depth\": trial.suggest_int(\"depth\", 8, 16),\n",
        "#         \"random_strength\": trial.suggest_float(\"random_strength\", 1, 5.0),\n",
        "#     }\n",
        "\n",
        "#     # 2. обучаем модель с выбранными параметрами\n",
        "#     model_cv = fit_catboost_regressor(x_train[regressor_features], x_val[regressor_features], y_train, y_val, regressor_features_cat, params)\n",
        "\n",
        "#     # 3. делаем предсказание и вовращаем значение метрики\n",
        "#     preds = model_cv.predict(x_test[regressor_features])\n",
        "#     wmae = weighted_mean_absolute_error(y_test, preds, x_test['w'])\n",
        "#     return wmae"
      ]
    },
    {
      "cell_type": "code",
      "execution_count": null,
      "metadata": {
        "colab": {
          "base_uri": "https://localhost:8080/"
        },
        "id": "9qLBTGjFQAYT",
        "outputId": "d779dd1d-5840-4215-906f-41dd4fd72229"
      },
      "outputs": [
        {
          "name": "stderr",
          "output_type": "stream",
          "text": [
            "\u001b[32m[I 2024-02-18 23:31:50,003]\u001b[0m A new study created in memory with name: no-name-10cb4af3-c08a-4771-afd3-bdf0abb02008\u001b[0m\n"
          ]
        },
        {
          "name": "stdout",
          "output_type": "stream",
          "text": [
            "0:\tlearn: 84472.7680238\ttest: 85956.5813376\tbest: 85956.5813376 (0)\ttotal: 41ms\tremaining: 1m 21s\n",
            "100:\tlearn: 48235.1301055\ttest: 50639.1067467\tbest: 50639.1067467 (100)\ttotal: 3.39s\tremaining: 1m 3s\n",
            "200:\tlearn: 46016.1799682\ttest: 49836.4717240\tbest: 49836.4717240 (200)\ttotal: 6.81s\tremaining: 1m\n",
            "300:\tlearn: 44407.7261608\ttest: 49525.2841302\tbest: 49525.2841302 (300)\ttotal: 10.2s\tremaining: 57.8s\n",
            "400:\tlearn: 43127.1650301\ttest: 49333.2921165\tbest: 49333.2921165 (400)\ttotal: 13.7s\tremaining: 54.5s\n",
            "500:\tlearn: 42112.2469286\ttest: 49211.8612230\tbest: 49208.5617267 (499)\ttotal: 17.2s\tremaining: 51.3s\n",
            "600:\tlearn: 41191.7472436\ttest: 49087.0490641\tbest: 49084.3939221 (597)\ttotal: 20.6s\tremaining: 48s\n",
            "700:\tlearn: 40359.2625766\ttest: 49020.7076833\tbest: 49018.2234317 (696)\ttotal: 24.1s\tremaining: 44.7s\n",
            "800:\tlearn: 39591.2125062\ttest: 48948.3608072\tbest: 48943.3987027 (787)\ttotal: 27.6s\tremaining: 41.4s\n",
            "900:\tlearn: 38946.9514499\ttest: 48876.8928967\tbest: 48871.4096268 (891)\ttotal: 31.2s\tremaining: 38s\n",
            "1000:\tlearn: 38264.9871585\ttest: 48840.6541358\tbest: 48840.6541358 (1000)\ttotal: 34.7s\tremaining: 34.7s\n",
            "1100:\tlearn: 37674.1141433\ttest: 48817.4023817\tbest: 48817.4023817 (1100)\ttotal: 38.3s\tremaining: 31.2s\n",
            "1200:\tlearn: 37126.9244231\ttest: 48786.9189434\tbest: 48782.7446963 (1178)\ttotal: 41.8s\tremaining: 27.8s\n",
            "1300:\tlearn: 36612.7402494\ttest: 48746.3802439\tbest: 48745.8427308 (1299)\ttotal: 45.3s\tremaining: 24.4s\n",
            "1400:\tlearn: 36102.6458494\ttest: 48723.4150757\tbest: 48721.5565520 (1358)\ttotal: 48.9s\tremaining: 20.9s\n",
            "1500:\tlearn: 35661.6747986\ttest: 48716.0753054\tbest: 48712.5945191 (1490)\ttotal: 52.5s\tremaining: 17.4s\n",
            "1600:\tlearn: 35218.4125438\ttest: 48714.8435424\tbest: 48706.7276189 (1593)\ttotal: 56.1s\tremaining: 14s\n",
            "1700:\tlearn: 34781.8018629\ttest: 48691.7854321\tbest: 48691.7854321 (1700)\ttotal: 59.7s\tremaining: 10.5s\n",
            "1800:\tlearn: 34359.2373940\ttest: 48680.7096439\tbest: 48679.5271853 (1798)\ttotal: 1m 3s\tremaining: 7s\n",
            "1900:\tlearn: 33953.4170071\ttest: 48666.0523799\tbest: 48662.3866766 (1878)\ttotal: 1m 6s\tremaining: 3.49s\n",
            "1999:\tlearn: 33585.5627809\ttest: 48647.2411029\tbest: 48645.1061689 (1991)\ttotal: 1m 10s\tremaining: 0us\n",
            "bestTest = 48645.10617\n",
            "bestIteration = 1991\n",
            "Shrink model to first 1992 iterations.\n"
          ]
        },
        {
          "name": "stderr",
          "output_type": "stream",
          "text": [
            "\u001b[32m[I 2024-02-18 23:33:02,991]\u001b[0m Trial 0 finished with value: 28322.431089372192 and parameters: {'learning_rate': 0.07236920007235434, 'objective': 'RMSE', 'l2_leaf_reg': 8.735090362502403, 'depth': 8, 'random_strength': 2.1885107680488995}. Best is trial 0 with value: 28322.431089372192.\u001b[0m\n"
          ]
        },
        {
          "name": "stdout",
          "output_type": "stream",
          "text": [
            "0:\tlearn: 87349.4165331\ttest: 88890.7952696\tbest: 88890.7952696 (0)\ttotal: 213ms\tremaining: 7m 5s\n",
            "100:\tlearn: 51181.8897939\ttest: 55917.4065921\tbest: 55917.4065921 (100)\ttotal: 21.3s\tremaining: 6m 41s\n",
            "200:\tlearn: 45326.3677010\ttest: 52600.6946791\tbest: 52600.6946791 (200)\ttotal: 42s\tremaining: 6m 15s\n",
            "300:\tlearn: 42621.5035259\ttest: 51614.4415036\tbest: 51614.4415036 (300)\ttotal: 1m 2s\tremaining: 5m 51s\n",
            "400:\tlearn: 40609.6191059\ttest: 51097.8912758\tbest: 51097.8912758 (400)\ttotal: 1m 22s\tremaining: 5m 28s\n",
            "500:\tlearn: 38778.5137080\ttest: 50811.0806442\tbest: 50811.0806442 (500)\ttotal: 1m 43s\tremaining: 5m 8s\n",
            "600:\tlearn: 37160.0225016\ttest: 50594.2080539\tbest: 50594.2080539 (600)\ttotal: 2m 3s\tremaining: 4m 47s\n",
            "700:\tlearn: 35609.4427996\ttest: 50434.7452212\tbest: 50434.7452212 (700)\ttotal: 2m 24s\tremaining: 4m 27s\n",
            "800:\tlearn: 34300.9418840\ttest: 50309.3994894\tbest: 50309.3994894 (800)\ttotal: 2m 44s\tremaining: 4m 6s\n",
            "900:\tlearn: 33224.3597396\ttest: 50209.5530211\tbest: 50209.5530211 (900)\ttotal: 3m 5s\tremaining: 3m 46s\n",
            "1000:\tlearn: 32197.7218807\ttest: 50143.1697570\tbest: 50143.1697570 (1000)\ttotal: 3m 26s\tremaining: 3m 25s\n",
            "1100:\tlearn: 31225.4601959\ttest: 50071.5418286\tbest: 50071.5418286 (1100)\ttotal: 3m 47s\tremaining: 3m 5s\n",
            "1200:\tlearn: 30347.3205218\ttest: 50014.8567160\tbest: 50014.8567160 (1200)\ttotal: 4m 7s\tremaining: 2m 44s\n",
            "1300:\tlearn: 29546.9185162\ttest: 49961.7377016\tbest: 49961.7377016 (1300)\ttotal: 4m 28s\tremaining: 2m 24s\n",
            "1400:\tlearn: 28750.6061249\ttest: 49920.8721395\tbest: 49920.3935047 (1399)\ttotal: 4m 49s\tremaining: 2m 3s\n",
            "1500:\tlearn: 28024.2055605\ttest: 49889.1200026\tbest: 49888.6465057 (1499)\ttotal: 5m 10s\tremaining: 1m 43s\n",
            "1600:\tlearn: 27386.4282461\ttest: 49868.8590238\tbest: 49866.8199498 (1586)\ttotal: 5m 30s\tremaining: 1m 22s\n",
            "1700:\tlearn: 26745.0573242\ttest: 49852.0348505\tbest: 49852.0348505 (1700)\ttotal: 5m 51s\tremaining: 1m 1s\n",
            "1800:\tlearn: 26145.5688369\ttest: 49830.8188780\tbest: 49830.4156626 (1797)\ttotal: 6m 12s\tremaining: 41.1s\n",
            "1900:\tlearn: 25579.7927876\ttest: 49811.5562468\tbest: 49811.5562468 (1900)\ttotal: 6m 32s\tremaining: 20.5s\n",
            "1999:\tlearn: 25044.0785215\ttest: 49802.2506189\tbest: 49801.6672557 (1989)\ttotal: 6m 53s\tremaining: 0us\n",
            "bestTest = 49801.66726\n",
            "bestIteration = 1989\n",
            "Shrink model to first 1990 iterations.\n"
          ]
        },
        {
          "name": "stderr",
          "output_type": "stream",
          "text": [
            "\u001b[32m[I 2024-02-18 23:40:06,486]\u001b[0m Trial 1 finished with value: 29086.336194202748 and parameters: {'learning_rate': 0.01930675187256476, 'objective': 'RMSE', 'l2_leaf_reg': 4.6099541677362925, 'depth': 14, 'random_strength': 2.330044831580755}. Best is trial 0 with value: 28322.431089372192.\u001b[0m\n"
          ]
        },
        {
          "name": "stdout",
          "output_type": "stream",
          "text": [
            "0:\tlearn: 87083.4025831\ttest: 88591.0984856\tbest: 88591.0984856 (0)\ttotal: 36.7ms\tremaining: 1m 13s\n",
            "100:\tlearn: 51252.3740243\ttest: 52991.2400923\tbest: 52991.2400923 (100)\ttotal: 3.98s\tremaining: 1m 14s\n",
            "200:\tlearn: 48577.2504918\ttest: 51057.4085995\tbest: 51057.4085995 (200)\ttotal: 8.07s\tremaining: 1m 12s\n",
            "300:\tlearn: 47243.5506025\ttest: 50466.5683412\tbest: 50466.5683412 (300)\ttotal: 12.2s\tremaining: 1m 8s\n",
            "400:\tlearn: 46176.8093620\ttest: 50117.9923038\tbest: 50117.9923038 (400)\ttotal: 16.3s\tremaining: 1m 5s\n",
            "500:\tlearn: 45234.2969849\ttest: 49881.3938215\tbest: 49881.3938215 (500)\ttotal: 20.4s\tremaining: 1m 1s\n",
            "600:\tlearn: 44347.9869275\ttest: 49673.5461570\tbest: 49673.5461570 (600)\ttotal: 24.5s\tremaining: 57.1s\n",
            "700:\tlearn: 43545.1631412\ttest: 49514.6031648\tbest: 49513.7285175 (699)\ttotal: 28.7s\tremaining: 53.2s\n",
            "800:\tlearn: 42800.5129064\ttest: 49403.4540326\tbest: 49403.4540326 (800)\ttotal: 32.8s\tremaining: 49.1s\n",
            "900:\tlearn: 42167.4814621\ttest: 49322.6356343\tbest: 49322.6356343 (900)\ttotal: 36.9s\tremaining: 45s\n",
            "1000:\tlearn: 41577.1699292\ttest: 49256.5316255\tbest: 49256.5316255 (1000)\ttotal: 41s\tremaining: 40.9s\n",
            "1100:\tlearn: 41009.9027274\ttest: 49181.3683207\tbest: 49181.3683207 (1100)\ttotal: 45.1s\tremaining: 36.8s\n",
            "1200:\tlearn: 40471.2096309\ttest: 49131.9434723\tbest: 49131.7776817 (1196)\ttotal: 49.1s\tremaining: 32.7s\n",
            "1300:\tlearn: 39986.2172531\ttest: 49072.4495382\tbest: 49072.4495382 (1300)\ttotal: 53.3s\tremaining: 28.6s\n",
            "1400:\tlearn: 39507.8139729\ttest: 49042.3543941\tbest: 49042.1384726 (1399)\ttotal: 57.4s\tremaining: 24.6s\n",
            "1500:\tlearn: 39059.2284606\ttest: 49005.1381825\tbest: 49005.1381825 (1500)\ttotal: 1m 1s\tremaining: 20.5s\n",
            "1600:\tlearn: 38647.4727808\ttest: 48965.0296841\tbest: 48965.0296841 (1600)\ttotal: 1m 5s\tremaining: 16.4s\n",
            "1700:\tlearn: 38230.8167470\ttest: 48926.7252311\tbest: 48926.7252311 (1700)\ttotal: 1m 9s\tremaining: 12.3s\n",
            "1800:\tlearn: 37846.9072183\ttest: 48886.9745081\tbest: 48885.9969883 (1790)\ttotal: 1m 14s\tremaining: 8.19s\n",
            "1900:\tlearn: 37452.5885812\ttest: 48848.4115250\tbest: 48848.4115250 (1900)\ttotal: 1m 18s\tremaining: 4.08s\n",
            "1999:\tlearn: 37107.0769277\ttest: 48817.0380727\tbest: 48816.9129277 (1998)\ttotal: 1m 22s\tremaining: 0us\n",
            "bestTest = 48816.91293\n",
            "bestIteration = 1998\n",
            "Shrink model to first 1999 iterations.\n"
          ]
        },
        {
          "name": "stderr",
          "output_type": "stream",
          "text": [
            "\u001b[32m[I 2024-02-18 23:41:31,256]\u001b[0m Trial 2 finished with value: 28427.37445150974 and parameters: {'learning_rate': 0.022987960149238724, 'objective': 'RMSE', 'l2_leaf_reg': 3.4963948440006245, 'depth': 9, 'random_strength': 4.738304627933806}. Best is trial 0 with value: 28322.431089372192.\u001b[0m\n"
          ]
        },
        {
          "name": "stdout",
          "output_type": "stream",
          "text": [
            "0:\tlearn: 84784.4081892\ttest: 86283.1781387\tbest: 86283.1781387 (0)\ttotal: 57.8ms\tremaining: 1m 55s\n",
            "100:\tlearn: 46497.7831222\ttest: 50745.0187750\tbest: 50745.0187750 (100)\ttotal: 6.43s\tremaining: 2m\n",
            "200:\tlearn: 43070.2739176\ttest: 49976.8244718\tbest: 49976.8244718 (200)\ttotal: 12.9s\tremaining: 1m 55s\n",
            "300:\tlearn: 40409.5067956\ttest: 49556.6995730\tbest: 49556.6995730 (300)\ttotal: 19.2s\tremaining: 1m 48s\n",
            "400:\tlearn: 38443.7339619\ttest: 49353.6409234\tbest: 49353.6409234 (400)\ttotal: 25.6s\tremaining: 1m 42s\n",
            "500:\tlearn: 36783.2672023\ttest: 49257.9427705\tbest: 49257.9427705 (500)\ttotal: 32s\tremaining: 1m 35s\n",
            "600:\tlearn: 35451.8621140\ttest: 49190.5181761\tbest: 49189.1547762 (589)\ttotal: 38.5s\tremaining: 1m 29s\n",
            "700:\tlearn: 34201.5796688\ttest: 49117.2218548\tbest: 49117.2218548 (700)\ttotal: 44.9s\tremaining: 1m 23s\n",
            "800:\tlearn: 33101.6257167\ttest: 49051.0707402\tbest: 49049.7975693 (797)\ttotal: 51.5s\tremaining: 1m 17s\n",
            "900:\tlearn: 32109.3481956\ttest: 49006.9056154\tbest: 49006.9056154 (900)\ttotal: 58s\tremaining: 1m 10s\n",
            "1000:\tlearn: 31241.9530982\ttest: 48972.1769000\tbest: 48971.6973096 (988)\ttotal: 1m 4s\tremaining: 1m 4s\n",
            "1100:\tlearn: 30395.6795566\ttest: 48962.7477892\tbest: 48953.7689005 (1064)\ttotal: 1m 11s\tremaining: 58s\n",
            "bestTest = 48953.7689\n",
            "bestIteration = 1064\n",
            "Shrink model to first 1065 iterations.\n"
          ]
        },
        {
          "name": "stderr",
          "output_type": "stream",
          "text": [
            "\u001b[32m[I 2024-02-18 23:42:48,524]\u001b[0m Trial 3 finished with value: 28515.607152931363 and parameters: {'learning_rate': 0.06841916908098711, 'objective': 'RMSE', 'l2_leaf_reg': 9.204659616625058, 'depth': 11, 'random_strength': 4.91744135564751}. Best is trial 0 with value: 28322.431089372192.\u001b[0m\n"
          ]
        },
        {
          "name": "stdout",
          "output_type": "stream",
          "text": [
            "0:\tlearn: 86850.5633190\ttest: 88361.3677528\tbest: 88361.3677528 (0)\ttotal: 57.8ms\tremaining: 1m 55s\n",
            "100:\tlearn: 49655.9730704\ttest: 52376.9845264\tbest: 52376.9845264 (100)\ttotal: 6.32s\tremaining: 1m 58s\n",
            "200:\tlearn: 46685.7626764\ttest: 50862.3704506\tbest: 50862.3704506 (200)\ttotal: 12.6s\tremaining: 1m 53s\n",
            "300:\tlearn: 44803.7458355\ttest: 50387.8269570\tbest: 50387.3096486 (299)\ttotal: 19.2s\tremaining: 1m 48s\n",
            "400:\tlearn: 43283.8248956\ttest: 50063.2200967\tbest: 50063.2200967 (400)\ttotal: 25.8s\tremaining: 1m 42s\n",
            "500:\tlearn: 41839.9483370\ttest: 49798.4559096\tbest: 49798.2432665 (499)\ttotal: 32.2s\tremaining: 1m 36s\n",
            "600:\tlearn: 40595.3712753\ttest: 49576.6965370\tbest: 49576.6965370 (600)\ttotal: 38.6s\tremaining: 1m 29s\n",
            "700:\tlearn: 39551.1914695\ttest: 49455.9538748\tbest: 49455.9538748 (700)\ttotal: 45s\tremaining: 1m 23s\n",
            "800:\tlearn: 38581.2170335\ttest: 49347.8254767\tbest: 49347.5888830 (798)\ttotal: 51.4s\tremaining: 1m 16s\n",
            "900:\tlearn: 37710.4947232\ttest: 49267.6763644\tbest: 49267.6763644 (900)\ttotal: 57.8s\tremaining: 1m 10s\n",
            "1000:\tlearn: 36913.1985420\ttest: 49179.2731369\tbest: 49177.3324588 (997)\ttotal: 1m 4s\tremaining: 1m 4s\n",
            "1100:\tlearn: 36157.7357920\ttest: 49123.0286739\tbest: 49122.0116319 (1098)\ttotal: 1m 10s\tremaining: 57.9s\n",
            "1200:\tlearn: 35486.0682144\ttest: 49067.5912868\tbest: 49067.5912868 (1200)\ttotal: 1m 17s\tremaining: 51.4s\n",
            "1300:\tlearn: 34859.9107274\ttest: 49013.6478696\tbest: 49013.6478696 (1300)\ttotal: 1m 23s\tremaining: 45.1s\n",
            "1400:\tlearn: 34264.2727649\ttest: 48966.4048696\tbest: 48966.1109824 (1399)\ttotal: 1m 30s\tremaining: 38.7s\n",
            "1500:\tlearn: 33701.4182737\ttest: 48929.5387577\tbest: 48927.5021580 (1496)\ttotal: 1m 36s\tremaining: 32.2s\n",
            "1600:\tlearn: 33152.1685717\ttest: 48905.9239768\tbest: 48904.6331472 (1595)\ttotal: 1m 43s\tremaining: 25.8s\n",
            "1700:\tlearn: 32607.8940071\ttest: 48873.7985637\tbest: 48873.3096745 (1699)\ttotal: 1m 50s\tremaining: 19.4s\n",
            "1800:\tlearn: 32126.0541274\ttest: 48849.6121286\tbest: 48849.6121286 (1800)\ttotal: 1m 56s\tremaining: 12.9s\n",
            "1900:\tlearn: 31659.8026547\ttest: 48826.7761475\tbest: 48825.3414189 (1898)\ttotal: 2m 3s\tremaining: 6.43s\n",
            "1999:\tlearn: 31222.3133181\ttest: 48804.8808277\tbest: 48804.8808277 (1999)\ttotal: 2m 9s\tremaining: 0us\n",
            "bestTest = 48804.88083\n",
            "bestIteration = 1999\n"
          ]
        },
        {
          "name": "stderr",
          "output_type": "stream",
          "text": [
            "\u001b[32m[I 2024-02-18 23:45:01,373]\u001b[0m Trial 4 finished with value: 28411.337294879053 and parameters: {'learning_rate': 0.02789822563112248, 'objective': 'RMSE', 'l2_leaf_reg': 5.840360903481196, 'depth': 11, 'random_strength': 4.4418765433066785}. Best is trial 0 with value: 28322.431089372192.\u001b[0m\n"
          ]
        }
      ],
      "source": [
        "# study = optuna.create_study(direction=\"minimize\")\n",
        "# study.optimize(objective, n_trials=5)"
      ]
    },
    {
      "cell_type": "code",
      "execution_count": null,
      "metadata": {
        "id": "3xRK6vXhVTfv",
        "colab": {
          "base_uri": "https://localhost:8080/"
        },
        "outputId": "435f3c40-ab77-4013-b7bf-94f6354323a3"
      },
      "outputs": [
        {
          "output_type": "stream",
          "name": "stdout",
          "text": [
            "0:\tlearn: 107110.7828224\ttest: 107220.6265188\tbest: 107220.6265188 (0)\ttotal: 71.5ms\tremaining: 11m 54s\n",
            "100:\tlearn: 58823.3606822\ttest: 61190.2829326\tbest: 61190.2829326 (100)\ttotal: 6.15s\tremaining: 10m 2s\n",
            "200:\tlearn: 52692.8964598\ttest: 56794.1943311\tbest: 56794.1943311 (200)\ttotal: 9.84s\tremaining: 7m 59s\n",
            "300:\tlearn: 48489.7785609\ttest: 53786.0115306\tbest: 53786.0115306 (300)\ttotal: 13.5s\tremaining: 7m 15s\n",
            "400:\tlearn: 45350.0083648\ttest: 51579.5219404\tbest: 51579.5219404 (400)\ttotal: 20.7s\tremaining: 8m 15s\n",
            "500:\tlearn: 42750.7812706\ttest: 49735.2818099\tbest: 49735.2818099 (500)\ttotal: 24.3s\tremaining: 7m 41s\n",
            "600:\tlearn: 40676.3799522\ttest: 48260.6554435\tbest: 48260.6554435 (600)\ttotal: 28.1s\tremaining: 7m 19s\n",
            "700:\tlearn: 39039.3624332\ttest: 47145.9312674\tbest: 47145.9312674 (700)\ttotal: 33.9s\tremaining: 7m 29s\n",
            "800:\tlearn: 37576.4039053\ttest: 46149.9713832\tbest: 46149.9713832 (800)\ttotal: 40.1s\tremaining: 7m 40s\n",
            "900:\tlearn: 36326.5777810\ttest: 45329.2892925\tbest: 45329.2892925 (900)\ttotal: 51.8s\tremaining: 8m 42s\n",
            "1000:\tlearn: 35108.5532423\ttest: 44536.5659435\tbest: 44536.5659435 (1000)\ttotal: 55.5s\tremaining: 8m 19s\n",
            "1100:\tlearn: 34008.3025031\ttest: 43831.0620967\tbest: 43831.0620967 (1100)\ttotal: 1m 1s\tremaining: 8m 18s\n",
            "1200:\tlearn: 33038.6121762\ttest: 43222.4191485\tbest: 43222.4191485 (1200)\ttotal: 1m 5s\tremaining: 8m\n",
            "1300:\tlearn: 32088.1059190\ttest: 42618.8838660\tbest: 42618.8838660 (1300)\ttotal: 1m 9s\tremaining: 7m 44s\n",
            "1400:\tlearn: 31259.7410292\ttest: 42107.9766619\tbest: 42107.9766619 (1400)\ttotal: 1m 15s\tremaining: 7m 41s\n",
            "1500:\tlearn: 30533.0337418\ttest: 41643.8697433\tbest: 41643.8697433 (1500)\ttotal: 1m 18s\tremaining: 7m 27s\n",
            "1600:\tlearn: 29883.1182324\ttest: 41263.0579390\tbest: 41263.0579390 (1600)\ttotal: 1m 23s\tremaining: 7m 17s\n",
            "1700:\tlearn: 29188.0811561\ttest: 40880.2480815\tbest: 40880.2480815 (1700)\ttotal: 1m 28s\tremaining: 7m 13s\n",
            "1800:\tlearn: 28557.7540326\ttest: 40552.6441447\tbest: 40552.6441447 (1800)\ttotal: 1m 32s\tremaining: 7m 1s\n",
            "1900:\tlearn: 27951.5599850\ttest: 40215.6271150\tbest: 40215.6271150 (1900)\ttotal: 1m 38s\tremaining: 7m\n",
            "2000:\tlearn: 27367.8357451\ttest: 39917.5011337\tbest: 39917.5011337 (2000)\ttotal: 1m 42s\tremaining: 6m 50s\n",
            "2100:\tlearn: 26809.1812225\ttest: 39621.6143358\tbest: 39621.6143358 (2100)\ttotal: 1m 46s\tremaining: 6m 41s\n",
            "2200:\tlearn: 26314.4286314\ttest: 39390.5145199\tbest: 39390.5145199 (2200)\ttotal: 1m 52s\tremaining: 6m 38s\n",
            "2300:\tlearn: 25860.0967734\ttest: 39175.2092267\tbest: 39175.2092267 (2300)\ttotal: 1m 56s\tremaining: 6m 29s\n",
            "2400:\tlearn: 25413.3235318\ttest: 38983.7225307\tbest: 38983.7225307 (2400)\ttotal: 2m\tremaining: 6m 21s\n",
            "2500:\tlearn: 24965.2514718\ttest: 38780.7151097\tbest: 38780.7151097 (2500)\ttotal: 2m 6s\tremaining: 6m 18s\n",
            "2600:\tlearn: 24551.1144922\ttest: 38602.0385608\tbest: 38602.0385608 (2600)\ttotal: 2m 10s\tremaining: 6m 10s\n",
            "2700:\tlearn: 24102.0413915\ttest: 38394.5455310\tbest: 38394.5455310 (2700)\ttotal: 2m 14s\tremaining: 6m 2s\n",
            "2800:\tlearn: 23687.1653475\ttest: 38244.0348074\tbest: 38244.0348074 (2800)\ttotal: 2m 20s\tremaining: 6m\n",
            "2900:\tlearn: 23326.5617662\ttest: 38122.7075407\tbest: 38122.7075407 (2900)\ttotal: 2m 24s\tremaining: 5m 53s\n",
            "3000:\tlearn: 22961.7140906\ttest: 37984.7532355\tbest: 37984.7532355 (3000)\ttotal: 2m 29s\tremaining: 5m 48s\n",
            "3100:\tlearn: 22601.2669956\ttest: 37846.5508936\tbest: 37846.5508936 (3100)\ttotal: 2m 34s\tremaining: 5m 43s\n",
            "3200:\tlearn: 22298.0610524\ttest: 37723.3128700\tbest: 37723.3128700 (3200)\ttotal: 2m 38s\tremaining: 5m 36s\n",
            "3300:\tlearn: 21976.9121099\ttest: 37604.6369406\tbest: 37604.6369406 (3300)\ttotal: 2m 44s\tremaining: 5m 34s\n",
            "3400:\tlearn: 21680.2334944\ttest: 37478.8655095\tbest: 37478.8655095 (3400)\ttotal: 2m 48s\tremaining: 5m 27s\n",
            "3500:\tlearn: 21396.8811500\ttest: 37376.8207550\tbest: 37376.7196587 (3499)\ttotal: 2m 52s\tremaining: 5m 21s\n",
            "3600:\tlearn: 21108.6097310\ttest: 37270.0767870\tbest: 37269.1249600 (3599)\ttotal: 2m 59s\tremaining: 5m 18s\n",
            "3700:\tlearn: 20829.1077987\ttest: 37151.1872229\tbest: 37151.1872229 (3700)\ttotal: 3m 3s\tremaining: 5m 12s\n",
            "3800:\tlearn: 20568.3286048\ttest: 37068.6769917\tbest: 37068.3133656 (3798)\ttotal: 3m 8s\tremaining: 5m 7s\n",
            "3900:\tlearn: 20313.6129628\ttest: 36993.3987829\tbest: 36993.3987829 (3900)\ttotal: 3m 13s\tremaining: 5m 2s\n",
            "4000:\tlearn: 20070.3333297\ttest: 36913.9613571\tbest: 36913.9613571 (4000)\ttotal: 3m 17s\tremaining: 4m 56s\n",
            "4100:\tlearn: 19815.2889305\ttest: 36820.7078141\tbest: 36820.7078141 (4100)\ttotal: 3m 23s\tremaining: 4m 53s\n",
            "4200:\tlearn: 19574.8443068\ttest: 36732.1095438\tbest: 36731.9759653 (4199)\ttotal: 3m 27s\tremaining: 4m 47s\n",
            "4300:\tlearn: 19345.8751047\ttest: 36669.5139862\tbest: 36669.5139862 (4300)\ttotal: 3m 32s\tremaining: 4m 41s\n",
            "4400:\tlearn: 19134.1945184\ttest: 36601.9811795\tbest: 36601.9811795 (4400)\ttotal: 3m 38s\tremaining: 4m 37s\n",
            "4500:\tlearn: 18903.0147646\ttest: 36537.7503790\tbest: 36537.7503790 (4500)\ttotal: 3m 42s\tremaining: 4m 31s\n",
            "4600:\tlearn: 18697.1257673\ttest: 36482.5066859\tbest: 36482.5066859 (4600)\ttotal: 3m 47s\tremaining: 4m 27s\n",
            "4700:\tlearn: 18510.1941701\ttest: 36437.5029221\tbest: 36437.0370328 (4699)\ttotal: 3m 53s\tremaining: 4m 22s\n",
            "4800:\tlearn: 18314.8304627\ttest: 36386.5494749\tbest: 36386.3076799 (4798)\ttotal: 3m 57s\tremaining: 4m 16s\n",
            "4900:\tlearn: 18140.1570718\ttest: 36339.5537057\tbest: 36339.3038381 (4898)\ttotal: 4m 3s\tremaining: 4m 13s\n",
            "5000:\tlearn: 17963.7624867\ttest: 36292.5468082\tbest: 36292.5468082 (5000)\ttotal: 4m 7s\tremaining: 4m 7s\n",
            "5100:\tlearn: 17789.7886148\ttest: 36243.0888598\tbest: 36243.0888598 (5100)\ttotal: 4m 12s\tremaining: 4m 2s\n",
            "5200:\tlearn: 17617.2677191\ttest: 36189.8545571\tbest: 36189.8545571 (5200)\ttotal: 4m 18s\tremaining: 3m 58s\n",
            "5300:\tlearn: 17458.1469429\ttest: 36151.4589121\tbest: 36151.4589121 (5300)\ttotal: 4m 22s\tremaining: 3m 52s\n",
            "5400:\tlearn: 17292.1618991\ttest: 36110.3174746\tbest: 36110.3174746 (5400)\ttotal: 4m 29s\tremaining: 3m 49s\n",
            "5500:\tlearn: 17142.3302210\ttest: 36080.9058081\tbest: 36080.1258165 (5498)\ttotal: 4m 33s\tremaining: 3m 43s\n",
            "5600:\tlearn: 16993.6214753\ttest: 36049.0406004\tbest: 36049.0406004 (5600)\ttotal: 4m 37s\tremaining: 3m 38s\n",
            "5700:\tlearn: 16858.4897831\ttest: 36013.9245175\tbest: 36013.3356968 (5695)\ttotal: 4m 44s\tremaining: 3m 34s\n",
            "5800:\tlearn: 16731.8547279\ttest: 35983.0924456\tbest: 35983.0924456 (5800)\ttotal: 4m 48s\tremaining: 3m 28s\n",
            "5900:\tlearn: 16579.1150617\ttest: 35938.7814952\tbest: 35938.7814952 (5900)\ttotal: 4m 55s\tremaining: 3m 24s\n",
            "6000:\tlearn: 16447.6786496\ttest: 35905.4252205\tbest: 35905.4252205 (6000)\ttotal: 4m 59s\tremaining: 3m 19s\n",
            "6100:\tlearn: 16314.0630868\ttest: 35874.0046893\tbest: 35874.0046893 (6100)\ttotal: 5m 3s\tremaining: 3m 14s\n",
            "6200:\tlearn: 16187.1198075\ttest: 35852.3140520\tbest: 35852.3140520 (6200)\ttotal: 5m 10s\tremaining: 3m 10s\n",
            "6300:\tlearn: 16051.9926676\ttest: 35825.0740575\tbest: 35824.3278529 (6298)\ttotal: 5m 14s\tremaining: 3m 4s\n",
            "6400:\tlearn: 15932.9269537\ttest: 35800.0582860\tbest: 35800.0582860 (6400)\ttotal: 5m 21s\tremaining: 3m\n",
            "6500:\tlearn: 15816.8591068\ttest: 35779.2827797\tbest: 35779.0557962 (6499)\ttotal: 5m 25s\tremaining: 2m 55s\n",
            "6600:\tlearn: 15704.2269081\ttest: 35748.8162802\tbest: 35748.6064571 (6599)\ttotal: 5m 30s\tremaining: 2m 49s\n",
            "6700:\tlearn: 15596.7955258\ttest: 35729.8057225\tbest: 35729.0890980 (6696)\ttotal: 5m 36s\tremaining: 2m 45s\n",
            "6800:\tlearn: 15485.1524902\ttest: 35714.8878123\tbest: 35714.8878123 (6800)\ttotal: 5m 40s\tremaining: 2m 40s\n",
            "6900:\tlearn: 15381.4203789\ttest: 35698.3791220\tbest: 35698.3791220 (6900)\ttotal: 5m 47s\tremaining: 2m 36s\n",
            "7000:\tlearn: 15281.6523893\ttest: 35689.7774265\tbest: 35689.5640958 (6999)\ttotal: 5m 52s\tremaining: 2m 30s\n",
            "7100:\tlearn: 15184.1631843\ttest: 35676.1928274\tbest: 35676.0584571 (7098)\ttotal: 5m 58s\tremaining: 2m 26s\n",
            "7200:\tlearn: 15090.9111830\ttest: 35655.8734479\tbest: 35655.7057846 (7199)\ttotal: 6m 3s\tremaining: 2m 21s\n",
            "7300:\tlearn: 14991.4444177\ttest: 35644.4325755\tbest: 35644.3139078 (7296)\ttotal: 6m 7s\tremaining: 2m 16s\n",
            "7400:\tlearn: 14895.2190681\ttest: 35629.3538708\tbest: 35629.3538708 (7400)\ttotal: 6m 14s\tremaining: 2m 11s\n",
            "7500:\tlearn: 14810.2032875\ttest: 35619.2091871\tbest: 35618.5045878 (7478)\ttotal: 6m 19s\tremaining: 2m 6s\n",
            "7600:\tlearn: 14726.7250510\ttest: 35600.9040852\tbest: 35600.8217084 (7598)\ttotal: 6m 26s\tremaining: 2m 1s\n",
            "7700:\tlearn: 14641.2307278\ttest: 35587.3426127\tbest: 35587.3426127 (7700)\ttotal: 6m 30s\tremaining: 1m 56s\n",
            "7800:\tlearn: 14555.2977892\ttest: 35570.4544534\tbest: 35569.7155918 (7794)\ttotal: 6m 35s\tremaining: 1m 51s\n",
            "7900:\tlearn: 14471.6291449\ttest: 35561.2397823\tbest: 35561.2397823 (7900)\ttotal: 6m 41s\tremaining: 1m 46s\n",
            "8000:\tlearn: 14380.8690248\ttest: 35544.5788099\tbest: 35542.4240361 (7991)\ttotal: 6m 46s\tremaining: 1m 41s\n",
            "8100:\tlearn: 14300.9274902\ttest: 35534.7003678\tbest: 35534.4178595 (8097)\ttotal: 6m 53s\tremaining: 1m 36s\n",
            "8200:\tlearn: 14229.2230641\ttest: 35532.0116867\tbest: 35530.3386974 (8183)\ttotal: 6m 57s\tremaining: 1m 31s\n",
            "8300:\tlearn: 14156.2787482\ttest: 35516.3263032\tbest: 35516.3104238 (8298)\ttotal: 7m 4s\tremaining: 1m 26s\n",
            "8400:\tlearn: 14081.2271418\ttest: 35514.2158682\tbest: 35513.4821888 (8317)\ttotal: 7m 9s\tremaining: 1m 21s\n",
            "8500:\tlearn: 14007.7696123\ttest: 35505.1200307\tbest: 35505.1200307 (8500)\ttotal: 7m 14s\tremaining: 1m 16s\n",
            "8600:\tlearn: 13934.7743673\ttest: 35498.1349677\tbest: 35497.7981503 (8596)\ttotal: 7m 20s\tremaining: 1m 11s\n",
            "8700:\tlearn: 13871.8006731\ttest: 35486.8180596\tbest: 35486.8180596 (8700)\ttotal: 7m 25s\tremaining: 1m 6s\n",
            "8800:\tlearn: 13807.0727618\ttest: 35480.1822770\tbest: 35480.1822770 (8800)\ttotal: 7m 31s\tremaining: 1m 1s\n",
            "8900:\tlearn: 13747.3523417\ttest: 35473.2813362\tbest: 35472.7534965 (8858)\ttotal: 7m 36s\tremaining: 56.4s\n",
            "9000:\tlearn: 13669.2348069\ttest: 35468.1790865\tbest: 35467.5176005 (8998)\ttotal: 7m 43s\tremaining: 51.4s\n",
            "9100:\tlearn: 13608.9753409\ttest: 35458.5147590\tbest: 35458.4288703 (9099)\ttotal: 7m 48s\tremaining: 46.3s\n",
            "9200:\tlearn: 13550.7486703\ttest: 35458.6054190\tbest: 35454.6432001 (9135)\ttotal: 7m 53s\tremaining: 41.1s\n",
            "9300:\tlearn: 13488.5520116\ttest: 35443.1103209\tbest: 35443.1103209 (9300)\ttotal: 7m 59s\tremaining: 36s\n",
            "9400:\tlearn: 13430.6375860\ttest: 35434.2492989\tbest: 35434.1569849 (9397)\ttotal: 8m 4s\tremaining: 30.9s\n",
            "9500:\tlearn: 13373.4170817\ttest: 35432.2915544\tbest: 35432.1976437 (9498)\ttotal: 8m 11s\tremaining: 25.8s\n",
            "9600:\tlearn: 13316.0553334\ttest: 35425.5532218\tbest: 35425.5532218 (9600)\ttotal: 8m 16s\tremaining: 20.6s\n",
            "9700:\tlearn: 13262.2136385\ttest: 35422.7336619\tbest: 35422.6046986 (9697)\ttotal: 8m 23s\tremaining: 15.5s\n",
            "9800:\tlearn: 13213.9732249\ttest: 35417.4983332\tbest: 35416.7483185 (9794)\ttotal: 8m 27s\tremaining: 10.3s\n",
            "9900:\tlearn: 13158.1696155\ttest: 35404.9211468\tbest: 35404.4655640 (9898)\ttotal: 8m 35s\tremaining: 5.15s\n",
            "9999:\tlearn: 13106.2028196\ttest: 35398.5806914\tbest: 35398.1871634 (9993)\ttotal: 8m 39s\tremaining: 0us\n",
            "bestTest = 35398.18716\n",
            "bestIteration = 9993\n",
            "Shrink model to first 9994 iterations.\n"
          ]
        }
      ],
      "source": [
        "params = {'iterations': 10000, 'learning_rate': 0.1, 'objective': 'RMSE', 'l2_leaf_reg': 5.378491402, 'depth': 9, 'random_strength': 2.9149158}\n",
        "# params = {'iterations': 4000, 'learning_rate': 0.07236920007235434, 'objective': 'RMSE', 'l2_leaf_reg': 8.735090362502403, 'depth': 8, 'random_strength': 2.1885107680488995}\n",
        "\n",
        "regression_model = fit_catboost_regressor(x_train[regressor_features], x_val[regressor_features], y_train, y_val, regressor_features_cat, params)\n",
        "regression_model.save_model(\"regression_model_3_my.model\")"
      ]
    },
    {
      "cell_type": "code",
      "execution_count": null,
      "metadata": {
        "colab": {
          "base_uri": "https://localhost:8080/"
        },
        "id": "FlfjVPjDeZtJ",
        "outputId": "e3deace0-3f17-4356-e5f2-f71232e1d7bd"
      },
      "outputs": [
        {
          "output_type": "stream",
          "name": "stdout",
          "text": [
            "20140.937491308825\n"
          ]
        }
      ],
      "source": [
        "x_test['target_bins'] = classifier_model.predict(x_test[classifier_features])\n",
        "pred_test = regression_model.predict(x_test[regressor_features])\n",
        "print(weighted_mean_absolute_error(y_test, pred_test, x_test['w']))"
      ]
    },
    {
      "cell_type": "code",
      "source": [
        "feature_importance = pd.Series(regression_model.get_feature_importance(), x_train[regressor_features].columns)"
      ],
      "metadata": {
        "id": "at8fa9ezmGW8"
      },
      "execution_count": null,
      "outputs": []
    },
    {
      "cell_type": "code",
      "source": [
        "feature_importance"
      ],
      "metadata": {
        "colab": {
          "base_uri": "https://localhost:8080/"
        },
        "id": "3Fr3O5E-mh64",
        "outputId": "58f03a46-5568-4387-e62b-831dd7f3d34f"
      },
      "execution_count": null,
      "outputs": [
        {
          "output_type": "execute_result",
          "data": {
            "text/plain": [
              "accum_rur_amt_cm_avg_div_v2     0.379232\n",
              "avg_6m_building_services        0.651015\n",
              "avg_6m_money_transactions       3.468012\n",
              "avg_6m_personal_services        0.569593\n",
              "avg_6m_transportation           0.817490\n",
              "                                 ...    \n",
              "segment                         5.159063\n",
              "target_bins                    14.774268\n",
              "cl0_prob                        0.996989\n",
              "cl1_prob                        4.485657\n",
              "cl2_prob                        2.439049\n",
              "Length: 68, dtype: float64"
            ]
          },
          "metadata": {},
          "execution_count": 135
        }
      ]
    },
    {
      "cell_type": "markdown",
      "metadata": {
        "id": "FFTgKmy2eZtK"
      },
      "source": [
        "## Использование обученного регрессора"
      ]
    },
    {
      "cell_type": "code",
      "execution_count": null,
      "metadata": {
        "id": "33-dla9GeZtK"
      },
      "outputs": [],
      "source": [
        "# regression_model = CatBoostRegressor()\n",
        "# regression_model.load_model('best_models/regression_model.model')\n",
        "# regressor_features = regression_model.feature_names_\n",
        "# regressor_features_cat = [feat for feat in cat_feats if feat in regressor_features]"
      ]
    },
    {
      "cell_type": "code",
      "execution_count": null,
      "metadata": {
        "colab": {
          "base_uri": "https://localhost:8080/"
        },
        "id": "i3P_8pIDqPoe",
        "outputId": "4c5089c4-a0b8-48e8-988a-50e31e0fa387"
      },
      "outputs": [
        {
          "name": "stdout",
          "output_type": "stream",
          "text": [
            "22587.44454157929\n"
          ]
        }
      ],
      "source": [
        "# x_test['target_bins'] = classifier_model.predict(x_test[classifier_features])\n",
        "# pred_test = regression_model.predict(x_test[regressor_features])\n",
        "# print(weighted_mean_absolute_error(y_test, pred_test, x_test['w']))"
      ]
    },
    {
      "cell_type": "markdown",
      "metadata": {
        "id": "tgi6F9kPeZtK"
      },
      "source": [
        "# Инференс"
      ]
    },
    {
      "cell_type": "code",
      "execution_count": null,
      "metadata": {
        "id": "uan5SwoOOPjF"
      },
      "outputs": [],
      "source": [
        "# test_df['target_bins'] = classifier_model.predict(test_df[classifier_features])\n",
        "test_df['predict'] = regression_model.predict(test_df[regressor_features])\n",
        "test_df[['client_id','predict']].set_index('client_id').to_csv(\"commit_only_me_feats_part_train.csv\", sep=\",\", decimal=\".\")"
      ]
    },
    {
      "cell_type": "code",
      "execution_count": null,
      "metadata": {
        "id": "UsL2rK_LeZtK"
      },
      "outputs": [],
      "source": []
    },
    {
      "cell_type": "markdown",
      "source": [
        "Обучение на всем"
      ],
      "metadata": {
        "id": "xbTemC6Rzv3p"
      }
    },
    {
      "cell_type": "code",
      "source": [
        "params = {\"iterations\": 4000, 'learning_rate': 0.04, 'l2_leaf_reg': 2.911507368, 'depth': 7, 'random_strength': 0.49193290791022337}\n",
        "classifier_model = fit_catboost_classifier(train_df[classifier_features], None, train_df['target_bins'], None, classifier_features_cat, params)\n",
        "classifier_model.save_model(\"classifier_model_all_only_my_feats.model\")"
      ],
      "metadata": {
        "colab": {
          "base_uri": "https://localhost:8080/"
        },
        "id": "e1eW8dUuypPQ",
        "outputId": "74c9a62f-d133-47d0-e85d-a9bfaaddff1e"
      },
      "execution_count": null,
      "outputs": [
        {
          "output_type": "stream",
          "name": "stdout",
          "text": [
            "0:\tlearn: 1.0781660\ttotal: 30ms\tremaining: 2m\n",
            "100:\tlearn: 0.7235997\ttotal: 1.82s\tremaining: 1m 10s\n",
            "200:\tlearn: 0.6860338\ttotal: 3.43s\tremaining: 1m 4s\n",
            "300:\tlearn: 0.6694267\ttotal: 5.82s\tremaining: 1m 11s\n",
            "400:\tlearn: 0.6594136\ttotal: 9.37s\tremaining: 1m 24s\n",
            "500:\tlearn: 0.6517269\ttotal: 11s\tremaining: 1m 16s\n",
            "600:\tlearn: 0.6454547\ttotal: 12.5s\tremaining: 1m 10s\n",
            "700:\tlearn: 0.6400352\ttotal: 14.2s\tremaining: 1m 6s\n",
            "800:\tlearn: 0.6353191\ttotal: 15.7s\tremaining: 1m 2s\n",
            "900:\tlearn: 0.6311339\ttotal: 17.3s\tremaining: 59.5s\n",
            "1000:\tlearn: 0.6270643\ttotal: 20.7s\tremaining: 1m 1s\n",
            "1100:\tlearn: 0.6231511\ttotal: 23s\tremaining: 1m\n",
            "1200:\tlearn: 0.6196150\ttotal: 24.5s\tremaining: 57.2s\n",
            "1300:\tlearn: 0.6163049\ttotal: 26.1s\tremaining: 54.2s\n",
            "1400:\tlearn: 0.6128903\ttotal: 27.7s\tremaining: 51.4s\n",
            "1500:\tlearn: 0.6096339\ttotal: 29.3s\tremaining: 48.8s\n",
            "1600:\tlearn: 0.6063054\ttotal: 30.9s\tremaining: 46.3s\n",
            "1700:\tlearn: 0.6031652\ttotal: 35.2s\tremaining: 47.5s\n",
            "1800:\tlearn: 0.6001406\ttotal: 36.8s\tremaining: 44.9s\n",
            "1900:\tlearn: 0.5970902\ttotal: 38.3s\tremaining: 42.3s\n",
            "2000:\tlearn: 0.5941581\ttotal: 39.9s\tremaining: 39.9s\n",
            "2100:\tlearn: 0.5912293\ttotal: 41.5s\tremaining: 37.5s\n",
            "2200:\tlearn: 0.5883620\ttotal: 43.1s\tremaining: 35.2s\n",
            "2300:\tlearn: 0.5855475\ttotal: 44.7s\tremaining: 33s\n",
            "2400:\tlearn: 0.5828850\ttotal: 48.8s\tremaining: 32.5s\n",
            "2500:\tlearn: 0.5800457\ttotal: 50.4s\tremaining: 30.2s\n",
            "2600:\tlearn: 0.5774324\ttotal: 52s\tremaining: 28s\n",
            "2700:\tlearn: 0.5747073\ttotal: 53.6s\tremaining: 25.8s\n",
            "2800:\tlearn: 0.5720532\ttotal: 55.2s\tremaining: 23.6s\n",
            "2900:\tlearn: 0.5693911\ttotal: 56.8s\tremaining: 21.5s\n",
            "3000:\tlearn: 0.5668485\ttotal: 59.4s\tremaining: 19.8s\n",
            "3100:\tlearn: 0.5642990\ttotal: 1m 2s\tremaining: 18.1s\n",
            "3200:\tlearn: 0.5617001\ttotal: 1m 4s\tremaining: 16s\n",
            "3300:\tlearn: 0.5591347\ttotal: 1m 5s\tremaining: 13.9s\n",
            "3400:\tlearn: 0.5565584\ttotal: 1m 7s\tremaining: 11.9s\n",
            "3500:\tlearn: 0.5540504\ttotal: 1m 8s\tremaining: 9.83s\n",
            "3600:\tlearn: 0.5515770\ttotal: 1m 10s\tremaining: 7.82s\n",
            "3700:\tlearn: 0.5491230\ttotal: 1m 14s\tremaining: 6.03s\n",
            "3800:\tlearn: 0.5466632\ttotal: 1m 16s\tremaining: 3.99s\n",
            "3900:\tlearn: 0.5442241\ttotal: 1m 17s\tremaining: 1.98s\n",
            "3999:\tlearn: 0.5417604\ttotal: 1m 19s\tremaining: 0us\n"
          ]
        }
      ]
    },
    {
      "cell_type": "code",
      "source": [
        "params = {'iterations': 10000, 'learning_rate': 0.1, 'objective': 'RMSE', 'l2_leaf_reg': 5.378491402, 'depth': 9, 'random_strength': 2.9149158}\n",
        "# params = {'iterations': 4000, 'learning_rate': 0.07236920007235434, 'objective': 'RMSE', 'l2_leaf_reg': 8.735090362502403, 'depth': 8, 'random_strength': 2.1885107680488995}\n",
        "\n",
        "regression_model = fit_catboost_regressor(train_df[regressor_features], None, train_df['target'], None, regressor_features_cat, params)\n",
        "regression_model.save_model(\"regression_model_all_only_my_feats.model\")"
      ],
      "metadata": {
        "colab": {
          "base_uri": "https://localhost:8080/"
        },
        "id": "m4NFrMx9yUJR",
        "outputId": "0763dd83-22bd-4494-c81a-1c3d44639885"
      },
      "execution_count": null,
      "outputs": [
        {
          "output_type": "stream",
          "name": "stdout",
          "text": [
            "0:\tlearn: 83352.6176832\ttotal: 70.2ms\tremaining: 11m 42s\n",
            "100:\tlearn: 47341.4727933\ttotal: 6.43s\tremaining: 10m 30s\n",
            "200:\tlearn: 44471.1665517\ttotal: 10.3s\tremaining: 8m 23s\n",
            "300:\tlearn: 42461.3463552\ttotal: 14.3s\tremaining: 7m 40s\n",
            "400:\tlearn: 40837.6863256\ttotal: 20.2s\tremaining: 8m 3s\n",
            "500:\tlearn: 39453.7746590\ttotal: 24.2s\tremaining: 7m 39s\n",
            "600:\tlearn: 38347.4758541\ttotal: 28.2s\tremaining: 7m 21s\n",
            "700:\tlearn: 37322.6789079\ttotal: 34.2s\tremaining: 7m 34s\n",
            "800:\tlearn: 36408.9316877\ttotal: 38.3s\tremaining: 7m 19s\n",
            "900:\tlearn: 35561.1911536\ttotal: 42.8s\tremaining: 7m 12s\n",
            "1000:\tlearn: 34808.3186130\ttotal: 48.4s\tremaining: 7m 14s\n",
            "1100:\tlearn: 34146.3732422\ttotal: 52.4s\tremaining: 7m 3s\n",
            "1200:\tlearn: 33493.8785230\ttotal: 58.6s\tremaining: 7m 9s\n",
            "1300:\tlearn: 32850.6611421\ttotal: 1m 2s\tremaining: 6m 59s\n",
            "1400:\tlearn: 32274.9646877\ttotal: 1m 6s\tremaining: 6m 50s\n",
            "1500:\tlearn: 31704.6765233\ttotal: 1m 12s\tremaining: 6m 51s\n",
            "1600:\tlearn: 31154.0436073\ttotal: 1m 16s\tremaining: 6m 43s\n",
            "1700:\tlearn: 30639.2746890\ttotal: 1m 20s\tremaining: 6m 35s\n",
            "1800:\tlearn: 30149.0820581\ttotal: 1m 27s\tremaining: 6m 37s\n",
            "1900:\tlearn: 29674.0314736\ttotal: 1m 31s\tremaining: 6m 29s\n",
            "2000:\tlearn: 29242.7529157\ttotal: 1m 37s\tremaining: 6m 28s\n",
            "2100:\tlearn: 28786.8102738\ttotal: 1m 41s\tremaining: 6m 22s\n",
            "2200:\tlearn: 28381.9100969\ttotal: 1m 45s\tremaining: 6m 15s\n",
            "2300:\tlearn: 27965.3505378\ttotal: 1m 52s\tremaining: 6m 15s\n",
            "2400:\tlearn: 27572.0185158\ttotal: 1m 56s\tremaining: 6m 8s\n",
            "2500:\tlearn: 27194.7604992\ttotal: 2m\tremaining: 6m 1s\n",
            "2600:\tlearn: 26848.2130119\ttotal: 2m 6s\tremaining: 6m 1s\n",
            "2700:\tlearn: 26505.5432403\ttotal: 2m 11s\tremaining: 5m 54s\n",
            "2800:\tlearn: 26161.5377048\ttotal: 2m 17s\tremaining: 5m 53s\n",
            "2900:\tlearn: 25849.1138294\ttotal: 2m 21s\tremaining: 5m 46s\n",
            "3000:\tlearn: 25519.0296346\ttotal: 2m 25s\tremaining: 5m 40s\n",
            "3100:\tlearn: 25210.7579351\ttotal: 2m 32s\tremaining: 5m 38s\n",
            "3200:\tlearn: 24894.3174097\ttotal: 2m 36s\tremaining: 5m 32s\n",
            "3300:\tlearn: 24609.6103540\ttotal: 2m 40s\tremaining: 5m 25s\n",
            "3400:\tlearn: 24328.1267746\ttotal: 2m 46s\tremaining: 5m 23s\n",
            "3500:\tlearn: 24039.0855704\ttotal: 2m 51s\tremaining: 5m 17s\n",
            "3600:\tlearn: 23755.0732171\ttotal: 2m 57s\tremaining: 5m 15s\n",
            "3700:\tlearn: 23481.5431226\ttotal: 3m 1s\tremaining: 5m 9s\n",
            "3800:\tlearn: 23218.1553154\ttotal: 3m 6s\tremaining: 5m 3s\n",
            "3900:\tlearn: 22973.7832871\ttotal: 3m 12s\tremaining: 5m\n",
            "4000:\tlearn: 22727.8733530\ttotal: 3m 16s\tremaining: 4m 54s\n",
            "4100:\tlearn: 22482.9919708\ttotal: 3m 22s\tremaining: 4m 51s\n",
            "4200:\tlearn: 22262.6695229\ttotal: 3m 27s\tremaining: 4m 46s\n",
            "4300:\tlearn: 22036.7803148\ttotal: 3m 31s\tremaining: 4m 40s\n",
            "4400:\tlearn: 21809.7672625\ttotal: 3m 38s\tremaining: 4m 37s\n",
            "4500:\tlearn: 21585.4604963\ttotal: 3m 42s\tremaining: 4m 32s\n",
            "4600:\tlearn: 21395.1850453\ttotal: 3m 47s\tremaining: 4m 27s\n",
            "4700:\tlearn: 21185.6360644\ttotal: 3m 53s\tremaining: 4m 23s\n",
            "4800:\tlearn: 20996.2803362\ttotal: 3m 57s\tremaining: 4m 17s\n",
            "4900:\tlearn: 20811.0165934\ttotal: 4m 4s\tremaining: 4m 14s\n",
            "5000:\tlearn: 20610.2978699\ttotal: 4m 8s\tremaining: 4m 8s\n",
            "5100:\tlearn: 20436.9377984\ttotal: 4m 13s\tremaining: 4m 3s\n",
            "5200:\tlearn: 20269.1417360\ttotal: 4m 19s\tremaining: 3m 59s\n",
            "5300:\tlearn: 20085.9899054\ttotal: 4m 24s\tremaining: 3m 54s\n",
            "5400:\tlearn: 19911.4952611\ttotal: 4m 30s\tremaining: 3m 50s\n",
            "5500:\tlearn: 19743.1056323\ttotal: 4m 35s\tremaining: 3m 44s\n",
            "5600:\tlearn: 19590.6794328\ttotal: 4m 39s\tremaining: 3m 39s\n",
            "5700:\tlearn: 19436.6891393\ttotal: 4m 46s\tremaining: 3m 35s\n",
            "5800:\tlearn: 19277.9485239\ttotal: 4m 50s\tremaining: 3m 30s\n",
            "5900:\tlearn: 19124.1927302\ttotal: 4m 57s\tremaining: 3m 26s\n",
            "6000:\tlearn: 18973.5477580\ttotal: 5m 1s\tremaining: 3m 20s\n",
            "6100:\tlearn: 18836.6147526\ttotal: 5m 6s\tremaining: 3m 15s\n",
            "6200:\tlearn: 18705.2755098\ttotal: 5m 12s\tremaining: 3m 11s\n",
            "6300:\tlearn: 18571.8474381\ttotal: 5m 17s\tremaining: 3m 6s\n",
            "6400:\tlearn: 18447.5733564\ttotal: 5m 23s\tremaining: 3m 2s\n",
            "6500:\tlearn: 18320.2717104\ttotal: 5m 28s\tremaining: 2m 56s\n",
            "6600:\tlearn: 18191.5760916\ttotal: 5m 34s\tremaining: 2m 52s\n",
            "6700:\tlearn: 18076.8840209\ttotal: 5m 39s\tremaining: 2m 47s\n",
            "6800:\tlearn: 17962.1665061\ttotal: 5m 44s\tremaining: 2m 42s\n",
            "6900:\tlearn: 17845.7245516\ttotal: 5m 51s\tremaining: 2m 37s\n",
            "7000:\tlearn: 17730.3653770\ttotal: 5m 55s\tremaining: 2m 32s\n",
            "7100:\tlearn: 17629.3832212\ttotal: 6m 2s\tremaining: 2m 28s\n",
            "7200:\tlearn: 17520.8125996\ttotal: 6m 7s\tremaining: 2m 22s\n",
            "7300:\tlearn: 17415.7072019\ttotal: 6m 11s\tremaining: 2m 17s\n",
            "7400:\tlearn: 17324.0377552\ttotal: 6m 18s\tremaining: 2m 12s\n",
            "7500:\tlearn: 17224.8984109\ttotal: 6m 23s\tremaining: 2m 7s\n",
            "7600:\tlearn: 17124.4442910\ttotal: 6m 30s\tremaining: 2m 3s\n",
            "7700:\tlearn: 17032.9696029\ttotal: 6m 34s\tremaining: 1m 57s\n",
            "7800:\tlearn: 16948.7027803\ttotal: 6m 41s\tremaining: 1m 53s\n",
            "7900:\tlearn: 16857.0687372\ttotal: 6m 46s\tremaining: 1m 47s\n",
            "8000:\tlearn: 16764.9611776\ttotal: 6m 50s\tremaining: 1m 42s\n",
            "8100:\tlearn: 16675.5721434\ttotal: 6m 57s\tremaining: 1m 37s\n",
            "8200:\tlearn: 16589.9939111\ttotal: 7m 2s\tremaining: 1m 32s\n",
            "8300:\tlearn: 16518.2785010\ttotal: 7m 9s\tremaining: 1m 27s\n",
            "8400:\tlearn: 16440.4580893\ttotal: 7m 13s\tremaining: 1m 22s\n",
            "8500:\tlearn: 16367.8648081\ttotal: 7m 20s\tremaining: 1m 17s\n",
            "8600:\tlearn: 16296.8007652\ttotal: 7m 25s\tremaining: 1m 12s\n",
            "8700:\tlearn: 16226.7639832\ttotal: 7m 30s\tremaining: 1m 7s\n",
            "8800:\tlearn: 16155.6458804\ttotal: 7m 37s\tremaining: 1m 2s\n",
            "8900:\tlearn: 16087.6922306\ttotal: 7m 41s\tremaining: 57s\n",
            "9000:\tlearn: 16028.7073151\ttotal: 7m 49s\tremaining: 52.1s\n",
            "9100:\tlearn: 15959.9758806\ttotal: 7m 53s\tremaining: 46.8s\n",
            "9200:\tlearn: 15895.5663552\ttotal: 8m\tremaining: 41.8s\n",
            "9300:\tlearn: 15829.6463001\ttotal: 8m 5s\tremaining: 36.5s\n",
            "9400:\tlearn: 15760.6715064\ttotal: 8m 10s\tremaining: 31.2s\n",
            "9500:\tlearn: 15698.5233715\ttotal: 8m 17s\tremaining: 26.1s\n",
            "9600:\tlearn: 15639.9437809\ttotal: 8m 22s\tremaining: 20.9s\n",
            "9700:\tlearn: 15590.3921094\ttotal: 8m 29s\tremaining: 15.7s\n",
            "9800:\tlearn: 15530.9090532\ttotal: 8m 34s\tremaining: 10.4s\n",
            "9900:\tlearn: 15471.4000067\ttotal: 8m 41s\tremaining: 5.21s\n",
            "9999:\tlearn: 15418.2698994\ttotal: 8m 46s\tremaining: 0us\n"
          ]
        }
      ]
    },
    {
      "cell_type": "code",
      "source": [
        "test_df['target_bins'] = classifier_model.predict(test_df[classifier_features])\n",
        "test_df['predict'] = regression_model.predict(test_df[regressor_features])\n",
        "test_df[['client_id','predict']].set_index('client_id').to_csv(\"commit_all_only_my_feats.csv\", sep=\",\", decimal=\".\")"
      ],
      "metadata": {
        "id": "s4JPn4bRysRx"
      },
      "execution_count": null,
      "outputs": []
    }
  ],
  "metadata": {
    "colab": {
      "provenance": []
    },
    "kernelspec": {
      "display_name": "Python 3",
      "name": "python3"
    },
    "language_info": {
      "codemirror_mode": {
        "name": "ipython",
        "version": 3
      },
      "file_extension": ".py",
      "mimetype": "text/x-python",
      "name": "python",
      "nbconvert_exporter": "python",
      "pygments_lexer": "ipython3",
      "version": "3.9.18"
    }
  },
  "nbformat": 4,
  "nbformat_minor": 0
}